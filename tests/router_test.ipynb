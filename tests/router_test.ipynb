{
 "cells": [
  {
   "cell_type": "code",
   "id": "initial_id",
   "metadata": {
    "collapsed": true,
    "ExecuteTime": {
     "end_time": "2025-08-21T10:35:02.290665Z",
     "start_time": "2025-08-21T10:35:01.875598Z"
    }
   },
   "source": [
    "from utils.tushare_router import TushareRouter\n",
    "router = TushareRouter(\"../src/utils/tushare_registry.json\")\n",
    "df_basic = router.fetch(fields=[\"name\",\"exchange\",\"curr_type\",\"list_date\"], ts_code=\"600519.SH\")\n"
   ],
   "outputs": [
    {
     "name": "stderr",
     "output_type": "stream",
     "text": [
      "\u001B[32m08-21 18:35:01\u001B[0m | \u001B[1mINFO   \u001B[0m | \u001B[36mutils.tushare_router\u001B[0m:\u001B[36m__init__\u001B[0m | \u001B[1m✅ 已加载字段路由注册表：../src/utils/tushare_registry.json\u001B[0m\n"
     ]
    }
   ],
   "execution_count": 3
  },
  {
   "metadata": {
    "ExecuteTime": {
     "end_time": "2025-08-21T10:35:05.091398Z",
     "start_time": "2025-08-21T10:35:05.086221Z"
    }
   },
   "cell_type": "code",
   "source": "df_basic",
   "id": "b90d1adb725523c8",
   "outputs": [
    {
     "data": {
      "text/plain": [
       "  curr_type exchange list_date  name    ts_code\n",
       "0       CNY      SSE  20010827  贵州茅台  600519.SH"
      ],
      "text/html": [
       "<div>\n",
       "<style scoped>\n",
       "    .dataframe tbody tr th:only-of-type {\n",
       "        vertical-align: middle;\n",
       "    }\n",
       "\n",
       "    .dataframe tbody tr th {\n",
       "        vertical-align: top;\n",
       "    }\n",
       "\n",
       "    .dataframe thead th {\n",
       "        text-align: right;\n",
       "    }\n",
       "</style>\n",
       "<table border=\"1\" class=\"dataframe\">\n",
       "  <thead>\n",
       "    <tr style=\"text-align: right;\">\n",
       "      <th></th>\n",
       "      <th>curr_type</th>\n",
       "      <th>exchange</th>\n",
       "      <th>list_date</th>\n",
       "      <th>name</th>\n",
       "      <th>ts_code</th>\n",
       "    </tr>\n",
       "  </thead>\n",
       "  <tbody>\n",
       "    <tr>\n",
       "      <th>0</th>\n",
       "      <td>CNY</td>\n",
       "      <td>SSE</td>\n",
       "      <td>20010827</td>\n",
       "      <td>贵州茅台</td>\n",
       "      <td>600519.SH</td>\n",
       "    </tr>\n",
       "  </tbody>\n",
       "</table>\n",
       "</div>"
      ]
     },
     "execution_count": 4,
     "metadata": {},
     "output_type": "execute_result"
    }
   ],
   "execution_count": 4
  },
  {
   "metadata": {
    "ExecuteTime": {
     "end_time": "2025-08-21T10:37:00.514035Z",
     "start_time": "2025-08-21T10:36:59.077957Z"
    }
   },
   "cell_type": "code",
   "source": [
    "df_px = router.fetch_price(ts_code=\"600519.SH\", start_date=\"20240101\", end_date=\"20240630\",\n",
    "                           fields=[\"ts_code\",\"name\",\"trade_date\",\"open\",\"close\"], adj=\"qfq\")"
   ],
   "id": "cd5258fe4c1d4167",
   "outputs": [],
   "execution_count": 9
  },
  {
   "metadata": {
    "ExecuteTime": {
     "end_time": "2025-08-21T10:37:01.590227Z",
     "start_time": "2025-08-21T10:37:01.585067Z"
    }
   },
   "cell_type": "code",
   "source": "df_px",
   "id": "cfa9fe2596abd41a",
   "outputs": [
    {
     "data": {
      "text/plain": [
       "       ts_code trade_date     open    close\n",
       "0    600519.SH   20240628  1480.00  1467.39\n",
       "1    600519.SH   20240627  1492.00  1490.49\n",
       "2    600519.SH   20240626  1480.00  1489.22\n",
       "3    600519.SH   20240625  1477.09  1486.74\n",
       "4    600519.SH   20240624  1423.07  1476.62\n",
       "..         ...        ...      ...      ...\n",
       "112  600519.SH   20240108  1627.37  1610.70\n",
       "113  600519.SH   20240105  1627.69  1629.68\n",
       "114  600519.SH   20240104  1658.72  1635.20\n",
       "115  600519.SH   20240103  1647.07  1659.70\n",
       "116  600519.SH   20240102  1680.27  1650.89\n",
       "\n",
       "[117 rows x 4 columns]"
      ],
      "text/html": [
       "<div>\n",
       "<style scoped>\n",
       "    .dataframe tbody tr th:only-of-type {\n",
       "        vertical-align: middle;\n",
       "    }\n",
       "\n",
       "    .dataframe tbody tr th {\n",
       "        vertical-align: top;\n",
       "    }\n",
       "\n",
       "    .dataframe thead th {\n",
       "        text-align: right;\n",
       "    }\n",
       "</style>\n",
       "<table border=\"1\" class=\"dataframe\">\n",
       "  <thead>\n",
       "    <tr style=\"text-align: right;\">\n",
       "      <th></th>\n",
       "      <th>ts_code</th>\n",
       "      <th>trade_date</th>\n",
       "      <th>open</th>\n",
       "      <th>close</th>\n",
       "    </tr>\n",
       "  </thead>\n",
       "  <tbody>\n",
       "    <tr>\n",
       "      <th>0</th>\n",
       "      <td>600519.SH</td>\n",
       "      <td>20240628</td>\n",
       "      <td>1480.00</td>\n",
       "      <td>1467.39</td>\n",
       "    </tr>\n",
       "    <tr>\n",
       "      <th>1</th>\n",
       "      <td>600519.SH</td>\n",
       "      <td>20240627</td>\n",
       "      <td>1492.00</td>\n",
       "      <td>1490.49</td>\n",
       "    </tr>\n",
       "    <tr>\n",
       "      <th>2</th>\n",
       "      <td>600519.SH</td>\n",
       "      <td>20240626</td>\n",
       "      <td>1480.00</td>\n",
       "      <td>1489.22</td>\n",
       "    </tr>\n",
       "    <tr>\n",
       "      <th>3</th>\n",
       "      <td>600519.SH</td>\n",
       "      <td>20240625</td>\n",
       "      <td>1477.09</td>\n",
       "      <td>1486.74</td>\n",
       "    </tr>\n",
       "    <tr>\n",
       "      <th>4</th>\n",
       "      <td>600519.SH</td>\n",
       "      <td>20240624</td>\n",
       "      <td>1423.07</td>\n",
       "      <td>1476.62</td>\n",
       "    </tr>\n",
       "    <tr>\n",
       "      <th>...</th>\n",
       "      <td>...</td>\n",
       "      <td>...</td>\n",
       "      <td>...</td>\n",
       "      <td>...</td>\n",
       "    </tr>\n",
       "    <tr>\n",
       "      <th>112</th>\n",
       "      <td>600519.SH</td>\n",
       "      <td>20240108</td>\n",
       "      <td>1627.37</td>\n",
       "      <td>1610.70</td>\n",
       "    </tr>\n",
       "    <tr>\n",
       "      <th>113</th>\n",
       "      <td>600519.SH</td>\n",
       "      <td>20240105</td>\n",
       "      <td>1627.69</td>\n",
       "      <td>1629.68</td>\n",
       "    </tr>\n",
       "    <tr>\n",
       "      <th>114</th>\n",
       "      <td>600519.SH</td>\n",
       "      <td>20240104</td>\n",
       "      <td>1658.72</td>\n",
       "      <td>1635.20</td>\n",
       "    </tr>\n",
       "    <tr>\n",
       "      <th>115</th>\n",
       "      <td>600519.SH</td>\n",
       "      <td>20240103</td>\n",
       "      <td>1647.07</td>\n",
       "      <td>1659.70</td>\n",
       "    </tr>\n",
       "    <tr>\n",
       "      <th>116</th>\n",
       "      <td>600519.SH</td>\n",
       "      <td>20240102</td>\n",
       "      <td>1680.27</td>\n",
       "      <td>1650.89</td>\n",
       "    </tr>\n",
       "  </tbody>\n",
       "</table>\n",
       "<p>117 rows × 4 columns</p>\n",
       "</div>"
      ]
     },
     "execution_count": 10,
     "metadata": {},
     "output_type": "execute_result"
    }
   ],
   "execution_count": 10
  },
  {
   "metadata": {},
   "cell_type": "code",
   "outputs": [],
   "execution_count": null,
   "source": "",
   "id": "d95290ad14121626"
  }
 ],
 "metadata": {
  "kernelspec": {
   "display_name": "Python 3",
   "language": "python",
   "name": "python3"
  },
  "language_info": {
   "codemirror_mode": {
    "name": "ipython",
    "version": 2
   },
   "file_extension": ".py",
   "mimetype": "text/x-python",
   "name": "python",
   "nbconvert_exporter": "python",
   "pygments_lexer": "ipython2",
   "version": "2.7.6"
  }
 },
 "nbformat": 4,
 "nbformat_minor": 5
}
