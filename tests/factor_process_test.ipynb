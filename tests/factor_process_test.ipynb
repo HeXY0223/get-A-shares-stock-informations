{
 "cells": [
  {
   "cell_type": "code",
   "execution_count": null,
   "id": "initial_id",
   "metadata": {
    "collapsed": true
   },
   "outputs": [],
   "source": [
    ""
   ]
  },
  {
   "metadata": {
    "ExecuteTime": {
     "end_time": "2025-08-20T13:34:40.058602Z",
     "start_time": "2025-08-20T13:34:40.031255Z"
    }
   },
   "cell_type": "code",
   "source": [
    "import pandas as pd\n",
    "\n",
    "# 加载您处理后的数据\n",
    "df = pd.read_csv('../assets/factor_processed.csv', header=None)\n",
    "\n",
    "df.columns = ['ts_code', 'trade_date', 'factor_name', 'factor_value']\n",
    "\n",
    "# 强制转换数据类型以防万一\n",
    "df['trade_date'] = pd.to_datetime(df['trade_date'])\n",
    "df['factor_value'] = pd.to_numeric(df['factor_value'])\n",
    "\n",
    "# 按天、按因子进行分组统计\n",
    "stats_check = df.groupby(['trade_date', 'factor_name'])['factor_value'].agg(['mean', 'std']).reset_index()\n",
    "\n",
    "print(stats_check)\n"
   ],
   "id": "8fee473c51a15b6",
   "outputs": [
    {
     "name": "stdout",
     "output_type": "stream",
     "text": [
      "  trade_date factor_name      mean       std\n",
      "0 2025-08-18     市净率（PB）  0.000790  0.999537\n",
      "1 2025-08-18     市盈率（PE） -0.000629  1.000046\n",
      "2 2025-08-18     市销率（PS）  0.000989  1.000161\n",
      "3 2025-08-19     市净率（PB）  0.000780  0.999506\n",
      "4 2025-08-19     市盈率（PE） -0.000580  1.000059\n",
      "5 2025-08-19     市销率（PS）  0.000878  0.999899\n"
     ]
    }
   ],
   "execution_count": 5
  },
  {
   "metadata": {},
   "cell_type": "code",
   "outputs": [],
   "execution_count": null,
   "source": "",
   "id": "2e3566426cea375"
  }
 ],
 "metadata": {
  "kernelspec": {
   "display_name": "Python 3",
   "language": "python",
   "name": "python3"
  },
  "language_info": {
   "codemirror_mode": {
    "name": "ipython",
    "version": 2
   },
   "file_extension": ".py",
   "mimetype": "text/x-python",
   "name": "python",
   "nbconvert_exporter": "python",
   "pygments_lexer": "ipython2",
   "version": "2.7.6"
  }
 },
 "nbformat": 4,
 "nbformat_minor": 5
}
