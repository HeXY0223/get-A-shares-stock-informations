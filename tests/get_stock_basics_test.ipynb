{
 "cells": [
  {
   "cell_type": "code",
   "id": "initial_id",
   "metadata": {
    "collapsed": true,
    "ExecuteTime": {
     "end_time": "2025-08-06T01:37:29.758228Z",
     "start_time": "2025-08-06T01:37:29.742990Z"
    }
   },
   "source": [
    "def test1(**kwargs):\n",
    "    print(kwargs)\n",
    "    keys, values = zip(*kwargs.items())\n",
    "    print(keys)\n",
    "    print(values)\n",
    "    keys_list = list(keys)\n",
    "    print(keys_list)\n",
    "\n",
    "test1(a=1,b=2,c=3)"
   ],
   "outputs": [
    {
     "name": "stdout",
     "output_type": "stream",
     "text": [
      "{'a': 1, 'b': 2, 'c': 3}\n",
      "('a', 'b', 'c')\n",
      "(1, 2, 3)\n",
      "['a', 'b', 'c']\n"
     ]
    }
   ],
   "execution_count": 4
  },
  {
   "metadata": {
    "ExecuteTime": {
     "end_time": "2025-08-06T02:53:33.724787Z",
     "start_time": "2025-08-06T02:53:30.688220Z"
    }
   },
   "cell_type": "code",
   "source": [
    "import tushare as ts\n",
    "import os\n",
    "from dotenv import load_dotenv\n",
    "import pandas as pd\n",
    "def get_stock_basics():\n",
    "    available_fields_basic = ['ts_code','symbol','name','area','industry','market','list_status','list_date','delist_date']\n",
    "    available_fields_info = ['ts_code','main_business']\n",
    "    load_dotenv()\n",
    "    api_key = os.environ.get(\"API_KEY\")\n",
    "    ts.set_token(api_key)\n",
    "    pro = ts.pro_api()\n",
    "    # print(api_key)\n",
    "    stock_basics = pd.concat([pro.stock_basic(fields=','.join(available_fields_basic),list_status='L'), #上市\n",
    "                             pro.stock_basic(fields=','.join(available_fields_basic),list_status='D'),  #退市\n",
    "                             pro.stock_basic(fields=','.join(available_fields_basic),list_status='P')], #暂停上市\n",
    "                             axis=0\n",
    "                             )\n",
    "    stock_company_info = pro.stock_company(fields=','.join(available_fields_info))\n",
    "    print(len(stock_basics))\n",
    "    print(len(stock_company_info))\n",
    "    basics_code = stock_basics['ts_code'].tolist()\n",
    "    info_code = stock_company_info['ts_code'].tolist()\n",
    "    only_basics = [x for x in basics_code if x not in info_code]\n",
    "    # print(only_basics)\n",
    "    only_info = [x for x in info_code if x not in basics_code]\n",
    "    # print(only_info)\n",
    "    stock_data = pd.merge(stock_basics, stock_company_info, how='left', on='ts_code')\n",
    "    return stock_data\n",
    "get_stock_basics()\n"
   ],
   "id": "f51223d19f1ee8a7",
   "outputs": [
    {
     "name": "stdout",
     "output_type": "stream",
     "text": [
      "5732\n",
      "6044\n"
     ]
    },
    {
     "data": {
      "text/plain": [
       "        ts_code  symbol     name  area industry market list_status list_date  \\\n",
       "0     000001.SZ  000001     平安银行    深圳       银行     主板           L  19910403   \n",
       "1     000002.SZ  000002      万科A    深圳     全国地产     主板           L  19910129   \n",
       "2     000004.SZ  000004    *ST国华    深圳     软件服务     主板           L  19910114   \n",
       "3     000006.SZ  000006     深振业A    深圳     区域地产     主板           L  19920427   \n",
       "4     000007.SZ  000007      全新好    深圳     其他商业     主板           L  19920413   \n",
       "...         ...     ...      ...   ...      ...    ...         ...       ...   \n",
       "5727  688555.SH  688555   退泽达(退)  None     None    科创板           D  20200623   \n",
       "5728  832317.BJ  832317  观典防务(退)  None     None    北交所           D  20200727   \n",
       "5729  833874.BJ  833874  泰祥股份(退)  None     None    北交所           D  20200727   \n",
       "5730  833994.BJ  833994  翰博高新(退)  None     None    北交所           D  20200727   \n",
       "5731  T00018.SH  T00018  上港集箱(退)  None     None   None           D  20000719   \n",
       "\n",
       "     delist_date                  main_business  \n",
       "0           None       主要业务:贷款,拆借,存放等同业业务,债券投资.  \n",
       "1           None                     房地产开发和物业服务  \n",
       "2           None      主要业务:移动互联网游戏业务,移动应用安全服务业务  \n",
       "3           None  主要产品或提供的服务:提供商品住宅,以及提供物业租赁服务.  \n",
       "4           None                主营业务:物业管理和房屋租赁业  \n",
       "...          ...                            ...  \n",
       "5727    20230707                        医药健康信息化  \n",
       "5728    20220426                            NaN  \n",
       "5729    20220718                            NaN  \n",
       "5730    20220725                            NaN  \n",
       "5731    20061020               主要业务:装卸包干,代理,运输.  \n",
       "\n",
       "[5732 rows x 10 columns]"
      ],
      "text/html": [
       "<div>\n",
       "<style scoped>\n",
       "    .dataframe tbody tr th:only-of-type {\n",
       "        vertical-align: middle;\n",
       "    }\n",
       "\n",
       "    .dataframe tbody tr th {\n",
       "        vertical-align: top;\n",
       "    }\n",
       "\n",
       "    .dataframe thead th {\n",
       "        text-align: right;\n",
       "    }\n",
       "</style>\n",
       "<table border=\"1\" class=\"dataframe\">\n",
       "  <thead>\n",
       "    <tr style=\"text-align: right;\">\n",
       "      <th></th>\n",
       "      <th>ts_code</th>\n",
       "      <th>symbol</th>\n",
       "      <th>name</th>\n",
       "      <th>area</th>\n",
       "      <th>industry</th>\n",
       "      <th>market</th>\n",
       "      <th>list_status</th>\n",
       "      <th>list_date</th>\n",
       "      <th>delist_date</th>\n",
       "      <th>main_business</th>\n",
       "    </tr>\n",
       "  </thead>\n",
       "  <tbody>\n",
       "    <tr>\n",
       "      <th>0</th>\n",
       "      <td>000001.SZ</td>\n",
       "      <td>000001</td>\n",
       "      <td>平安银行</td>\n",
       "      <td>深圳</td>\n",
       "      <td>银行</td>\n",
       "      <td>主板</td>\n",
       "      <td>L</td>\n",
       "      <td>19910403</td>\n",
       "      <td>None</td>\n",
       "      <td>主要业务:贷款,拆借,存放等同业业务,债券投资.</td>\n",
       "    </tr>\n",
       "    <tr>\n",
       "      <th>1</th>\n",
       "      <td>000002.SZ</td>\n",
       "      <td>000002</td>\n",
       "      <td>万科A</td>\n",
       "      <td>深圳</td>\n",
       "      <td>全国地产</td>\n",
       "      <td>主板</td>\n",
       "      <td>L</td>\n",
       "      <td>19910129</td>\n",
       "      <td>None</td>\n",
       "      <td>房地产开发和物业服务</td>\n",
       "    </tr>\n",
       "    <tr>\n",
       "      <th>2</th>\n",
       "      <td>000004.SZ</td>\n",
       "      <td>000004</td>\n",
       "      <td>*ST国华</td>\n",
       "      <td>深圳</td>\n",
       "      <td>软件服务</td>\n",
       "      <td>主板</td>\n",
       "      <td>L</td>\n",
       "      <td>19910114</td>\n",
       "      <td>None</td>\n",
       "      <td>主要业务:移动互联网游戏业务,移动应用安全服务业务</td>\n",
       "    </tr>\n",
       "    <tr>\n",
       "      <th>3</th>\n",
       "      <td>000006.SZ</td>\n",
       "      <td>000006</td>\n",
       "      <td>深振业A</td>\n",
       "      <td>深圳</td>\n",
       "      <td>区域地产</td>\n",
       "      <td>主板</td>\n",
       "      <td>L</td>\n",
       "      <td>19920427</td>\n",
       "      <td>None</td>\n",
       "      <td>主要产品或提供的服务:提供商品住宅,以及提供物业租赁服务.</td>\n",
       "    </tr>\n",
       "    <tr>\n",
       "      <th>4</th>\n",
       "      <td>000007.SZ</td>\n",
       "      <td>000007</td>\n",
       "      <td>全新好</td>\n",
       "      <td>深圳</td>\n",
       "      <td>其他商业</td>\n",
       "      <td>主板</td>\n",
       "      <td>L</td>\n",
       "      <td>19920413</td>\n",
       "      <td>None</td>\n",
       "      <td>主营业务:物业管理和房屋租赁业</td>\n",
       "    </tr>\n",
       "    <tr>\n",
       "      <th>...</th>\n",
       "      <td>...</td>\n",
       "      <td>...</td>\n",
       "      <td>...</td>\n",
       "      <td>...</td>\n",
       "      <td>...</td>\n",
       "      <td>...</td>\n",
       "      <td>...</td>\n",
       "      <td>...</td>\n",
       "      <td>...</td>\n",
       "      <td>...</td>\n",
       "    </tr>\n",
       "    <tr>\n",
       "      <th>5727</th>\n",
       "      <td>688555.SH</td>\n",
       "      <td>688555</td>\n",
       "      <td>退泽达(退)</td>\n",
       "      <td>None</td>\n",
       "      <td>None</td>\n",
       "      <td>科创板</td>\n",
       "      <td>D</td>\n",
       "      <td>20200623</td>\n",
       "      <td>20230707</td>\n",
       "      <td>医药健康信息化</td>\n",
       "    </tr>\n",
       "    <tr>\n",
       "      <th>5728</th>\n",
       "      <td>832317.BJ</td>\n",
       "      <td>832317</td>\n",
       "      <td>观典防务(退)</td>\n",
       "      <td>None</td>\n",
       "      <td>None</td>\n",
       "      <td>北交所</td>\n",
       "      <td>D</td>\n",
       "      <td>20200727</td>\n",
       "      <td>20220426</td>\n",
       "      <td>NaN</td>\n",
       "    </tr>\n",
       "    <tr>\n",
       "      <th>5729</th>\n",
       "      <td>833874.BJ</td>\n",
       "      <td>833874</td>\n",
       "      <td>泰祥股份(退)</td>\n",
       "      <td>None</td>\n",
       "      <td>None</td>\n",
       "      <td>北交所</td>\n",
       "      <td>D</td>\n",
       "      <td>20200727</td>\n",
       "      <td>20220718</td>\n",
       "      <td>NaN</td>\n",
       "    </tr>\n",
       "    <tr>\n",
       "      <th>5730</th>\n",
       "      <td>833994.BJ</td>\n",
       "      <td>833994</td>\n",
       "      <td>翰博高新(退)</td>\n",
       "      <td>None</td>\n",
       "      <td>None</td>\n",
       "      <td>北交所</td>\n",
       "      <td>D</td>\n",
       "      <td>20200727</td>\n",
       "      <td>20220725</td>\n",
       "      <td>NaN</td>\n",
       "    </tr>\n",
       "    <tr>\n",
       "      <th>5731</th>\n",
       "      <td>T00018.SH</td>\n",
       "      <td>T00018</td>\n",
       "      <td>上港集箱(退)</td>\n",
       "      <td>None</td>\n",
       "      <td>None</td>\n",
       "      <td>None</td>\n",
       "      <td>D</td>\n",
       "      <td>20000719</td>\n",
       "      <td>20061020</td>\n",
       "      <td>主要业务:装卸包干,代理,运输.</td>\n",
       "    </tr>\n",
       "  </tbody>\n",
       "</table>\n",
       "<p>5732 rows × 10 columns</p>\n",
       "</div>"
      ]
     },
     "execution_count": 24,
     "metadata": {},
     "output_type": "execute_result"
    }
   ],
   "execution_count": 24
  },
  {
   "metadata": {
    "ExecuteTime": {
     "end_time": "2025-08-06T03:38:46.160608Z",
     "start_time": "2025-08-06T03:38:44.323396Z"
    }
   },
   "cell_type": "code",
   "source": [
    "df_uncleaned = get_stock_basics()\n",
    "df = df_uncleaned.astype(object).where(pd.notnull(df_uncleaned), None)"
   ],
   "id": "151587af8b6a42d3",
   "outputs": [
    {
     "name": "stdout",
     "output_type": "stream",
     "text": [
      "5732\n",
      "6044\n"
     ]
    }
   ],
   "execution_count": 58
  },
  {
   "metadata": {
    "ExecuteTime": {
     "end_time": "2025-08-06T03:38:55.078745Z",
     "start_time": "2025-08-06T03:38:55.073878Z"
    }
   },
   "cell_type": "code",
   "source": [
    "print(len(df))\n",
    "cols = [f\"`{col}`\" for col in df.columns]\n",
    "print(cols)\n",
    "cols_str = \", \".join(cols)\n",
    "print(cols_str)\n",
    "placeholders = \", \".join(f\":{col}\" for col in df.columns)\n",
    "print(placeholders)"
   ],
   "id": "51dfd77ca84c26e4",
   "outputs": [
    {
     "name": "stdout",
     "output_type": "stream",
     "text": [
      "5732\n",
      "['`ts_code`', '`symbol`', '`name`', '`area`', '`industry`', '`market`', '`list_status`', '`list_date`', '`delist_date`', '`main_business`']\n",
      "`ts_code`, `symbol`, `name`, `area`, `industry`, `market`, `list_status`, `list_date`, `delist_date`, `main_business`\n",
      ":ts_code, :symbol, :name, :area, :industry, :market, :list_status, :list_date, :delist_date, :main_business\n"
     ]
    }
   ],
   "execution_count": 59
  },
  {
   "metadata": {
    "ExecuteTime": {
     "end_time": "2025-08-06T03:38:56.435641Z",
     "start_time": "2025-08-06T03:38:56.420449Z"
    }
   },
   "cell_type": "code",
   "source": [
    "primary_key = 'ts_code' # 根据您的表结构，主键是 ts_code\n",
    "update_cols = []\n",
    "for col in df.columns:\n",
    "    if col != primary_key:\n",
    "        update_cols.append(f\"`{col}`=VALUES(`{col}`)\")\n",
    "update_str = \", \".join(update_cols)\n",
    "print(update_str)"
   ],
   "id": "b5ff3c413d221dcd",
   "outputs": [
    {
     "name": "stdout",
     "output_type": "stream",
     "text": [
      "`symbol`=VALUES(`symbol`), `name`=VALUES(`name`), `area`=VALUES(`area`), `industry`=VALUES(`industry`), `market`=VALUES(`market`), `list_status`=VALUES(`list_status`), `list_date`=VALUES(`list_date`), `delist_date`=VALUES(`delist_date`), `main_business`=VALUES(`main_business`)\n"
     ]
    }
   ],
   "execution_count": 60
  },
  {
   "metadata": {
    "ExecuteTime": {
     "end_time": "2025-08-06T03:38:58.053244Z",
     "start_time": "2025-08-06T03:38:58.036299Z"
    }
   },
   "cell_type": "code",
   "source": [
    "sql_query = f\"\"\"\n",
    "    INSERT INTO `stock_basic_info` ({cols_str})\n",
    "    VALUES ({placeholders})\n",
    "    ON DUPLICATE KEY UPDATE {update_str}\n",
    "\"\"\"\n",
    "print(sql_query)"
   ],
   "id": "c35515295128dc18",
   "outputs": [
    {
     "name": "stdout",
     "output_type": "stream",
     "text": [
      "\n",
      "    INSERT INTO `stock_basic_info` (`ts_code`, `symbol`, `name`, `area`, `industry`, `market`, `list_status`, `list_date`, `delist_date`, `main_business`)\n",
      "    VALUES (:ts_code, :symbol, :name, :area, :industry, :market, :list_status, :list_date, :delist_date, :main_business)\n",
      "    ON DUPLICATE KEY UPDATE `symbol`=VALUES(`symbol`), `name`=VALUES(`name`), `area`=VALUES(`area`), `industry`=VALUES(`industry`), `market`=VALUES(`market`), `list_status`=VALUES(`list_status`), `list_date`=VALUES(`list_date`), `delist_date`=VALUES(`delist_date`), `main_business`=VALUES(`main_business`)\n",
      "\n"
     ]
    }
   ],
   "execution_count": 61
  },
  {
   "metadata": {
    "ExecuteTime": {
     "end_time": "2025-08-06T03:49:27.119118Z",
     "start_time": "2025-08-06T03:49:27.080460Z"
    }
   },
   "cell_type": "code",
   "source": [
    "data_list_of_dicts = df.to_dict(orient='records')\n",
    "print(data_list_of_dicts[:3])"
   ],
   "id": "f3b0814dcac9f90c",
   "outputs": [
    {
     "name": "stdout",
     "output_type": "stream",
     "text": [
      "[{'ts_code': '000001.SZ', 'symbol': '000001', 'name': '平安银行', 'area': '深圳', 'industry': '银行', 'market': '主板', 'list_status': 'L', 'list_date': '19910403', 'delist_date': None, 'main_business': '主要业务:贷款,拆借,存放等同业业务,债券投资.'}, {'ts_code': '000002.SZ', 'symbol': '000002', 'name': '万科A', 'area': '深圳', 'industry': '全国地产', 'market': '主板', 'list_status': 'L', 'list_date': '19910129', 'delist_date': None, 'main_business': '房地产开发和物业服务'}, {'ts_code': '000004.SZ', 'symbol': '000004', 'name': '*ST国华', 'area': '深圳', 'industry': '软件服务', 'market': '主板', 'list_status': 'L', 'list_date': '19910114', 'delist_date': None, 'main_business': '主要业务:移动互联网游戏业务,移动应用安全服务业务'}]\n"
     ]
    }
   ],
   "execution_count": 77
  },
  {
   "metadata": {
    "ExecuteTime": {
     "end_time": "2025-08-06T03:49:28.833271Z",
     "start_time": "2025-08-06T03:49:28.672331Z"
    }
   },
   "cell_type": "code",
   "source": [
    "import sqlalchemy\n",
    "from src.utils.utils import *\n",
    "engine = easyConnect()\n",
    "try:\n",
    "    with engine.connect() as conn:\n",
    "        with conn.begin() as transaction:\n",
    "            conn.execute(sqlalchemy.text(sql_query), data_list_of_dicts)\n",
    "            transaction.commit()\n",
    "        print(f\"成功向表格 'stock_basic_info' 同步了 {len(df)} 条数据。\")\n",
    "except Exception as e:\n",
    "    print(f\"写入数据库时发生错误:{e}\")"
   ],
   "id": "42b7753abdc2018f",
   "outputs": [
    {
     "name": "stdout",
     "output_type": "stream",
     "text": [
      "成功向表格 'stock_basic_info' 同步了 5732 条数据。\n"
     ]
    }
   ],
   "execution_count": 78
  }
 ],
 "metadata": {
  "kernelspec": {
   "display_name": "Python 3",
   "language": "python",
   "name": "python3"
  },
  "language_info": {
   "codemirror_mode": {
    "name": "ipython",
    "version": 2
   },
   "file_extension": ".py",
   "mimetype": "text/x-python",
   "name": "python",
   "nbconvert_exporter": "python",
   "pygments_lexer": "ipython2",
   "version": "2.7.6"
  }
 },
 "nbformat": 4,
 "nbformat_minor": 5
}
