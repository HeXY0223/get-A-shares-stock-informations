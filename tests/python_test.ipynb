{
 "cells": [
  {
   "cell_type": "code",
   "id": "initial_id",
   "metadata": {
    "collapsed": true,
    "ExecuteTime": {
     "end_time": "2025-08-07T07:41:55.917238Z",
     "start_time": "2025-08-07T07:41:55.914130Z"
    }
   },
   "source": "a = [1,2,3,4,5,6,7,8,9]",
   "outputs": [],
   "execution_count": 2
  },
  {
   "metadata": {
    "ExecuteTime": {
     "end_time": "2025-08-07T07:47:37.231464Z",
     "start_time": "2025-08-07T07:47:37.228070Z"
    }
   },
   "cell_type": "code",
   "source": [
    "for i in range(0,len(a),5):\n",
    "    slices = a[i:i+5]\n",
    "    print(slices)"
   ],
   "id": "55d325839f14dec4",
   "outputs": [
    {
     "name": "stdout",
     "output_type": "stream",
     "text": [
      "[1, 2, 3, 4, 5]\n",
      "[6, 7, 8, 9]\n"
     ]
    }
   ],
   "execution_count": 4
  }
 ],
 "metadata": {
  "kernelspec": {
   "display_name": "Python 3",
   "language": "python",
   "name": "python3"
  },
  "language_info": {
   "codemirror_mode": {
    "name": "ipython",
    "version": 2
   },
   "file_extension": ".py",
   "mimetype": "text/x-python",
   "name": "python",
   "nbconvert_exporter": "python",
   "pygments_lexer": "ipython2",
   "version": "2.7.6"
  }
 },
 "nbformat": 4,
 "nbformat_minor": 5
}
