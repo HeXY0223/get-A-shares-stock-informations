{
 "cells": [
  {
   "metadata": {
    "ExecuteTime": {
     "end_time": "2025-08-08T02:54:10.428693Z",
     "start_time": "2025-08-08T02:54:10.300843Z"
    }
   },
   "cell_type": "code",
   "source": [
    "import sqlalchemy\n",
    "from src.utils.utils import easyConnect\n",
    "engine = easyConnect()\n",
    "conn = engine.connect()"
   ],
   "id": "80a8e1b6518246c2",
   "outputs": [],
   "execution_count": 1
  },
  {
   "metadata": {
    "ExecuteTime": {
     "end_time": "2025-08-05T08:23:53.350807Z",
     "start_time": "2025-08-05T08:23:53.342779Z"
    }
   },
   "cell_type": "code",
   "source": [
    "query = sqlalchemy.text('show tables')\n",
    "result = conn.execute(query)\n",
    "print(result)\n",
    "for row in result:\n",
    "    print(row)"
   ],
   "id": "48d8ec0c5b7e6e68",
   "outputs": [
    {
     "name": "stdout",
     "output_type": "stream",
     "text": [
      "<sqlalchemy.engine.cursor.CursorResult object at 0x000001B03623E278>\n",
      "('index_basic_info',)\n",
      "('stock_basic_info',)\n"
     ]
    }
   ],
   "execution_count": 32
  },
  {
   "metadata": {
    "ExecuteTime": {
     "end_time": "2025-08-05T08:42:49.393408Z",
     "start_time": "2025-08-05T08:42:49.359238Z"
    }
   },
   "cell_type": "code",
   "source": [
    "# create a table\n",
    "meta_data = sqlalchemy.MetaData()\n",
    "table_example = sqlalchemy.Table(\n",
    "    \"person\", meta_data,\n",
    "    sqlalchemy.Column(\"id\", sqlalchemy.Integer, primary_key=True),\n",
    "    sqlalchemy.Column(\"name\", sqlalchemy.String(128)),\n",
    "    sqlalchemy.Column(\"birthday\", sqlalchemy.Date, nullable=False)\n",
    ")\n",
    "meta_data.create_all(engine)"
   ],
   "id": "e448282b6f40543f",
   "outputs": [],
   "execution_count": 43
  },
  {
   "metadata": {
    "ExecuteTime": {
     "end_time": "2025-08-05T08:47:43.505803Z",
     "start_time": "2025-08-05T08:47:43.481385Z"
    }
   },
   "cell_type": "code",
   "source": [
    "# INSERT a record\n",
    "person_insert = table_example.insert()\n",
    "print(person_insert)\n",
    "insert_tom = person_insert.values(name='Tom', birthday='20001010')\n",
    "# another way:\n",
    "# insert_tom = table_example.insert().values(name='Tom',birthday='20001010')\n",
    "result = conn.execute(insert_tom)\n",
    "result = conn.execute(insert_tom) # let's do it 2 times\n",
    "print(result.inserted_primary_key)\n",
    "conn.commit()\n"
   ],
   "id": "55221aa75b3f0b81",
   "outputs": [
    {
     "name": "stdout",
     "output_type": "stream",
     "text": [
      "INSERT INTO person (id, name, birthday) VALUES (:id, :name, :birthday)\n",
      "(2,)\n"
     ]
    }
   ],
   "execution_count": 46
  },
  {
   "metadata": {
    "ExecuteTime": {
     "end_time": "2025-08-05T08:50:43.852951Z",
     "start_time": "2025-08-05T08:50:43.819566Z"
    }
   },
   "cell_type": "code",
   "source": [
    "# insert multiple records\n",
    "conn.execute(person_insert,[\n",
    "    {'name': 'alice', 'birthday': '20011010'},\n",
    "    {'name': 'bob', 'birthday': '20010101'},\n",
    "    {'name': 'carol', 'birthday': '20020101'},\n",
    "])\n",
    "conn.commit()"
   ],
   "id": "8e7effe40ee65675",
   "outputs": [],
   "execution_count": 47
  },
  {
   "metadata": {
    "ExecuteTime": {
     "end_time": "2025-08-05T08:58:39.452834Z",
     "start_time": "2025-08-05T08:58:39.433595Z"
    }
   },
   "cell_type": "code",
   "source": [
    "# SELECT - find data\n",
    "query = table_example.select()\n",
    "result_set = conn.execute(query) # returns an ITERATOR, which can be used only once.\n",
    "for row in result_set:\n",
    "    print(row)\n",
    "result_set = conn.execute(query)\n",
    "for row in result_set:\n",
    "    print(f\"{row[0]}, {row.name}\")\n",
    "result_set = conn.execute(query)\n",
    "result = result_set.fetchall()\n",
    "result"
   ],
   "id": "e53216e2e121bd7",
   "outputs": [
    {
     "name": "stdout",
     "output_type": "stream",
     "text": [
      "(1, 'Tom', datetime.date(2000, 10, 10))\n",
      "(2, 'Tom', datetime.date(2000, 10, 10))\n",
      "(3, 'alice', datetime.date(2001, 10, 10))\n",
      "(4, 'bob', datetime.date(2001, 1, 1))\n",
      "(5, 'carol', datetime.date(2002, 1, 1))\n",
      "1, Tom\n",
      "2, Tom\n",
      "3, alice\n",
      "4, bob\n",
      "5, carol\n"
     ]
    },
    {
     "data": {
      "text/plain": [
       "[(1, 'Tom', datetime.date(2000, 10, 10)),\n",
       " (2, 'Tom', datetime.date(2000, 10, 10)),\n",
       " (3, 'alice', datetime.date(2001, 10, 10)),\n",
       " (4, 'bob', datetime.date(2001, 1, 1)),\n",
       " (5, 'carol', datetime.date(2002, 1, 1))]"
      ]
     },
     "execution_count": 53,
     "metadata": {},
     "output_type": "execute_result"
    }
   ],
   "execution_count": 53
  },
  {
   "metadata": {
    "ExecuteTime": {
     "end_time": "2025-08-05T09:03:07.333783Z",
     "start_time": "2025-08-05T09:03:07.327687Z"
    }
   },
   "cell_type": "code",
   "source": [
    "query = table_example.select().where(table_example.c.birthday > '2001-01-01')\n",
    "result_set_2 = conn.execute(query)\n",
    "for row in result_set_2:\n",
    "    print(row)"
   ],
   "id": "a959653de685e38",
   "outputs": [
    {
     "name": "stdout",
     "output_type": "stream",
     "text": [
      "(3, 'alice', datetime.date(2001, 10, 10))\n",
      "(5, 'carol', datetime.date(2002, 1, 1))\n"
     ]
    }
   ],
   "execution_count": 56
  },
  {
   "metadata": {
    "ExecuteTime": {
     "end_time": "2025-08-05T09:07:05.466640Z",
     "start_time": "2025-08-05T09:07:05.456054Z"
    }
   },
   "cell_type": "code",
   "source": [
    "from sqlalchemy.sql import and_, or_\n",
    "query = table_example.select().where(\n",
    "    or_(table_example.c.birthday > '2001-01-01', # all of the datas match\n",
    "        and_(\n",
    "            table_example.c.id >= 1,\n",
    "            table_example.c.id <= 4\n",
    "        )\n",
    "    )\n",
    ")\n",
    "result_set_3 = conn.execute(query)\n",
    "for row in result_set_3:\n",
    "    print(row)"
   ],
   "id": "edc5f7fafab0f73c",
   "outputs": [
    {
     "name": "stdout",
     "output_type": "stream",
     "text": [
      "(1, 'Tom', datetime.date(2000, 10, 10))\n",
      "(2, 'Tom', datetime.date(2000, 10, 10))\n",
      "(3, 'alice', datetime.date(2001, 10, 10))\n",
      "(4, 'bob', datetime.date(2001, 1, 1))\n",
      "(5, 'carol', datetime.date(2002, 1, 1))\n"
     ]
    }
   ],
   "execution_count": 57
  },
  {
   "metadata": {
    "ExecuteTime": {
     "end_time": "2025-08-05T09:12:43.120858Z",
     "start_time": "2025-08-05T09:12:43.090515Z"
    }
   },
   "cell_type": "code",
   "outputs": [
    {
     "data": {
      "text/plain": [
       "<sqlalchemy.engine.cursor.CursorResult at 0x1b034ad27b8>"
      ]
     },
     "execution_count": 58,
     "metadata": {},
     "output_type": "execute_result"
    }
   ],
   "execution_count": 58,
   "source": [
    "# UPDATE\n",
    "query = sqlalchemy.text('alter table person add column address varchar(128)')\n",
    "result_set_4 = conn.execute(query)\n",
    "result_set_4"
   ],
   "id": "c4dd92810698eaa3"
  },
  {
   "metadata": {
    "ExecuteTime": {
     "end_time": "2025-08-05T09:35:09.947205Z",
     "start_time": "2025-08-05T09:35:09.910301Z"
    }
   },
   "cell_type": "code",
   "source": [
    "reflected_meta_data = sqlalchemy.MetaData()\n",
    "reflected_person_table = sqlalchemy.Table(\n",
    "    \"person\", reflected_meta_data,\n",
    "    autoload_with=engine\n",
    ")\n",
    "update_query = reflected_person_table.update().values(address='aaa')\n",
    "result = conn.execute(update_query)\n",
    "conn.commit()\n",
    "update_query_2 = reflected_person_table.update().values(address='bbb').where(\n",
    "    reflected_person_table.c.id==1\n",
    ")\n",
    "conn.execute(update_query_2)\n",
    "conn.commit()"
   ],
   "id": "3554ed3f35e063c9",
   "outputs": [],
   "execution_count": 73
  },
  {
   "metadata": {
    "ExecuteTime": {
     "end_time": "2025-08-05T09:38:19.439048Z",
     "start_time": "2025-08-05T09:38:19.409136Z"
    }
   },
   "cell_type": "code",
   "source": [
    "# DELETE\n",
    "insert_query = reflected_person_table.insert().values(name='dave', birthday='2003-01-01',\n",
    "                                                      address='ddd')\n",
    "result = conn.execute(insert_query)\n",
    "conn.commit()\n",
    "print(result.inserted_primary_key[0])"
   ],
   "id": "1e182de004826b6",
   "outputs": [
    {
     "name": "stdout",
     "output_type": "stream",
     "text": [
      "7\n"
     ]
    }
   ],
   "execution_count": 75
  },
  {
   "metadata": {
    "ExecuteTime": {
     "end_time": "2025-08-05T09:39:15.987940Z",
     "start_time": "2025-08-05T09:39:15.954068Z"
    }
   },
   "cell_type": "code",
   "source": [
    "delete_query = reflected_person_table.delete().where(\n",
    "    reflected_person_table.c.address == 'ddd'\n",
    ")\n",
    "conn.execute(delete_query)\n",
    "conn.commit()\n"
   ],
   "id": "15afaf13e83a13c8",
   "outputs": [],
   "execution_count": 76
  },
  {
   "metadata": {
    "ExecuteTime": {
     "end_time": "2025-08-08T02:54:17.207236Z",
     "start_time": "2025-08-08T02:54:17.202707Z"
    }
   },
   "cell_type": "code",
   "source": "type(engine)",
   "id": "ed9025329005c0b1",
   "outputs": [
    {
     "data": {
      "text/plain": [
       "sqlalchemy.engine.base.Engine"
      ]
     },
     "execution_count": 2,
     "metadata": {},
     "output_type": "execute_result"
    }
   ],
   "execution_count": 2
  },
  {
   "metadata": {
    "ExecuteTime": {
     "end_time": "2025-08-11T08:41:12.553100Z",
     "start_time": "2025-08-11T08:41:08.795166Z"
    }
   },
   "cell_type": "code",
   "source": [
    "import tushare as ts\n",
    "import pandas as pd\n",
    "from dotenv import load_dotenv\n",
    "import os\n",
    "from utils.utils import *\n",
    "engine=easyConnect()\n",
    "df = pd.read_sql('select adj_factor from  {table_name}'.format(table_name=\n",
    "                                                           'stock_daily_electronic_information'), engine)"
   ],
   "id": "fb08d0d2e2840d8d",
   "outputs": [],
   "execution_count": 2
  },
  {
   "metadata": {
    "ExecuteTime": {
     "end_time": "2025-08-11T08:41:54.052286Z",
     "start_time": "2025-08-11T08:41:54.046880Z"
    }
   },
   "cell_type": "code",
   "source": "df.isnull().sum()",
   "id": "a895c1e51401ad8b",
   "outputs": [
    {
     "data": {
      "text/plain": [
       "adj_factor    0\n",
       "dtype: int64"
      ]
     },
     "execution_count": 6,
     "metadata": {},
     "output_type": "execute_result"
    }
   ],
   "execution_count": 6
  }
 ],
 "metadata": {
  "kernelspec": {
   "display_name": "Python 3",
   "language": "python",
   "name": "python3"
  },
  "language_info": {
   "codemirror_mode": {
    "name": "ipython",
    "version": 2
   },
   "file_extension": ".py",
   "mimetype": "text/x-python",
   "name": "python",
   "nbconvert_exporter": "python",
   "pygments_lexer": "ipython2",
   "version": "2.7.6"
  }
 },
 "nbformat": 4,
 "nbformat_minor": 5
}
