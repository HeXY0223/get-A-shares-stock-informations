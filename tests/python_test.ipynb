{
 "cells": [
  {
   "cell_type": "code",
   "id": "initial_id",
   "metadata": {
    "collapsed": true,
    "ExecuteTime": {
     "end_time": "2025-08-11T02:03:54.834748Z",
     "start_time": "2025-08-11T02:03:54.830307Z"
    }
   },
   "source": [
    "import pandas as pd\n",
    "\n",
    "a = [1,2,3,4,5,6,7,8,9]"
   ],
   "outputs": [],
   "execution_count": 10
  },
  {
   "metadata": {
    "ExecuteTime": {
     "end_time": "2025-08-07T07:47:37.231464Z",
     "start_time": "2025-08-07T07:47:37.228070Z"
    }
   },
   "cell_type": "code",
   "source": [
    "for i in range(0,len(a),5):\n",
    "    slices = a[i:i+5]\n",
    "    print(slices)"
   ],
   "id": "55d325839f14dec4",
   "outputs": [
    {
     "name": "stdout",
     "output_type": "stream",
     "text": [
      "[1, 2, 3, 4, 5]\n",
      "[6, 7, 8, 9]\n"
     ]
    }
   ],
   "execution_count": 4
  },
  {
   "metadata": {
    "ExecuteTime": {
     "end_time": "2025-08-11T01:35:03.537821Z",
     "start_time": "2025-08-11T01:35:03.524332Z"
    }
   },
   "cell_type": "code",
   "source": "df=pd.DataFrame()",
   "id": "35981c6e8604c529",
   "outputs": [],
   "execution_count": 5
  },
  {
   "metadata": {
    "ExecuteTime": {
     "end_time": "2025-08-11T01:35:05.573847Z",
     "start_time": "2025-08-11T01:35:05.569347Z"
    }
   },
   "cell_type": "code",
   "source": "type(df)",
   "id": "dd6e4adacaee6d2d",
   "outputs": [
    {
     "data": {
      "text/plain": [
       "pandas.core.frame.DataFrame"
      ]
     },
     "execution_count": 6,
     "metadata": {},
     "output_type": "execute_result"
    }
   ],
   "execution_count": 6
  },
  {
   "metadata": {
    "ExecuteTime": {
     "end_time": "2025-08-11T01:36:00.193447Z",
     "start_time": "2025-08-11T01:36:00.188184Z"
    }
   },
   "cell_type": "code",
   "source": "df.empty",
   "id": "c3e653999ff69618",
   "outputs": [
    {
     "data": {
      "text/plain": [
       "True"
      ]
     },
     "execution_count": 7,
     "metadata": {},
     "output_type": "execute_result"
    }
   ],
   "execution_count": 7
  },
  {
   "metadata": {
    "ExecuteTime": {
     "end_time": "2025-08-11T02:03:56.218235Z",
     "start_time": "2025-08-11T02:03:56.081908Z"
    }
   },
   "cell_type": "code",
   "source": "df = pd.read_excel('因子组合.xlsx')\n",
   "id": "39d690f5587674aa",
   "outputs": [],
   "execution_count": 11
  },
  {
   "metadata": {
    "ExecuteTime": {
     "end_time": "2025-08-11T02:04:07.207423Z",
     "start_time": "2025-08-11T02:04:07.188936Z"
    }
   },
   "cell_type": "code",
   "source": "df.to_csv('factors.csv')",
   "id": "d4f48f47b2d03b82",
   "outputs": [],
   "execution_count": 12
  }
 ],
 "metadata": {
  "kernelspec": {
   "display_name": "Python 3",
   "language": "python",
   "name": "python3"
  },
  "language_info": {
   "codemirror_mode": {
    "name": "ipython",
    "version": 2
   },
   "file_extension": ".py",
   "mimetype": "text/x-python",
   "name": "python",
   "nbconvert_exporter": "python",
   "pygments_lexer": "ipython2",
   "version": "2.7.6"
  }
 },
 "nbformat": 4,
 "nbformat_minor": 5
}
