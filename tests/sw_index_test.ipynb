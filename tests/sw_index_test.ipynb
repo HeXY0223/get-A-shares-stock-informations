{
 "cells": [
  {
   "cell_type": "code",
   "id": "initial_id",
   "metadata": {
    "collapsed": true,
    "ExecuteTime": {
     "end_time": "2025-08-14T02:37:29.490177Z",
     "start_time": "2025-08-14T02:37:29.485689Z"
    }
   },
   "source": [
    "import pandas as pd\n",
    "import numpy as np\n",
    "from utils.utils import easyPro, easyConnect\n",
    "import tushare as ts\n",
    "from sqlalchemy import create_engine, select, Table, Column, String, MetaData\n",
    "from sqlalchemy.orm import sessionmaker\n",
    "def stock2index(stock_codes: list[str], start_date: str, end_date: str) -> pd.DataFrame:\n",
    "    # 股票代码对应到指数代码\n",
    "    # 需要：数据库中有申万行业分类sw_category\n",
    "    engine = easyConnect()\n",
    "    Session = sessionmaker(bind=engine)\n",
    "    session = Session()\n",
    "    metadata = MetaData()\n",
    "    your_table = Table(\n",
    "        'sw_category', metadata,\n",
    "        Column('ts_code', String(50), primary_key=True),\n",
    "        Column('l3_code', String(50))\n",
    "    )\n",
    "    try:\n",
    "        # 创建查询语句\n",
    "        stmt = select(\n",
    "            your_table.c.ts_code,\n",
    "            your_table.c.l3_code\n",
    "        ).where(\n",
    "            your_table.c.ts_code.in_(stock_codes)\n",
    "        )\n",
    "\n",
    "        # 执行查询\n",
    "        result = session.execute(stmt)\n",
    "\n",
    "        # 构建字典\n",
    "        s2i = {row.ts_code: row.l3_code for row in result}\n",
    "        # 确保所有目标值都有条目（可选）\n",
    "        for item in stock_codes:\n",
    "            if item not in s2i:\n",
    "                s2i[item] = None  # 或设置默认值\n",
    "\n",
    "        print(s2i)\n",
    "\n",
    "    finally:\n",
    "        session.close()  # 确保关闭会话\n",
    "        session.close()  # 确保关闭会话"
   ],
   "outputs": [],
   "execution_count": 24
  },
  {
   "metadata": {
    "ExecuteTime": {
     "end_time": "2025-08-14T02:37:32.057663Z",
     "start_time": "2025-08-14T02:37:32.047706Z"
    }
   },
   "cell_type": "code",
   "source": "stock2index(['000001.SZ', '600519.SH', '300750.SZ'],'20200501','20250501')",
   "id": "f785013ff18ba728",
   "outputs": [
    {
     "name": "stdout",
     "output_type": "stream",
     "text": [
      "{'600519.SH': '851251.SI', '300750.SZ': '857371.SI', '000001.SZ': None}\n"
     ]
    }
   ],
   "execution_count": 25
  },
  {
   "metadata": {
    "ExecuteTime": {
     "end_time": "2025-08-14T02:26:19.279384Z",
     "start_time": "2025-08-14T02:26:18.465488Z"
    }
   },
   "cell_type": "code",
   "source": [
    "pro=easyPro()\n",
    "pro.sw_daily(ts_code='851425.SI')"
   ],
   "id": "ec72c07b73ffb4ed",
   "outputs": [
    {
     "data": {
      "text/plain": [
       "        ts_code trade_date name     open      low     high    close  change  \\\n",
       "0     851425.SI   20250813  纸包装  1994.90  1973.59  2029.20  2006.80   14.07   \n",
       "1     851425.SI   20250812  纸包装  2002.57  1976.91  2030.32  1992.73   -9.69   \n",
       "2     851425.SI   20250811  纸包装  1956.46  1934.92  2019.16  2002.43   53.24   \n",
       "3     851425.SI   20250808  纸包装  1949.00  1922.41  1969.03  1949.19   -0.07   \n",
       "4     851425.SI   20250807  纸包装  1938.49  1922.26  1972.18  1949.26   17.11   \n",
       "...         ...        ...  ...      ...      ...      ...      ...     ...   \n",
       "3995  851425.SI   20090309  纸包装  1105.28  1035.95  1124.12  1067.91  -35.09   \n",
       "3996  851425.SI   20090306  纸包装  1083.88  1066.71  1125.83  1103.00    1.02   \n",
       "3997  851425.SI   20090305  纸包装  1079.05  1049.82  1117.22  1101.98   34.93   \n",
       "3998  851425.SI   20090304  纸包装  1007.60  1006.39  1071.06  1067.05   59.45   \n",
       "3999  851425.SI   20090303  纸包装   989.73   966.00  1031.19  1007.60    1.29   \n",
       "\n",
       "      pct_change      vol    amount     pe    pb   float_mv    total_mv  \n",
       "0           0.71  31344.0  230806.0  41.91  1.97  5108957.0  10732700.0  \n",
       "1          -0.48  35181.0  262148.0  42.58  1.97  5183516.0  11308588.0  \n",
       "2           2.73  38021.0  260184.0  42.79  1.98  5208734.0  11371098.0  \n",
       "3           0.00  27931.0  184069.0  41.57  1.93  5070254.0  11111322.0  \n",
       "4           0.89  30052.0  202964.0  41.56  1.93  5070437.0  11125728.0  \n",
       "...          ...      ...       ...    ...   ...        ...         ...  \n",
       "3995       -3.18   1436.0   11132.0  30.60  3.00   321629.0    889829.0  \n",
       "3996        0.09    963.0   10350.0  32.42  3.10   332196.0    931176.0  \n",
       "3997        3.27   1567.0   14719.0  32.15  3.09   331890.0    926852.0  \n",
       "3998        5.90   1204.0    9866.0  30.79  3.00   321369.0    892545.0  \n",
       "3999        0.13    738.0    6371.0  29.09  2.83   303465.0    842932.0  \n",
       "\n",
       "[4000 rows x 15 columns]"
      ],
      "text/html": [
       "<div>\n",
       "<style scoped>\n",
       "    .dataframe tbody tr th:only-of-type {\n",
       "        vertical-align: middle;\n",
       "    }\n",
       "\n",
       "    .dataframe tbody tr th {\n",
       "        vertical-align: top;\n",
       "    }\n",
       "\n",
       "    .dataframe thead th {\n",
       "        text-align: right;\n",
       "    }\n",
       "</style>\n",
       "<table border=\"1\" class=\"dataframe\">\n",
       "  <thead>\n",
       "    <tr style=\"text-align: right;\">\n",
       "      <th></th>\n",
       "      <th>ts_code</th>\n",
       "      <th>trade_date</th>\n",
       "      <th>name</th>\n",
       "      <th>open</th>\n",
       "      <th>low</th>\n",
       "      <th>high</th>\n",
       "      <th>close</th>\n",
       "      <th>change</th>\n",
       "      <th>pct_change</th>\n",
       "      <th>vol</th>\n",
       "      <th>amount</th>\n",
       "      <th>pe</th>\n",
       "      <th>pb</th>\n",
       "      <th>float_mv</th>\n",
       "      <th>total_mv</th>\n",
       "    </tr>\n",
       "  </thead>\n",
       "  <tbody>\n",
       "    <tr>\n",
       "      <th>0</th>\n",
       "      <td>851425.SI</td>\n",
       "      <td>20250813</td>\n",
       "      <td>纸包装</td>\n",
       "      <td>1994.90</td>\n",
       "      <td>1973.59</td>\n",
       "      <td>2029.20</td>\n",
       "      <td>2006.80</td>\n",
       "      <td>14.07</td>\n",
       "      <td>0.71</td>\n",
       "      <td>31344.0</td>\n",
       "      <td>230806.0</td>\n",
       "      <td>41.91</td>\n",
       "      <td>1.97</td>\n",
       "      <td>5108957.0</td>\n",
       "      <td>10732700.0</td>\n",
       "    </tr>\n",
       "    <tr>\n",
       "      <th>1</th>\n",
       "      <td>851425.SI</td>\n",
       "      <td>20250812</td>\n",
       "      <td>纸包装</td>\n",
       "      <td>2002.57</td>\n",
       "      <td>1976.91</td>\n",
       "      <td>2030.32</td>\n",
       "      <td>1992.73</td>\n",
       "      <td>-9.69</td>\n",
       "      <td>-0.48</td>\n",
       "      <td>35181.0</td>\n",
       "      <td>262148.0</td>\n",
       "      <td>42.58</td>\n",
       "      <td>1.97</td>\n",
       "      <td>5183516.0</td>\n",
       "      <td>11308588.0</td>\n",
       "    </tr>\n",
       "    <tr>\n",
       "      <th>2</th>\n",
       "      <td>851425.SI</td>\n",
       "      <td>20250811</td>\n",
       "      <td>纸包装</td>\n",
       "      <td>1956.46</td>\n",
       "      <td>1934.92</td>\n",
       "      <td>2019.16</td>\n",
       "      <td>2002.43</td>\n",
       "      <td>53.24</td>\n",
       "      <td>2.73</td>\n",
       "      <td>38021.0</td>\n",
       "      <td>260184.0</td>\n",
       "      <td>42.79</td>\n",
       "      <td>1.98</td>\n",
       "      <td>5208734.0</td>\n",
       "      <td>11371098.0</td>\n",
       "    </tr>\n",
       "    <tr>\n",
       "      <th>3</th>\n",
       "      <td>851425.SI</td>\n",
       "      <td>20250808</td>\n",
       "      <td>纸包装</td>\n",
       "      <td>1949.00</td>\n",
       "      <td>1922.41</td>\n",
       "      <td>1969.03</td>\n",
       "      <td>1949.19</td>\n",
       "      <td>-0.07</td>\n",
       "      <td>0.00</td>\n",
       "      <td>27931.0</td>\n",
       "      <td>184069.0</td>\n",
       "      <td>41.57</td>\n",
       "      <td>1.93</td>\n",
       "      <td>5070254.0</td>\n",
       "      <td>11111322.0</td>\n",
       "    </tr>\n",
       "    <tr>\n",
       "      <th>4</th>\n",
       "      <td>851425.SI</td>\n",
       "      <td>20250807</td>\n",
       "      <td>纸包装</td>\n",
       "      <td>1938.49</td>\n",
       "      <td>1922.26</td>\n",
       "      <td>1972.18</td>\n",
       "      <td>1949.26</td>\n",
       "      <td>17.11</td>\n",
       "      <td>0.89</td>\n",
       "      <td>30052.0</td>\n",
       "      <td>202964.0</td>\n",
       "      <td>41.56</td>\n",
       "      <td>1.93</td>\n",
       "      <td>5070437.0</td>\n",
       "      <td>11125728.0</td>\n",
       "    </tr>\n",
       "    <tr>\n",
       "      <th>...</th>\n",
       "      <td>...</td>\n",
       "      <td>...</td>\n",
       "      <td>...</td>\n",
       "      <td>...</td>\n",
       "      <td>...</td>\n",
       "      <td>...</td>\n",
       "      <td>...</td>\n",
       "      <td>...</td>\n",
       "      <td>...</td>\n",
       "      <td>...</td>\n",
       "      <td>...</td>\n",
       "      <td>...</td>\n",
       "      <td>...</td>\n",
       "      <td>...</td>\n",
       "      <td>...</td>\n",
       "    </tr>\n",
       "    <tr>\n",
       "      <th>3995</th>\n",
       "      <td>851425.SI</td>\n",
       "      <td>20090309</td>\n",
       "      <td>纸包装</td>\n",
       "      <td>1105.28</td>\n",
       "      <td>1035.95</td>\n",
       "      <td>1124.12</td>\n",
       "      <td>1067.91</td>\n",
       "      <td>-35.09</td>\n",
       "      <td>-3.18</td>\n",
       "      <td>1436.0</td>\n",
       "      <td>11132.0</td>\n",
       "      <td>30.60</td>\n",
       "      <td>3.00</td>\n",
       "      <td>321629.0</td>\n",
       "      <td>889829.0</td>\n",
       "    </tr>\n",
       "    <tr>\n",
       "      <th>3996</th>\n",
       "      <td>851425.SI</td>\n",
       "      <td>20090306</td>\n",
       "      <td>纸包装</td>\n",
       "      <td>1083.88</td>\n",
       "      <td>1066.71</td>\n",
       "      <td>1125.83</td>\n",
       "      <td>1103.00</td>\n",
       "      <td>1.02</td>\n",
       "      <td>0.09</td>\n",
       "      <td>963.0</td>\n",
       "      <td>10350.0</td>\n",
       "      <td>32.42</td>\n",
       "      <td>3.10</td>\n",
       "      <td>332196.0</td>\n",
       "      <td>931176.0</td>\n",
       "    </tr>\n",
       "    <tr>\n",
       "      <th>3997</th>\n",
       "      <td>851425.SI</td>\n",
       "      <td>20090305</td>\n",
       "      <td>纸包装</td>\n",
       "      <td>1079.05</td>\n",
       "      <td>1049.82</td>\n",
       "      <td>1117.22</td>\n",
       "      <td>1101.98</td>\n",
       "      <td>34.93</td>\n",
       "      <td>3.27</td>\n",
       "      <td>1567.0</td>\n",
       "      <td>14719.0</td>\n",
       "      <td>32.15</td>\n",
       "      <td>3.09</td>\n",
       "      <td>331890.0</td>\n",
       "      <td>926852.0</td>\n",
       "    </tr>\n",
       "    <tr>\n",
       "      <th>3998</th>\n",
       "      <td>851425.SI</td>\n",
       "      <td>20090304</td>\n",
       "      <td>纸包装</td>\n",
       "      <td>1007.60</td>\n",
       "      <td>1006.39</td>\n",
       "      <td>1071.06</td>\n",
       "      <td>1067.05</td>\n",
       "      <td>59.45</td>\n",
       "      <td>5.90</td>\n",
       "      <td>1204.0</td>\n",
       "      <td>9866.0</td>\n",
       "      <td>30.79</td>\n",
       "      <td>3.00</td>\n",
       "      <td>321369.0</td>\n",
       "      <td>892545.0</td>\n",
       "    </tr>\n",
       "    <tr>\n",
       "      <th>3999</th>\n",
       "      <td>851425.SI</td>\n",
       "      <td>20090303</td>\n",
       "      <td>纸包装</td>\n",
       "      <td>989.73</td>\n",
       "      <td>966.00</td>\n",
       "      <td>1031.19</td>\n",
       "      <td>1007.60</td>\n",
       "      <td>1.29</td>\n",
       "      <td>0.13</td>\n",
       "      <td>738.0</td>\n",
       "      <td>6371.0</td>\n",
       "      <td>29.09</td>\n",
       "      <td>2.83</td>\n",
       "      <td>303465.0</td>\n",
       "      <td>842932.0</td>\n",
       "    </tr>\n",
       "  </tbody>\n",
       "</table>\n",
       "<p>4000 rows × 15 columns</p>\n",
       "</div>"
      ]
     },
     "execution_count": 9,
     "metadata": {},
     "output_type": "execute_result"
    }
   ],
   "execution_count": 9
  },
  {
   "metadata": {
    "ExecuteTime": {
     "end_time": "2025-08-14T02:58:16.416441Z",
     "start_time": "2025-08-14T02:58:16.126893Z"
    }
   },
   "cell_type": "code",
   "source": [
    "from utils.utils import easyPro, easyConnect\n",
    "import pandas as pd\n",
    "engine = easyConnect()\n",
    "target_list = ['000001.SZ', '600519.SH', '300750.SZ']  # 替换为实际需要的值\n",
    "# 构建查询语句\n",
    "query = \"\"\"\n",
    "SELECT ts_code, l1_code, l2_code, l3_code\n",
    "FROM sw_category\n",
    "WHERE ts_code IN ({})\n",
    "\"\"\".format(','.join(['%s']*len(target_list)))\n",
    "\n",
    "# 读取数据到 DataFrame\n",
    "df = pd.read_sql(query, engine, params=tuple(target_list))\n",
    "\n",
    "# 创建字典\n",
    "s2i_l1 = df.set_index('ts_code')['l1_code'].to_dict()\n",
    "s2i_l2 = df.set_index('ts_code')['l2_code'].to_dict()\n",
    "s2i_l3 = df.set_index('ts_code')['l3_code'].to_dict()\n",
    "\n",
    "# 添加缺失项\n",
    "for code in target_list:\n",
    "    if code not in s2i_l1:\n",
    "        s2i_l1[code] = None\n",
    "    if code not in s2i_l2:\n",
    "        s2i_l2[code] = None\n",
    "    if code not in s2i_l3:\n",
    "        s2i_l3[code] = None\n"
   ],
   "id": "d78e3225696a045e",
   "outputs": [
    {
     "ename": "TypeError",
     "evalue": "not all arguments converted during string formatting",
     "output_type": "error",
     "traceback": [
      "\u001B[31m---------------------------------------------------------------------------\u001B[39m",
      "\u001B[31mTypeError\u001B[39m                                 Traceback (most recent call last)",
      "\u001B[36mCell\u001B[39m\u001B[36m \u001B[39m\u001B[32mIn[6]\u001B[39m\u001B[32m, line 13\u001B[39m\n\u001B[32m      6\u001B[39m query = \u001B[33m\"\"\"\u001B[39m\n\u001B[32m      7\u001B[39m \u001B[33mSELECT ts_code, l1_code, l2_code, l3_code\u001B[39m\n\u001B[32m      8\u001B[39m \u001B[33mFROM sw_category\u001B[39m\n\u001B[32m      9\u001B[39m \u001B[33mWHERE ts_code IN (\u001B[39m\u001B[38;5;132;01m{}\u001B[39;00m\u001B[33m)\u001B[39m\n\u001B[32m     10\u001B[39m \u001B[33m\"\"\"\u001B[39m.format(\u001B[33m'\u001B[39m\u001B[33m,\u001B[39m\u001B[33m'\u001B[39m.join(target_list))\n\u001B[32m     12\u001B[39m \u001B[38;5;66;03m# 读取数据到 DataFrame\u001B[39;00m\n\u001B[32m---> \u001B[39m\u001B[32m13\u001B[39m df = \u001B[43mpd\u001B[49m\u001B[43m.\u001B[49m\u001B[43mread_sql\u001B[49m\u001B[43m(\u001B[49m\u001B[43mquery\u001B[49m\u001B[43m,\u001B[49m\u001B[43m \u001B[49m\u001B[43mengine\u001B[49m\u001B[43m,\u001B[49m\u001B[43m \u001B[49m\u001B[43mparams\u001B[49m\u001B[43m=\u001B[49m\u001B[38;5;28;43mtuple\u001B[39;49m\u001B[43m(\u001B[49m\u001B[43mtarget_list\u001B[49m\u001B[43m)\u001B[49m\u001B[43m)\u001B[49m\n\u001B[32m     15\u001B[39m \u001B[38;5;66;03m# 创建字典\u001B[39;00m\n\u001B[32m     16\u001B[39m s2i_l1 = df.set_index(\u001B[33m'\u001B[39m\u001B[33mts_code\u001B[39m\u001B[33m'\u001B[39m)[\u001B[33m'\u001B[39m\u001B[33ml1_code\u001B[39m\u001B[33m'\u001B[39m].to_dict()\n",
      "\u001B[36mFile \u001B[39m\u001B[32m~\\anaconda3\\envs\\tushare_3.11\\Lib\\site-packages\\pandas\\io\\sql.py:736\u001B[39m, in \u001B[36mread_sql\u001B[39m\u001B[34m(sql, con, index_col, coerce_float, params, parse_dates, columns, chunksize, dtype_backend, dtype)\u001B[39m\n\u001B[32m    726\u001B[39m     \u001B[38;5;28;01mreturn\u001B[39;00m pandas_sql.read_table(\n\u001B[32m    727\u001B[39m         sql,\n\u001B[32m    728\u001B[39m         index_col=index_col,\n\u001B[32m   (...)\u001B[39m\u001B[32m    733\u001B[39m         dtype_backend=dtype_backend,\n\u001B[32m    734\u001B[39m     )\n\u001B[32m    735\u001B[39m \u001B[38;5;28;01melse\u001B[39;00m:\n\u001B[32m--> \u001B[39m\u001B[32m736\u001B[39m     \u001B[38;5;28;01mreturn\u001B[39;00m \u001B[43mpandas_sql\u001B[49m\u001B[43m.\u001B[49m\u001B[43mread_query\u001B[49m\u001B[43m(\u001B[49m\n\u001B[32m    737\u001B[39m \u001B[43m        \u001B[49m\u001B[43msql\u001B[49m\u001B[43m,\u001B[49m\n\u001B[32m    738\u001B[39m \u001B[43m        \u001B[49m\u001B[43mindex_col\u001B[49m\u001B[43m=\u001B[49m\u001B[43mindex_col\u001B[49m\u001B[43m,\u001B[49m\n\u001B[32m    739\u001B[39m \u001B[43m        \u001B[49m\u001B[43mparams\u001B[49m\u001B[43m=\u001B[49m\u001B[43mparams\u001B[49m\u001B[43m,\u001B[49m\n\u001B[32m    740\u001B[39m \u001B[43m        \u001B[49m\u001B[43mcoerce_float\u001B[49m\u001B[43m=\u001B[49m\u001B[43mcoerce_float\u001B[49m\u001B[43m,\u001B[49m\n\u001B[32m    741\u001B[39m \u001B[43m        \u001B[49m\u001B[43mparse_dates\u001B[49m\u001B[43m=\u001B[49m\u001B[43mparse_dates\u001B[49m\u001B[43m,\u001B[49m\n\u001B[32m    742\u001B[39m \u001B[43m        \u001B[49m\u001B[43mchunksize\u001B[49m\u001B[43m=\u001B[49m\u001B[43mchunksize\u001B[49m\u001B[43m,\u001B[49m\n\u001B[32m    743\u001B[39m \u001B[43m        \u001B[49m\u001B[43mdtype_backend\u001B[49m\u001B[43m=\u001B[49m\u001B[43mdtype_backend\u001B[49m\u001B[43m,\u001B[49m\n\u001B[32m    744\u001B[39m \u001B[43m        \u001B[49m\u001B[43mdtype\u001B[49m\u001B[43m=\u001B[49m\u001B[43mdtype\u001B[49m\u001B[43m,\u001B[49m\n\u001B[32m    745\u001B[39m \u001B[43m    \u001B[49m\u001B[43m)\u001B[49m\n",
      "\u001B[36mFile \u001B[39m\u001B[32m~\\anaconda3\\envs\\tushare_3.11\\Lib\\site-packages\\pandas\\io\\sql.py:1848\u001B[39m, in \u001B[36mSQLDatabase.read_query\u001B[39m\u001B[34m(self, sql, index_col, coerce_float, parse_dates, params, chunksize, dtype, dtype_backend)\u001B[39m\n\u001B[32m   1791\u001B[39m \u001B[38;5;28;01mdef\u001B[39;00m\u001B[38;5;250m \u001B[39m\u001B[34mread_query\u001B[39m(\n\u001B[32m   1792\u001B[39m     \u001B[38;5;28mself\u001B[39m,\n\u001B[32m   1793\u001B[39m     sql: \u001B[38;5;28mstr\u001B[39m,\n\u001B[32m   (...)\u001B[39m\u001B[32m   1800\u001B[39m     dtype_backend: DtypeBackend | Literal[\u001B[33m\"\u001B[39m\u001B[33mnumpy\u001B[39m\u001B[33m\"\u001B[39m] = \u001B[33m\"\u001B[39m\u001B[33mnumpy\u001B[39m\u001B[33m\"\u001B[39m,\n\u001B[32m   1801\u001B[39m ) -> DataFrame | Iterator[DataFrame]:\n\u001B[32m   1802\u001B[39m \u001B[38;5;250m    \u001B[39m\u001B[33;03m\"\"\"\u001B[39;00m\n\u001B[32m   1803\u001B[39m \u001B[33;03m    Read SQL query into a DataFrame.\u001B[39;00m\n\u001B[32m   1804\u001B[39m \n\u001B[32m   (...)\u001B[39m\u001B[32m   1846\u001B[39m \n\u001B[32m   1847\u001B[39m \u001B[33;03m    \"\"\"\u001B[39;00m\n\u001B[32m-> \u001B[39m\u001B[32m1848\u001B[39m     result = \u001B[38;5;28;43mself\u001B[39;49m\u001B[43m.\u001B[49m\u001B[43mexecute\u001B[49m\u001B[43m(\u001B[49m\u001B[43msql\u001B[49m\u001B[43m,\u001B[49m\u001B[43m \u001B[49m\u001B[43mparams\u001B[49m\u001B[43m)\u001B[49m\n\u001B[32m   1849\u001B[39m     columns = result.keys()\n\u001B[32m   1851\u001B[39m     \u001B[38;5;28;01mif\u001B[39;00m chunksize \u001B[38;5;129;01mis\u001B[39;00m \u001B[38;5;129;01mnot\u001B[39;00m \u001B[38;5;28;01mNone\u001B[39;00m:\n",
      "\u001B[36mFile \u001B[39m\u001B[32m~\\anaconda3\\envs\\tushare_3.11\\Lib\\site-packages\\pandas\\io\\sql.py:1671\u001B[39m, in \u001B[36mSQLDatabase.execute\u001B[39m\u001B[34m(self, sql, params)\u001B[39m\n\u001B[32m   1669\u001B[39m args = [] \u001B[38;5;28;01mif\u001B[39;00m params \u001B[38;5;129;01mis\u001B[39;00m \u001B[38;5;28;01mNone\u001B[39;00m \u001B[38;5;28;01melse\u001B[39;00m [params]\n\u001B[32m   1670\u001B[39m \u001B[38;5;28;01mif\u001B[39;00m \u001B[38;5;28misinstance\u001B[39m(sql, \u001B[38;5;28mstr\u001B[39m):\n\u001B[32m-> \u001B[39m\u001B[32m1671\u001B[39m     \u001B[38;5;28;01mreturn\u001B[39;00m \u001B[38;5;28;43mself\u001B[39;49m\u001B[43m.\u001B[49m\u001B[43mcon\u001B[49m\u001B[43m.\u001B[49m\u001B[43mexec_driver_sql\u001B[49m\u001B[43m(\u001B[49m\u001B[43msql\u001B[49m\u001B[43m,\u001B[49m\u001B[43m \u001B[49m\u001B[43m*\u001B[49m\u001B[43margs\u001B[49m\u001B[43m)\u001B[49m\n\u001B[32m   1672\u001B[39m \u001B[38;5;28;01mreturn\u001B[39;00m \u001B[38;5;28mself\u001B[39m.con.execute(sql, *args)\n",
      "\u001B[36mFile \u001B[39m\u001B[32m~\\anaconda3\\envs\\tushare_3.11\\Lib\\site-packages\\sqlalchemy\\engine\\base.py:1773\u001B[39m, in \u001B[36mConnection.exec_driver_sql\u001B[39m\u001B[34m(self, statement, parameters, execution_options)\u001B[39m\n\u001B[32m   1768\u001B[39m execution_options = \u001B[38;5;28mself\u001B[39m._execution_options.merge_with(\n\u001B[32m   1769\u001B[39m     execution_options\n\u001B[32m   1770\u001B[39m )\n\u001B[32m   1772\u001B[39m dialect = \u001B[38;5;28mself\u001B[39m.dialect\n\u001B[32m-> \u001B[39m\u001B[32m1773\u001B[39m ret = \u001B[38;5;28;43mself\u001B[39;49m\u001B[43m.\u001B[49m\u001B[43m_execute_context\u001B[49m\u001B[43m(\u001B[49m\n\u001B[32m   1774\u001B[39m \u001B[43m    \u001B[49m\u001B[43mdialect\u001B[49m\u001B[43m,\u001B[49m\n\u001B[32m   1775\u001B[39m \u001B[43m    \u001B[49m\u001B[43mdialect\u001B[49m\u001B[43m.\u001B[49m\u001B[43mexecution_ctx_cls\u001B[49m\u001B[43m.\u001B[49m\u001B[43m_init_statement\u001B[49m\u001B[43m,\u001B[49m\n\u001B[32m   1776\u001B[39m \u001B[43m    \u001B[49m\u001B[43mstatement\u001B[49m\u001B[43m,\u001B[49m\n\u001B[32m   1777\u001B[39m \u001B[43m    \u001B[49m\u001B[38;5;28;43;01mNone\u001B[39;49;00m\u001B[43m,\u001B[49m\n\u001B[32m   1778\u001B[39m \u001B[43m    \u001B[49m\u001B[43mexecution_options\u001B[49m\u001B[43m,\u001B[49m\n\u001B[32m   1779\u001B[39m \u001B[43m    \u001B[49m\u001B[43mstatement\u001B[49m\u001B[43m,\u001B[49m\n\u001B[32m   1780\u001B[39m \u001B[43m    \u001B[49m\u001B[43mdistilled_parameters\u001B[49m\u001B[43m,\u001B[49m\n\u001B[32m   1781\u001B[39m \u001B[43m\u001B[49m\u001B[43m)\u001B[49m\n\u001B[32m   1783\u001B[39m \u001B[38;5;28;01mreturn\u001B[39;00m ret\n",
      "\u001B[36mFile \u001B[39m\u001B[32m~\\anaconda3\\envs\\tushare_3.11\\Lib\\site-packages\\sqlalchemy\\engine\\base.py:1840\u001B[39m, in \u001B[36mConnection._execute_context\u001B[39m\u001B[34m(self, dialect, constructor, statement, parameters, execution_options, *args, **kw)\u001B[39m\n\u001B[32m   1838\u001B[39m     \u001B[38;5;28;01mreturn\u001B[39;00m \u001B[38;5;28mself\u001B[39m._exec_insertmany_context(dialect, context)\n\u001B[32m   1839\u001B[39m \u001B[38;5;28;01melse\u001B[39;00m:\n\u001B[32m-> \u001B[39m\u001B[32m1840\u001B[39m     \u001B[38;5;28;01mreturn\u001B[39;00m \u001B[38;5;28;43mself\u001B[39;49m\u001B[43m.\u001B[49m\u001B[43m_exec_single_context\u001B[49m\u001B[43m(\u001B[49m\n\u001B[32m   1841\u001B[39m \u001B[43m        \u001B[49m\u001B[43mdialect\u001B[49m\u001B[43m,\u001B[49m\u001B[43m \u001B[49m\u001B[43mcontext\u001B[49m\u001B[43m,\u001B[49m\u001B[43m \u001B[49m\u001B[43mstatement\u001B[49m\u001B[43m,\u001B[49m\u001B[43m \u001B[49m\u001B[43mparameters\u001B[49m\n\u001B[32m   1842\u001B[39m \u001B[43m    \u001B[49m\u001B[43m)\u001B[49m\n",
      "\u001B[36mFile \u001B[39m\u001B[32m~\\anaconda3\\envs\\tushare_3.11\\Lib\\site-packages\\sqlalchemy\\engine\\base.py:1980\u001B[39m, in \u001B[36mConnection._exec_single_context\u001B[39m\u001B[34m(self, dialect, context, statement, parameters)\u001B[39m\n\u001B[32m   1977\u001B[39m     result = context._setup_result_proxy()\n\u001B[32m   1979\u001B[39m \u001B[38;5;28;01mexcept\u001B[39;00m \u001B[38;5;167;01mBaseException\u001B[39;00m \u001B[38;5;28;01mas\u001B[39;00m e:\n\u001B[32m-> \u001B[39m\u001B[32m1980\u001B[39m     \u001B[38;5;28;43mself\u001B[39;49m\u001B[43m.\u001B[49m\u001B[43m_handle_dbapi_exception\u001B[49m\u001B[43m(\u001B[49m\n\u001B[32m   1981\u001B[39m \u001B[43m        \u001B[49m\u001B[43me\u001B[49m\u001B[43m,\u001B[49m\u001B[43m \u001B[49m\u001B[43mstr_statement\u001B[49m\u001B[43m,\u001B[49m\u001B[43m \u001B[49m\u001B[43meffective_parameters\u001B[49m\u001B[43m,\u001B[49m\u001B[43m \u001B[49m\u001B[43mcursor\u001B[49m\u001B[43m,\u001B[49m\u001B[43m \u001B[49m\u001B[43mcontext\u001B[49m\n\u001B[32m   1982\u001B[39m \u001B[43m    \u001B[49m\u001B[43m)\u001B[49m\n\u001B[32m   1984\u001B[39m \u001B[38;5;28;01mreturn\u001B[39;00m result\n",
      "\u001B[36mFile \u001B[39m\u001B[32m~\\anaconda3\\envs\\tushare_3.11\\Lib\\site-packages\\sqlalchemy\\engine\\base.py:2352\u001B[39m, in \u001B[36mConnection._handle_dbapi_exception\u001B[39m\u001B[34m(self, e, statement, parameters, cursor, context, is_sub_exec)\u001B[39m\n\u001B[32m   2350\u001B[39m     \u001B[38;5;28;01melse\u001B[39;00m:\n\u001B[32m   2351\u001B[39m         \u001B[38;5;28;01massert\u001B[39;00m exc_info[\u001B[32m1\u001B[39m] \u001B[38;5;129;01mis\u001B[39;00m \u001B[38;5;129;01mnot\u001B[39;00m \u001B[38;5;28;01mNone\u001B[39;00m\n\u001B[32m-> \u001B[39m\u001B[32m2352\u001B[39m         \u001B[38;5;28;01mraise\u001B[39;00m exc_info[\u001B[32m1\u001B[39m].with_traceback(exc_info[\u001B[32m2\u001B[39m])\n\u001B[32m   2353\u001B[39m \u001B[38;5;28;01mfinally\u001B[39;00m:\n\u001B[32m   2354\u001B[39m     \u001B[38;5;28;01mdel\u001B[39;00m \u001B[38;5;28mself\u001B[39m._reentrant_error\n",
      "\u001B[36mFile \u001B[39m\u001B[32m~\\anaconda3\\envs\\tushare_3.11\\Lib\\site-packages\\sqlalchemy\\engine\\base.py:1961\u001B[39m, in \u001B[36mConnection._exec_single_context\u001B[39m\u001B[34m(self, dialect, context, statement, parameters)\u001B[39m\n\u001B[32m   1959\u001B[39m                 \u001B[38;5;28;01mbreak\u001B[39;00m\n\u001B[32m   1960\u001B[39m     \u001B[38;5;28;01mif\u001B[39;00m \u001B[38;5;129;01mnot\u001B[39;00m evt_handled:\n\u001B[32m-> \u001B[39m\u001B[32m1961\u001B[39m         \u001B[38;5;28;43mself\u001B[39;49m\u001B[43m.\u001B[49m\u001B[43mdialect\u001B[49m\u001B[43m.\u001B[49m\u001B[43mdo_execute\u001B[49m\u001B[43m(\u001B[49m\n\u001B[32m   1962\u001B[39m \u001B[43m            \u001B[49m\u001B[43mcursor\u001B[49m\u001B[43m,\u001B[49m\u001B[43m \u001B[49m\u001B[43mstr_statement\u001B[49m\u001B[43m,\u001B[49m\u001B[43m \u001B[49m\u001B[43meffective_parameters\u001B[49m\u001B[43m,\u001B[49m\u001B[43m \u001B[49m\u001B[43mcontext\u001B[49m\n\u001B[32m   1963\u001B[39m \u001B[43m        \u001B[49m\u001B[43m)\u001B[49m\n\u001B[32m   1965\u001B[39m \u001B[38;5;28;01mif\u001B[39;00m \u001B[38;5;28mself\u001B[39m._has_events \u001B[38;5;129;01mor\u001B[39;00m \u001B[38;5;28mself\u001B[39m.engine._has_events:\n\u001B[32m   1966\u001B[39m     \u001B[38;5;28mself\u001B[39m.dispatch.after_cursor_execute(\n\u001B[32m   1967\u001B[39m         \u001B[38;5;28mself\u001B[39m,\n\u001B[32m   1968\u001B[39m         cursor,\n\u001B[32m   (...)\u001B[39m\u001B[32m   1972\u001B[39m         context.executemany,\n\u001B[32m   1973\u001B[39m     )\n",
      "\u001B[36mFile \u001B[39m\u001B[32m~\\anaconda3\\envs\\tushare_3.11\\Lib\\site-packages\\sqlalchemy\\engine\\default.py:944\u001B[39m, in \u001B[36mDefaultDialect.do_execute\u001B[39m\u001B[34m(self, cursor, statement, parameters, context)\u001B[39m\n\u001B[32m    943\u001B[39m \u001B[38;5;28;01mdef\u001B[39;00m\u001B[38;5;250m \u001B[39m\u001B[34mdo_execute\u001B[39m(\u001B[38;5;28mself\u001B[39m, cursor, statement, parameters, context=\u001B[38;5;28;01mNone\u001B[39;00m):\n\u001B[32m--> \u001B[39m\u001B[32m944\u001B[39m     \u001B[43mcursor\u001B[49m\u001B[43m.\u001B[49m\u001B[43mexecute\u001B[49m\u001B[43m(\u001B[49m\u001B[43mstatement\u001B[49m\u001B[43m,\u001B[49m\u001B[43m \u001B[49m\u001B[43mparameters\u001B[49m\u001B[43m)\u001B[49m\n",
      "\u001B[36mFile \u001B[39m\u001B[32m~\\anaconda3\\envs\\tushare_3.11\\Lib\\site-packages\\pymysql\\cursors.py:151\u001B[39m, in \u001B[36mCursor.execute\u001B[39m\u001B[34m(self, query, args)\u001B[39m\n\u001B[32m    148\u001B[39m \u001B[38;5;28;01mwhile\u001B[39;00m \u001B[38;5;28mself\u001B[39m.nextset():\n\u001B[32m    149\u001B[39m     \u001B[38;5;28;01mpass\u001B[39;00m\n\u001B[32m--> \u001B[39m\u001B[32m151\u001B[39m query = \u001B[38;5;28;43mself\u001B[39;49m\u001B[43m.\u001B[49m\u001B[43mmogrify\u001B[49m\u001B[43m(\u001B[49m\u001B[43mquery\u001B[49m\u001B[43m,\u001B[49m\u001B[43m \u001B[49m\u001B[43margs\u001B[49m\u001B[43m)\u001B[49m\n\u001B[32m    153\u001B[39m result = \u001B[38;5;28mself\u001B[39m._query(query)\n\u001B[32m    154\u001B[39m \u001B[38;5;28mself\u001B[39m._executed = query\n",
      "\u001B[36mFile \u001B[39m\u001B[32m~\\anaconda3\\envs\\tushare_3.11\\Lib\\site-packages\\pymysql\\cursors.py:129\u001B[39m, in \u001B[36mCursor.mogrify\u001B[39m\u001B[34m(self, query, args)\u001B[39m\n\u001B[32m    126\u001B[39m conn = \u001B[38;5;28mself\u001B[39m._get_db()\n\u001B[32m    128\u001B[39m \u001B[38;5;28;01mif\u001B[39;00m args \u001B[38;5;129;01mis\u001B[39;00m \u001B[38;5;129;01mnot\u001B[39;00m \u001B[38;5;28;01mNone\u001B[39;00m:\n\u001B[32m--> \u001B[39m\u001B[32m129\u001B[39m     query = \u001B[43mquery\u001B[49m\u001B[43m \u001B[49m\u001B[43m%\u001B[49m\u001B[43m \u001B[49m\u001B[38;5;28;43mself\u001B[39;49m\u001B[43m.\u001B[49m\u001B[43m_escape_args\u001B[49m\u001B[43m(\u001B[49m\u001B[43margs\u001B[49m\u001B[43m,\u001B[49m\u001B[43m \u001B[49m\u001B[43mconn\u001B[49m\u001B[43m)\u001B[49m\n\u001B[32m    131\u001B[39m \u001B[38;5;28;01mreturn\u001B[39;00m query\n",
      "\u001B[31mTypeError\u001B[39m: not all arguments converted during string formatting"
     ]
    }
   ],
   "execution_count": 6
  },
  {
   "metadata": {
    "ExecuteTime": {
     "end_time": "2025-08-14T02:55:55.327466Z",
     "start_time": "2025-08-14T02:55:55.322173Z"
    }
   },
   "cell_type": "code",
   "source": "s2i_l1",
   "id": "9e4540f03b6ad5f4",
   "outputs": [
    {
     "data": {
      "text/plain": [
       "{'600519.SH': '801120.SI', '000001.SZ': '801780.SI', '300750.SZ': '801730.SI'}"
      ]
     },
     "execution_count": 3,
     "metadata": {},
     "output_type": "execute_result"
    }
   ],
   "execution_count": 3
  },
  {
   "metadata": {
    "ExecuteTime": {
     "end_time": "2025-08-14T02:55:56.817208Z",
     "start_time": "2025-08-14T02:55:56.814530Z"
    }
   },
   "cell_type": "code",
   "source": "s2i_l2",
   "id": "58aedec5f0d14689",
   "outputs": [
    {
     "data": {
      "text/plain": [
       "{'600519.SH': '801125.SI', '000001.SZ': '801783.SI', '300750.SZ': '801737.SI'}"
      ]
     },
     "execution_count": 4,
     "metadata": {},
     "output_type": "execute_result"
    }
   ],
   "execution_count": 4
  },
  {
   "metadata": {
    "ExecuteTime": {
     "end_time": "2025-08-14T02:55:58.008324Z",
     "start_time": "2025-08-14T02:55:58.004555Z"
    }
   },
   "cell_type": "code",
   "source": "s2i_l3",
   "id": "8bda5c440393828c",
   "outputs": [
    {
     "data": {
      "text/plain": [
       "{'600519.SH': '851251.SI', '000001.SZ': '857831.SI', '300750.SZ': '857371.SI'}"
      ]
     },
     "execution_count": 5,
     "metadata": {},
     "output_type": "execute_result"
    }
   ],
   "execution_count": 5
  },
  {
   "metadata": {
    "ExecuteTime": {
     "end_time": "2025-08-14T02:48:35.092299Z",
     "start_time": "2025-08-14T02:48:34.344605Z"
    }
   },
   "cell_type": "code",
   "source": "df = pro.index_member_all(ts_code='000001.SZ')",
   "id": "ef10e7702c2b468d",
   "outputs": [],
   "execution_count": 40
  },
  {
   "metadata": {
    "ExecuteTime": {
     "end_time": "2025-08-14T02:48:37.642648Z",
     "start_time": "2025-08-14T02:48:37.636393Z"
    }
   },
   "cell_type": "code",
   "source": "df",
   "id": "74ffceb7f90e30b",
   "outputs": [
    {
     "data": {
      "text/plain": [
       "     l1_code l1_name    l2_code l2_name    l3_code l3_name    ts_code  name  \\\n",
       "0  801780.SI      银行  801783.SI  股份制银行Ⅱ  857831.SI  股份制银行Ⅲ  000001.SZ  平安银行   \n",
       "\n",
       "    in_date out_date is_new  \n",
       "0  19910403     None      Y  "
      ],
      "text/html": [
       "<div>\n",
       "<style scoped>\n",
       "    .dataframe tbody tr th:only-of-type {\n",
       "        vertical-align: middle;\n",
       "    }\n",
       "\n",
       "    .dataframe tbody tr th {\n",
       "        vertical-align: top;\n",
       "    }\n",
       "\n",
       "    .dataframe thead th {\n",
       "        text-align: right;\n",
       "    }\n",
       "</style>\n",
       "<table border=\"1\" class=\"dataframe\">\n",
       "  <thead>\n",
       "    <tr style=\"text-align: right;\">\n",
       "      <th></th>\n",
       "      <th>l1_code</th>\n",
       "      <th>l1_name</th>\n",
       "      <th>l2_code</th>\n",
       "      <th>l2_name</th>\n",
       "      <th>l3_code</th>\n",
       "      <th>l3_name</th>\n",
       "      <th>ts_code</th>\n",
       "      <th>name</th>\n",
       "      <th>in_date</th>\n",
       "      <th>out_date</th>\n",
       "      <th>is_new</th>\n",
       "    </tr>\n",
       "  </thead>\n",
       "  <tbody>\n",
       "    <tr>\n",
       "      <th>0</th>\n",
       "      <td>801780.SI</td>\n",
       "      <td>银行</td>\n",
       "      <td>801783.SI</td>\n",
       "      <td>股份制银行Ⅱ</td>\n",
       "      <td>857831.SI</td>\n",
       "      <td>股份制银行Ⅲ</td>\n",
       "      <td>000001.SZ</td>\n",
       "      <td>平安银行</td>\n",
       "      <td>19910403</td>\n",
       "      <td>None</td>\n",
       "      <td>Y</td>\n",
       "    </tr>\n",
       "  </tbody>\n",
       "</table>\n",
       "</div>"
      ]
     },
     "execution_count": 41,
     "metadata": {},
     "output_type": "execute_result"
    }
   ],
   "execution_count": 41
  },
  {
   "metadata": {
    "ExecuteTime": {
     "end_time": "2025-08-14T03:18:17.054181Z",
     "start_time": "2025-08-14T03:18:16.394301Z"
    }
   },
   "cell_type": "code",
   "source": [
    "pro=easyPro()\n",
    "l1 = pro.index_classify(level='l1', src='sw2021', fields='index_code,is_pub')"
   ],
   "id": "cf48fccd68d426da",
   "outputs": [],
   "execution_count": 26
  },
  {
   "metadata": {
    "ExecuteTime": {
     "end_time": "2025-08-14T03:18:18.395719Z",
     "start_time": "2025-08-14T03:18:18.390518Z"
    }
   },
   "cell_type": "code",
   "source": "l1",
   "id": "f904b2c2ebe9e5b5",
   "outputs": [
    {
     "data": {
      "text/plain": [
       "   index_code is_pub\n",
       "0   801010.SI      1\n",
       "1   801030.SI      1\n",
       "2   801040.SI      1\n",
       "3   801050.SI      1\n",
       "4   801080.SI      1\n",
       "5   801880.SI      1\n",
       "6   801110.SI      1\n",
       "7   801120.SI      1\n",
       "8   801130.SI      1\n",
       "9   801140.SI      1\n",
       "10  801150.SI      1\n",
       "11  801160.SI      1\n",
       "12  801170.SI      1\n",
       "13  801180.SI      1\n",
       "14  801200.SI      1\n",
       "15  801210.SI      1\n",
       "16  801780.SI      1\n",
       "17  801790.SI      1\n",
       "18  801230.SI      1\n",
       "19  801710.SI      1\n",
       "20  801720.SI      1\n",
       "21  801730.SI      1\n",
       "22  801890.SI      1\n",
       "23  801740.SI      1\n",
       "24  801750.SI      1\n",
       "25  801760.SI      1\n",
       "26  801770.SI      1\n",
       "27  801950.SI      1\n",
       "28  801960.SI      1\n",
       "29  801970.SI      1\n",
       "30  801980.SI      1"
      ],
      "text/html": [
       "<div>\n",
       "<style scoped>\n",
       "    .dataframe tbody tr th:only-of-type {\n",
       "        vertical-align: middle;\n",
       "    }\n",
       "\n",
       "    .dataframe tbody tr th {\n",
       "        vertical-align: top;\n",
       "    }\n",
       "\n",
       "    .dataframe thead th {\n",
       "        text-align: right;\n",
       "    }\n",
       "</style>\n",
       "<table border=\"1\" class=\"dataframe\">\n",
       "  <thead>\n",
       "    <tr style=\"text-align: right;\">\n",
       "      <th></th>\n",
       "      <th>index_code</th>\n",
       "      <th>is_pub</th>\n",
       "    </tr>\n",
       "  </thead>\n",
       "  <tbody>\n",
       "    <tr>\n",
       "      <th>0</th>\n",
       "      <td>801010.SI</td>\n",
       "      <td>1</td>\n",
       "    </tr>\n",
       "    <tr>\n",
       "      <th>1</th>\n",
       "      <td>801030.SI</td>\n",
       "      <td>1</td>\n",
       "    </tr>\n",
       "    <tr>\n",
       "      <th>2</th>\n",
       "      <td>801040.SI</td>\n",
       "      <td>1</td>\n",
       "    </tr>\n",
       "    <tr>\n",
       "      <th>3</th>\n",
       "      <td>801050.SI</td>\n",
       "      <td>1</td>\n",
       "    </tr>\n",
       "    <tr>\n",
       "      <th>4</th>\n",
       "      <td>801080.SI</td>\n",
       "      <td>1</td>\n",
       "    </tr>\n",
       "    <tr>\n",
       "      <th>5</th>\n",
       "      <td>801880.SI</td>\n",
       "      <td>1</td>\n",
       "    </tr>\n",
       "    <tr>\n",
       "      <th>6</th>\n",
       "      <td>801110.SI</td>\n",
       "      <td>1</td>\n",
       "    </tr>\n",
       "    <tr>\n",
       "      <th>7</th>\n",
       "      <td>801120.SI</td>\n",
       "      <td>1</td>\n",
       "    </tr>\n",
       "    <tr>\n",
       "      <th>8</th>\n",
       "      <td>801130.SI</td>\n",
       "      <td>1</td>\n",
       "    </tr>\n",
       "    <tr>\n",
       "      <th>9</th>\n",
       "      <td>801140.SI</td>\n",
       "      <td>1</td>\n",
       "    </tr>\n",
       "    <tr>\n",
       "      <th>10</th>\n",
       "      <td>801150.SI</td>\n",
       "      <td>1</td>\n",
       "    </tr>\n",
       "    <tr>\n",
       "      <th>11</th>\n",
       "      <td>801160.SI</td>\n",
       "      <td>1</td>\n",
       "    </tr>\n",
       "    <tr>\n",
       "      <th>12</th>\n",
       "      <td>801170.SI</td>\n",
       "      <td>1</td>\n",
       "    </tr>\n",
       "    <tr>\n",
       "      <th>13</th>\n",
       "      <td>801180.SI</td>\n",
       "      <td>1</td>\n",
       "    </tr>\n",
       "    <tr>\n",
       "      <th>14</th>\n",
       "      <td>801200.SI</td>\n",
       "      <td>1</td>\n",
       "    </tr>\n",
       "    <tr>\n",
       "      <th>15</th>\n",
       "      <td>801210.SI</td>\n",
       "      <td>1</td>\n",
       "    </tr>\n",
       "    <tr>\n",
       "      <th>16</th>\n",
       "      <td>801780.SI</td>\n",
       "      <td>1</td>\n",
       "    </tr>\n",
       "    <tr>\n",
       "      <th>17</th>\n",
       "      <td>801790.SI</td>\n",
       "      <td>1</td>\n",
       "    </tr>\n",
       "    <tr>\n",
       "      <th>18</th>\n",
       "      <td>801230.SI</td>\n",
       "      <td>1</td>\n",
       "    </tr>\n",
       "    <tr>\n",
       "      <th>19</th>\n",
       "      <td>801710.SI</td>\n",
       "      <td>1</td>\n",
       "    </tr>\n",
       "    <tr>\n",
       "      <th>20</th>\n",
       "      <td>801720.SI</td>\n",
       "      <td>1</td>\n",
       "    </tr>\n",
       "    <tr>\n",
       "      <th>21</th>\n",
       "      <td>801730.SI</td>\n",
       "      <td>1</td>\n",
       "    </tr>\n",
       "    <tr>\n",
       "      <th>22</th>\n",
       "      <td>801890.SI</td>\n",
       "      <td>1</td>\n",
       "    </tr>\n",
       "    <tr>\n",
       "      <th>23</th>\n",
       "      <td>801740.SI</td>\n",
       "      <td>1</td>\n",
       "    </tr>\n",
       "    <tr>\n",
       "      <th>24</th>\n",
       "      <td>801750.SI</td>\n",
       "      <td>1</td>\n",
       "    </tr>\n",
       "    <tr>\n",
       "      <th>25</th>\n",
       "      <td>801760.SI</td>\n",
       "      <td>1</td>\n",
       "    </tr>\n",
       "    <tr>\n",
       "      <th>26</th>\n",
       "      <td>801770.SI</td>\n",
       "      <td>1</td>\n",
       "    </tr>\n",
       "    <tr>\n",
       "      <th>27</th>\n",
       "      <td>801950.SI</td>\n",
       "      <td>1</td>\n",
       "    </tr>\n",
       "    <tr>\n",
       "      <th>28</th>\n",
       "      <td>801960.SI</td>\n",
       "      <td>1</td>\n",
       "    </tr>\n",
       "    <tr>\n",
       "      <th>29</th>\n",
       "      <td>801970.SI</td>\n",
       "      <td>1</td>\n",
       "    </tr>\n",
       "    <tr>\n",
       "      <th>30</th>\n",
       "      <td>801980.SI</td>\n",
       "      <td>1</td>\n",
       "    </tr>\n",
       "  </tbody>\n",
       "</table>\n",
       "</div>"
      ]
     },
     "execution_count": 27,
     "metadata": {},
     "output_type": "execute_result"
    }
   ],
   "execution_count": 27
  },
  {
   "metadata": {
    "ExecuteTime": {
     "end_time": "2025-08-14T03:12:22.020972Z",
     "start_time": "2025-08-14T03:12:22.017309Z"
    }
   },
   "cell_type": "code",
   "source": "l2['is_pub'].astype('int').sum()",
   "id": "3833bbe97bacb76",
   "outputs": [
    {
     "data": {
      "text/plain": [
       "np.int64(124)"
      ]
     },
     "execution_count": 14,
     "metadata": {},
     "output_type": "execute_result"
    }
   ],
   "execution_count": 14
  },
  {
   "metadata": {
    "ExecuteTime": {
     "end_time": "2025-08-14T03:21:11.954693Z",
     "start_time": "2025-08-14T03:21:11.950693Z"
    }
   },
   "cell_type": "code",
   "source": [
    "if l1[l1['index_code'] == '801010.SI']['is_pub'].iloc[0] == '1':\n",
    "    print(\"1\")"
   ],
   "id": "e93a7a06fab10bab",
   "outputs": [
    {
     "name": "stdout",
     "output_type": "stream",
     "text": [
      "1\n"
     ]
    }
   ],
   "execution_count": 33
  },
  {
   "metadata": {
    "ExecuteTime": {
     "end_time": "2025-08-14T03:31:31.467571Z",
     "start_time": "2025-08-14T03:31:31.462571Z"
    }
   },
   "cell_type": "code",
   "source": [
    "def stock2index(stock_codes: list[str]) -> pd.DataFrame:\n",
    "    # 股票代码对应到指数代码\n",
    "    # 需要：数据库中有申万行业分类sw_category\n",
    "    engine=easyConnect()\n",
    "    pro = easyPro()\n",
    "    query = \"\"\"\n",
    "    SELECT ts_code, l1_code, l2_code, l3_code\n",
    "    FROM sw_category\n",
    "    WHERE ts_code IN ({})\n",
    "    \"\"\".format(','.join(['%s']*len(stock_codes)))\n",
    "\n",
    "    df = pd.read_sql(query, con=engine, params=tuple(stock_codes))\n",
    "    s2i_l1 = df.set_index('ts_code')['l1_code'].to_dict()\n",
    "    s2i_l2 = df.set_index('ts_code')['l2_code'].to_dict()\n",
    "    s2i_l3 = df.set_index('ts_code')['l3_code'].to_dict()\n",
    "\n",
    "    # 添加缺失项\n",
    "    for code in stock_codes:\n",
    "        if code not in s2i_l1:\n",
    "            s2i_l1[code] = None\n",
    "        if code not in s2i_l2:\n",
    "            s2i_l2[code] = None\n",
    "        if code not in s2i_l3:\n",
    "            s2i_l3[code] = None\n",
    "    s2i = {}\n",
    "    # 逐项检查指数是否有行情 已知一级行业全有行情\n",
    "    if_l3 = pro.index_classify(level='l3', src='sw2021', fields='index_code,is_pub')\n",
    "    if_l2 = pro.index_classify(level='l2', src='sw2021', fields='index_code,is_pub')\n",
    "    for stock, index_l3 in s2i_l3.items():\n",
    "        if index_l3 is not None:\n",
    "            if if_l3[if_l3['index_code'] == index_l3]['is_pub'].iloc[0] is True:\n",
    "                s2i[stock] = index_l3\n",
    "            else:\n",
    "                index_l2 = s2i_l2[stock]\n",
    "                if if_l2[if_l2['index_code'] == index_l2]['is_pub'].iloc[0] is True:\n",
    "                    s2i[stock] = index_l2\n",
    "                else:\n",
    "                    s2i[stock] = s2i_l1[stock] # index_l1\n",
    "    return s2i"
   ],
   "id": "a249d21fd7725dec",
   "outputs": [],
   "execution_count": 35
  },
  {
   "metadata": {
    "ExecuteTime": {
     "end_time": "2025-08-14T03:31:36.849605Z",
     "start_time": "2025-08-14T03:31:35.924415Z"
    }
   },
   "cell_type": "code",
   "source": [
    "ret = stock2index(['000001.SZ','600598.SH', '300021.SZ'])\n",
    "ret"
   ],
   "id": "f6222c896e36cc4f",
   "outputs": [
    {
     "data": {
      "text/plain": [
       "{'600598.SH': '801010.SI', '300021.SZ': '801010.SI', '000001.SZ': '801780.SI'}"
      ]
     },
     "execution_count": 36,
     "metadata": {},
     "output_type": "execute_result"
    }
   ],
   "execution_count": 36
  },
  {
   "metadata": {
    "ExecuteTime": {
     "end_time": "2025-08-20T02:51:33.642503Z",
     "start_time": "2025-08-20T02:51:32.964991Z"
    }
   },
   "cell_type": "code",
   "source": [
    "from utils.utils import easyPro, easyConnect\n",
    "pro = easyPro()"
   ],
   "id": "c5da83744bd15ba3",
   "outputs": [
    {
     "name": "stderr",
     "output_type": "stream",
     "text": [
      "\u001B[32m08-20 10:51:33\u001B[0m | \u001B[1mINFO   \u001B[0m | \u001B[36mutils.logger_config\u001B[0m:\u001B[36m_setup_logger\u001B[0m | \u001B[1m📝 日志系统启动成功\u001B[0m\n",
      "\u001B[32m08-20 10:51:33\u001B[0m | \u001B[1mINFO   \u001B[0m | \u001B[36mutils.logger_config\u001B[0m:\u001B[36m_setup_logger\u001B[0m | \u001B[1m📁 主日志文件: C:\\Users\\31021\\Desktop\\Quantitative_Trading\\Coding\\Get_Stock_Infos\\logs\\20250820-1.log\u001B[0m\n",
      "\u001B[32m08-20 10:51:33\u001B[0m | \u001B[1mINFO   \u001B[0m | \u001B[36mutils.logger_config\u001B[0m:\u001B[36m_setup_logger\u001B[0m | \u001B[1m🔴 错误日志文件: C:\\Users\\31021\\Desktop\\Quantitative_Trading\\Coding\\Get_Stock_Infos\\logs\\20250820-1_error.log\u001B[0m\n",
      "\u001B[32m08-20 10:51:33\u001B[0m | \u001B[1mINFO   \u001B[0m | \u001B[36mutils.logger_config\u001B[0m:\u001B[36m_setup_logger\u001B[0m | \u001B[1m📂 项目根目录: C:\\Users\\31021\\Desktop\\Quantitative_Trading\\Coding\\Get_Stock_Infos\u001B[0m\n"
     ]
    }
   ],
   "execution_count": 1
  },
  {
   "metadata": {
    "ExecuteTime": {
     "end_time": "2025-08-20T02:51:39.243750Z",
     "start_time": "2025-08-20T02:51:39.210614Z"
    }
   },
   "cell_type": "code",
   "source": "conn = easyConnect()",
   "id": "f298da6421ff062a",
   "outputs": [],
   "execution_count": 2
  },
  {
   "metadata": {
    "ExecuteTime": {
     "end_time": "2025-08-20T02:52:14.103362Z",
     "start_time": "2025-08-20T02:52:14.041443Z"
    }
   },
   "cell_type": "code",
   "source": [
    "import pandas as pd\n",
    "sql = pd.read_sql('select * from sw_category', con=conn)"
   ],
   "id": "be4b4b83e7df32ef",
   "outputs": [],
   "execution_count": 4
  },
  {
   "metadata": {
    "ExecuteTime": {
     "end_time": "2025-08-20T02:52:59.331657Z",
     "start_time": "2025-08-20T02:52:59.328398Z"
    }
   },
   "cell_type": "code",
   "source": "sql['l1_code'].unique().shape",
   "id": "7e5b481e4a609a0d",
   "outputs": [
    {
     "data": {
      "text/plain": [
       "(31,)"
      ]
     },
     "execution_count": 11,
     "metadata": {},
     "output_type": "execute_result"
    }
   ],
   "execution_count": 11
  },
  {
   "metadata": {
    "ExecuteTime": {
     "end_time": "2025-08-20T03:02:28.138846Z",
     "start_time": "2025-08-20T03:02:28.122947Z"
    }
   },
   "cell_type": "code",
   "source": "temp = pd.read_csv('../assets/250818TO250819.csv')",
   "id": "73b1a67c1e262dcf",
   "outputs": [],
   "execution_count": 14
  },
  {
   "metadata": {
    "ExecuteTime": {
     "end_time": "2025-08-20T03:03:02.230157Z",
     "start_time": "2025-08-20T03:03:01.827455Z"
    }
   },
   "cell_type": "code",
   "source": "temp.to_sql('temp_data', con=conn, if_exists='replace', index=False)",
   "id": "36d09f275fe925a0",
   "outputs": [
    {
     "data": {
      "text/plain": [
       "10823"
      ]
     },
     "execution_count": 15,
     "metadata": {},
     "output_type": "execute_result"
    }
   ],
   "execution_count": 15
  },
  {
   "metadata": {
    "ExecuteTime": {
     "end_time": "2025-08-20T03:03:50.112685Z",
     "start_time": "2025-08-20T03:03:50.108776Z"
    }
   },
   "cell_type": "code",
   "source": "temp['total_mv'].notnull().sum()",
   "id": "cc27e1b9b25835af",
   "outputs": [
    {
     "data": {
      "text/plain": [
       "np.int64(10823)"
      ]
     },
     "execution_count": 16,
     "metadata": {},
     "output_type": "execute_result"
    }
   ],
   "execution_count": 16
  },
  {
   "metadata": {},
   "cell_type": "code",
   "outputs": [],
   "execution_count": null,
   "source": "",
   "id": "b8f8eca012ec5106"
  }
 ],
 "metadata": {
  "kernelspec": {
   "display_name": "Python 3",
   "language": "python",
   "name": "python3"
  },
  "language_info": {
   "codemirror_mode": {
    "name": "ipython",
    "version": 2
   },
   "file_extension": ".py",
   "mimetype": "text/x-python",
   "name": "python",
   "nbconvert_exporter": "python",
   "pygments_lexer": "ipython2",
   "version": "2.7.6"
  }
 },
 "nbformat": 4,
 "nbformat_minor": 5
}
