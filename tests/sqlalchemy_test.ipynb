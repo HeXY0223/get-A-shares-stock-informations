{
 "cells": [
  {
   "metadata": {
    "ExecuteTime": {
     "end_time": "2025-08-08T02:54:10.428693Z",
     "start_time": "2025-08-08T02:54:10.300843Z"
    }
   },
   "cell_type": "code",
   "source": [
    "import sqlalchemy\n",
    "from src.utils.utils import easyConnect\n",
    "engine = easyConnect()\n",
    "conn = engine.connect()"
   ],
   "id": "80a8e1b6518246c2",
   "outputs": [],
   "execution_count": 1
  },
  {
   "metadata": {
    "ExecuteTime": {
     "end_time": "2025-08-05T08:23:53.350807Z",
     "start_time": "2025-08-05T08:23:53.342779Z"
    }
   },
   "cell_type": "code",
   "source": [
    "query = sqlalchemy.text('show tables')\n",
    "result = conn.execute(query)\n",
    "print(result)\n",
    "for row in result:\n",
    "    print(row)"
   ],
   "id": "48d8ec0c5b7e6e68",
   "outputs": [
    {
     "name": "stdout",
     "output_type": "stream",
     "text": [
      "<sqlalchemy.engine.cursor.CursorResult object at 0x000001B03623E278>\n",
      "('index_basic_info',)\n",
      "('stock_basic_info',)\n"
     ]
    }
   ],
   "execution_count": 32
  },
  {
   "metadata": {
    "ExecuteTime": {
     "end_time": "2025-08-05T08:42:49.393408Z",
     "start_time": "2025-08-05T08:42:49.359238Z"
    }
   },
   "cell_type": "code",
   "source": [
    "# create a table\n",
    "meta_data = sqlalchemy.MetaData()\n",
    "table_example = sqlalchemy.Table(\n",
    "    \"person\", meta_data,\n",
    "    sqlalchemy.Column(\"id\", sqlalchemy.Integer, primary_key=True),\n",
    "    sqlalchemy.Column(\"name\", sqlalchemy.String(128)),\n",
    "    sqlalchemy.Column(\"birthday\", sqlalchemy.Date, nullable=False)\n",
    ")\n",
    "meta_data.create_all(engine)"
   ],
   "id": "e448282b6f40543f",
   "outputs": [],
   "execution_count": 43
  },
  {
   "metadata": {
    "ExecuteTime": {
     "end_time": "2025-08-05T08:47:43.505803Z",
     "start_time": "2025-08-05T08:47:43.481385Z"
    }
   },
   "cell_type": "code",
   "source": [
    "# INSERT a record\n",
    "person_insert = table_example.insert()\n",
    "print(person_insert)\n",
    "insert_tom = person_insert.values(name='Tom', birthday='20001010')\n",
    "# another way:\n",
    "# insert_tom = table_example.insert().values(name='Tom',birthday='20001010')\n",
    "result = conn.execute(insert_tom)\n",
    "result = conn.execute(insert_tom) # let's do it 2 times\n",
    "print(result.inserted_primary_key)\n",
    "conn.commit()\n"
   ],
   "id": "55221aa75b3f0b81",
   "outputs": [
    {
     "name": "stdout",
     "output_type": "stream",
     "text": [
      "INSERT INTO person (id, name, birthday) VALUES (:id, :name, :birthday)\n",
      "(2,)\n"
     ]
    }
   ],
   "execution_count": 46
  },
  {
   "metadata": {
    "ExecuteTime": {
     "end_time": "2025-08-05T08:50:43.852951Z",
     "start_time": "2025-08-05T08:50:43.819566Z"
    }
   },
   "cell_type": "code",
   "source": [
    "# insert multiple records\n",
    "conn.execute(person_insert,[\n",
    "    {'name': 'alice', 'birthday': '20011010'},\n",
    "    {'name': 'bob', 'birthday': '20010101'},\n",
    "    {'name': 'carol', 'birthday': '20020101'},\n",
    "])\n",
    "conn.commit()"
   ],
   "id": "8e7effe40ee65675",
   "outputs": [],
   "execution_count": 47
  },
  {
   "metadata": {
    "ExecuteTime": {
     "end_time": "2025-08-05T08:58:39.452834Z",
     "start_time": "2025-08-05T08:58:39.433595Z"
    }
   },
   "cell_type": "code",
   "source": [
    "# SELECT - find data\n",
    "query = table_example.select()\n",
    "result_set = conn.execute(query) # returns an ITERATOR, which can be used only once.\n",
    "for row in result_set:\n",
    "    print(row)\n",
    "result_set = conn.execute(query)\n",
    "for row in result_set:\n",
    "    print(f\"{row[0]}, {row.name}\")\n",
    "result_set = conn.execute(query)\n",
    "result = result_set.fetchall()\n",
    "result"
   ],
   "id": "e53216e2e121bd7",
   "outputs": [
    {
     "name": "stdout",
     "output_type": "stream",
     "text": [
      "(1, 'Tom', datetime.date(2000, 10, 10))\n",
      "(2, 'Tom', datetime.date(2000, 10, 10))\n",
      "(3, 'alice', datetime.date(2001, 10, 10))\n",
      "(4, 'bob', datetime.date(2001, 1, 1))\n",
      "(5, 'carol', datetime.date(2002, 1, 1))\n",
      "1, Tom\n",
      "2, Tom\n",
      "3, alice\n",
      "4, bob\n",
      "5, carol\n"
     ]
    },
    {
     "data": {
      "text/plain": [
       "[(1, 'Tom', datetime.date(2000, 10, 10)),\n",
       " (2, 'Tom', datetime.date(2000, 10, 10)),\n",
       " (3, 'alice', datetime.date(2001, 10, 10)),\n",
       " (4, 'bob', datetime.date(2001, 1, 1)),\n",
       " (5, 'carol', datetime.date(2002, 1, 1))]"
      ]
     },
     "execution_count": 53,
     "metadata": {},
     "output_type": "execute_result"
    }
   ],
   "execution_count": 53
  },
  {
   "metadata": {
    "ExecuteTime": {
     "end_time": "2025-08-05T09:03:07.333783Z",
     "start_time": "2025-08-05T09:03:07.327687Z"
    }
   },
   "cell_type": "code",
   "source": [
    "query = table_example.select().where(table_example.c.birthday > '2001-01-01')\n",
    "result_set_2 = conn.execute(query)\n",
    "for row in result_set_2:\n",
    "    print(row)"
   ],
   "id": "a959653de685e38",
   "outputs": [
    {
     "name": "stdout",
     "output_type": "stream",
     "text": [
      "(3, 'alice', datetime.date(2001, 10, 10))\n",
      "(5, 'carol', datetime.date(2002, 1, 1))\n"
     ]
    }
   ],
   "execution_count": 56
  },
  {
   "metadata": {
    "ExecuteTime": {
     "end_time": "2025-08-05T09:07:05.466640Z",
     "start_time": "2025-08-05T09:07:05.456054Z"
    }
   },
   "cell_type": "code",
   "source": [
    "from sqlalchemy.sql import and_, or_\n",
    "query = table_example.select().where(\n",
    "    or_(table_example.c.birthday > '2001-01-01', # all of the datas match\n",
    "        and_(\n",
    "            table_example.c.id >= 1,\n",
    "            table_example.c.id <= 4\n",
    "        )\n",
    "    )\n",
    ")\n",
    "result_set_3 = conn.execute(query)\n",
    "for row in result_set_3:\n",
    "    print(row)"
   ],
   "id": "edc5f7fafab0f73c",
   "outputs": [
    {
     "name": "stdout",
     "output_type": "stream",
     "text": [
      "(1, 'Tom', datetime.date(2000, 10, 10))\n",
      "(2, 'Tom', datetime.date(2000, 10, 10))\n",
      "(3, 'alice', datetime.date(2001, 10, 10))\n",
      "(4, 'bob', datetime.date(2001, 1, 1))\n",
      "(5, 'carol', datetime.date(2002, 1, 1))\n"
     ]
    }
   ],
   "execution_count": 57
  },
  {
   "metadata": {
    "ExecuteTime": {
     "end_time": "2025-08-05T09:12:43.120858Z",
     "start_time": "2025-08-05T09:12:43.090515Z"
    }
   },
   "cell_type": "code",
   "outputs": [
    {
     "data": {
      "text/plain": [
       "<sqlalchemy.engine.cursor.CursorResult at 0x1b034ad27b8>"
      ]
     },
     "execution_count": 58,
     "metadata": {},
     "output_type": "execute_result"
    }
   ],
   "execution_count": 58,
   "source": [
    "# UPDATE\n",
    "query = sqlalchemy.text('alter table person add column address varchar(128)')\n",
    "result_set_4 = conn.execute(query)\n",
    "result_set_4"
   ],
   "id": "c4dd92810698eaa3"
  },
  {
   "metadata": {
    "ExecuteTime": {
     "end_time": "2025-08-05T09:35:09.947205Z",
     "start_time": "2025-08-05T09:35:09.910301Z"
    }
   },
   "cell_type": "code",
   "source": [
    "reflected_meta_data = sqlalchemy.MetaData()\n",
    "reflected_person_table = sqlalchemy.Table(\n",
    "    \"person\", reflected_meta_data,\n",
    "    autoload_with=engine\n",
    ")\n",
    "update_query = reflected_person_table.update().values(address='aaa')\n",
    "result = conn.execute(update_query)\n",
    "conn.commit()\n",
    "update_query_2 = reflected_person_table.update().values(address='bbb').where(\n",
    "    reflected_person_table.c.id==1\n",
    ")\n",
    "conn.execute(update_query_2)\n",
    "conn.commit()"
   ],
   "id": "3554ed3f35e063c9",
   "outputs": [],
   "execution_count": 73
  },
  {
   "metadata": {
    "ExecuteTime": {
     "end_time": "2025-08-05T09:38:19.439048Z",
     "start_time": "2025-08-05T09:38:19.409136Z"
    }
   },
   "cell_type": "code",
   "source": [
    "# DELETE\n",
    "insert_query = reflected_person_table.insert().values(name='dave', birthday='2003-01-01',\n",
    "                                                      address='ddd')\n",
    "result = conn.execute(insert_query)\n",
    "conn.commit()\n",
    "print(result.inserted_primary_key[0])"
   ],
   "id": "1e182de004826b6",
   "outputs": [
    {
     "name": "stdout",
     "output_type": "stream",
     "text": [
      "7\n"
     ]
    }
   ],
   "execution_count": 75
  },
  {
   "metadata": {
    "ExecuteTime": {
     "end_time": "2025-08-05T09:39:15.987940Z",
     "start_time": "2025-08-05T09:39:15.954068Z"
    }
   },
   "cell_type": "code",
   "source": [
    "delete_query = reflected_person_table.delete().where(\n",
    "    reflected_person_table.c.address == 'ddd'\n",
    ")\n",
    "conn.execute(delete_query)\n",
    "conn.commit()\n"
   ],
   "id": "15afaf13e83a13c8",
   "outputs": [],
   "execution_count": 76
  },
  {
   "metadata": {
    "ExecuteTime": {
     "end_time": "2025-08-08T02:54:17.207236Z",
     "start_time": "2025-08-08T02:54:17.202707Z"
    }
   },
   "cell_type": "code",
   "source": "type(engine)",
   "id": "ed9025329005c0b1",
   "outputs": [
    {
     "data": {
      "text/plain": [
       "sqlalchemy.engine.base.Engine"
      ]
     },
     "execution_count": 2,
     "metadata": {},
     "output_type": "execute_result"
    }
   ],
   "execution_count": 2
  },
  {
   "metadata": {
    "ExecuteTime": {
     "end_time": "2025-08-11T08:41:12.553100Z",
     "start_time": "2025-08-11T08:41:08.795166Z"
    }
   },
   "cell_type": "code",
   "source": [
    "import tushare as ts\n",
    "import pandas as pd\n",
    "from dotenv import load_dotenv\n",
    "import os\n",
    "from utils.utils import *\n",
    "engine=easyConnect()\n",
    "df = pd.read_sql('select adj_factor from  {table_name}'.format(table_name=\n",
    "                                                           'stock_daily_electronic_information'), engine)"
   ],
   "id": "fb08d0d2e2840d8d",
   "outputs": [],
   "execution_count": 2
  },
  {
   "metadata": {
    "ExecuteTime": {
     "end_time": "2025-08-11T08:41:54.052286Z",
     "start_time": "2025-08-11T08:41:54.046880Z"
    }
   },
   "cell_type": "code",
   "source": "df.isnull().sum()",
   "id": "a895c1e51401ad8b",
   "outputs": [
    {
     "data": {
      "text/plain": [
       "adj_factor    0\n",
       "dtype: int64"
      ]
     },
     "execution_count": 6,
     "metadata": {},
     "output_type": "execute_result"
    }
   ],
   "execution_count": 6
  },
  {
   "metadata": {
    "ExecuteTime": {
     "end_time": "2025-08-25T07:13:45.722539Z",
     "start_time": "2025-08-25T07:13:45.525117Z"
    }
   },
   "cell_type": "code",
   "source": [
    "import pandas as pd\n",
    "from utils.utils import easyConnect\n",
    "engine = easyConnect()\n",
    "basic_info_query = \"select ts_code from stock_basic_info where list_status='L'\"\n",
    "\n",
    "ts_codes = pd.read_sql(basic_info_query, con=engine)"
   ],
   "id": "d2ed3f44d500ca2a",
   "outputs": [
    {
     "ename": "ProgrammingError",
     "evalue": "(pymysql.err.ProgrammingError) (1146, \"Table 'demo2.stock_basic_info' doesn't exist\")\n[SQL: select ts_code from stock_basic_info where list_status='L']\n(Background on this error at: https://sqlalche.me/e/20/f405)",
     "output_type": "error",
     "traceback": [
      "\u001B[31m---------------------------------------------------------------------------\u001B[39m",
      "\u001B[31mProgrammingError\u001B[39m                          Traceback (most recent call last)",
      "\u001B[36mFile \u001B[39m\u001B[32m~\\anaconda3\\envs\\tushare_3.11\\Lib\\site-packages\\sqlalchemy\\engine\\base.py:1961\u001B[39m, in \u001B[36mConnection._exec_single_context\u001B[39m\u001B[34m(self, dialect, context, statement, parameters)\u001B[39m\n\u001B[32m   1960\u001B[39m     \u001B[38;5;28;01mif\u001B[39;00m \u001B[38;5;129;01mnot\u001B[39;00m evt_handled:\n\u001B[32m-> \u001B[39m\u001B[32m1961\u001B[39m         \u001B[38;5;28;43mself\u001B[39;49m\u001B[43m.\u001B[49m\u001B[43mdialect\u001B[49m\u001B[43m.\u001B[49m\u001B[43mdo_execute\u001B[49m\u001B[43m(\u001B[49m\n\u001B[32m   1962\u001B[39m \u001B[43m            \u001B[49m\u001B[43mcursor\u001B[49m\u001B[43m,\u001B[49m\u001B[43m \u001B[49m\u001B[43mstr_statement\u001B[49m\u001B[43m,\u001B[49m\u001B[43m \u001B[49m\u001B[43meffective_parameters\u001B[49m\u001B[43m,\u001B[49m\u001B[43m \u001B[49m\u001B[43mcontext\u001B[49m\n\u001B[32m   1963\u001B[39m \u001B[43m        \u001B[49m\u001B[43m)\u001B[49m\n\u001B[32m   1965\u001B[39m \u001B[38;5;28;01mif\u001B[39;00m \u001B[38;5;28mself\u001B[39m._has_events \u001B[38;5;129;01mor\u001B[39;00m \u001B[38;5;28mself\u001B[39m.engine._has_events:\n",
      "\u001B[36mFile \u001B[39m\u001B[32m~\\anaconda3\\envs\\tushare_3.11\\Lib\\site-packages\\sqlalchemy\\engine\\default.py:944\u001B[39m, in \u001B[36mDefaultDialect.do_execute\u001B[39m\u001B[34m(self, cursor, statement, parameters, context)\u001B[39m\n\u001B[32m    943\u001B[39m \u001B[38;5;28;01mdef\u001B[39;00m\u001B[38;5;250m \u001B[39m\u001B[34mdo_execute\u001B[39m(\u001B[38;5;28mself\u001B[39m, cursor, statement, parameters, context=\u001B[38;5;28;01mNone\u001B[39;00m):\n\u001B[32m--> \u001B[39m\u001B[32m944\u001B[39m     \u001B[43mcursor\u001B[49m\u001B[43m.\u001B[49m\u001B[43mexecute\u001B[49m\u001B[43m(\u001B[49m\u001B[43mstatement\u001B[49m\u001B[43m,\u001B[49m\u001B[43m \u001B[49m\u001B[43mparameters\u001B[49m\u001B[43m)\u001B[49m\n",
      "\u001B[36mFile \u001B[39m\u001B[32m~\\anaconda3\\envs\\tushare_3.11\\Lib\\site-packages\\pymysql\\cursors.py:153\u001B[39m, in \u001B[36mCursor.execute\u001B[39m\u001B[34m(self, query, args)\u001B[39m\n\u001B[32m    151\u001B[39m query = \u001B[38;5;28mself\u001B[39m.mogrify(query, args)\n\u001B[32m--> \u001B[39m\u001B[32m153\u001B[39m result = \u001B[38;5;28;43mself\u001B[39;49m\u001B[43m.\u001B[49m\u001B[43m_query\u001B[49m\u001B[43m(\u001B[49m\u001B[43mquery\u001B[49m\u001B[43m)\u001B[49m\n\u001B[32m    154\u001B[39m \u001B[38;5;28mself\u001B[39m._executed = query\n",
      "\u001B[36mFile \u001B[39m\u001B[32m~\\anaconda3\\envs\\tushare_3.11\\Lib\\site-packages\\pymysql\\cursors.py:322\u001B[39m, in \u001B[36mCursor._query\u001B[39m\u001B[34m(self, q)\u001B[39m\n\u001B[32m    321\u001B[39m \u001B[38;5;28mself\u001B[39m._clear_result()\n\u001B[32m--> \u001B[39m\u001B[32m322\u001B[39m \u001B[43mconn\u001B[49m\u001B[43m.\u001B[49m\u001B[43mquery\u001B[49m\u001B[43m(\u001B[49m\u001B[43mq\u001B[49m\u001B[43m)\u001B[49m\n\u001B[32m    323\u001B[39m \u001B[38;5;28mself\u001B[39m._do_get_result()\n",
      "\u001B[36mFile \u001B[39m\u001B[32m~\\anaconda3\\envs\\tushare_3.11\\Lib\\site-packages\\pymysql\\connections.py:563\u001B[39m, in \u001B[36mConnection.query\u001B[39m\u001B[34m(self, sql, unbuffered)\u001B[39m\n\u001B[32m    562\u001B[39m \u001B[38;5;28mself\u001B[39m._execute_command(COMMAND.COM_QUERY, sql)\n\u001B[32m--> \u001B[39m\u001B[32m563\u001B[39m \u001B[38;5;28mself\u001B[39m._affected_rows = \u001B[38;5;28;43mself\u001B[39;49m\u001B[43m.\u001B[49m\u001B[43m_read_query_result\u001B[49m\u001B[43m(\u001B[49m\u001B[43munbuffered\u001B[49m\u001B[43m=\u001B[49m\u001B[43munbuffered\u001B[49m\u001B[43m)\u001B[49m\n\u001B[32m    564\u001B[39m \u001B[38;5;28;01mreturn\u001B[39;00m \u001B[38;5;28mself\u001B[39m._affected_rows\n",
      "\u001B[36mFile \u001B[39m\u001B[32m~\\anaconda3\\envs\\tushare_3.11\\Lib\\site-packages\\pymysql\\connections.py:825\u001B[39m, in \u001B[36mConnection._read_query_result\u001B[39m\u001B[34m(self, unbuffered)\u001B[39m\n\u001B[32m    824\u001B[39m     result = MySQLResult(\u001B[38;5;28mself\u001B[39m)\n\u001B[32m--> \u001B[39m\u001B[32m825\u001B[39m     \u001B[43mresult\u001B[49m\u001B[43m.\u001B[49m\u001B[43mread\u001B[49m\u001B[43m(\u001B[49m\u001B[43m)\u001B[49m\n\u001B[32m    826\u001B[39m \u001B[38;5;28mself\u001B[39m._result = result\n",
      "\u001B[36mFile \u001B[39m\u001B[32m~\\anaconda3\\envs\\tushare_3.11\\Lib\\site-packages\\pymysql\\connections.py:1199\u001B[39m, in \u001B[36mMySQLResult.read\u001B[39m\u001B[34m(self)\u001B[39m\n\u001B[32m   1198\u001B[39m \u001B[38;5;28;01mtry\u001B[39;00m:\n\u001B[32m-> \u001B[39m\u001B[32m1199\u001B[39m     first_packet = \u001B[38;5;28;43mself\u001B[39;49m\u001B[43m.\u001B[49m\u001B[43mconnection\u001B[49m\u001B[43m.\u001B[49m\u001B[43m_read_packet\u001B[49m\u001B[43m(\u001B[49m\u001B[43m)\u001B[49m\n\u001B[32m   1201\u001B[39m     \u001B[38;5;28;01mif\u001B[39;00m first_packet.is_ok_packet():\n",
      "\u001B[36mFile \u001B[39m\u001B[32m~\\anaconda3\\envs\\tushare_3.11\\Lib\\site-packages\\pymysql\\connections.py:775\u001B[39m, in \u001B[36mConnection._read_packet\u001B[39m\u001B[34m(self, packet_type)\u001B[39m\n\u001B[32m    774\u001B[39m         \u001B[38;5;28mself\u001B[39m._result.unbuffered_active = \u001B[38;5;28;01mFalse\u001B[39;00m\n\u001B[32m--> \u001B[39m\u001B[32m775\u001B[39m     \u001B[43mpacket\u001B[49m\u001B[43m.\u001B[49m\u001B[43mraise_for_error\u001B[49m\u001B[43m(\u001B[49m\u001B[43m)\u001B[49m\n\u001B[32m    776\u001B[39m \u001B[38;5;28;01mreturn\u001B[39;00m packet\n",
      "\u001B[36mFile \u001B[39m\u001B[32m~\\anaconda3\\envs\\tushare_3.11\\Lib\\site-packages\\pymysql\\protocol.py:219\u001B[39m, in \u001B[36mMysqlPacket.raise_for_error\u001B[39m\u001B[34m(self)\u001B[39m\n\u001B[32m    218\u001B[39m     \u001B[38;5;28mprint\u001B[39m(\u001B[33m\"\u001B[39m\u001B[33merrno =\u001B[39m\u001B[33m\"\u001B[39m, errno)\n\u001B[32m--> \u001B[39m\u001B[32m219\u001B[39m \u001B[43merr\u001B[49m\u001B[43m.\u001B[49m\u001B[43mraise_mysql_exception\u001B[49m\u001B[43m(\u001B[49m\u001B[38;5;28;43mself\u001B[39;49m\u001B[43m.\u001B[49m\u001B[43m_data\u001B[49m\u001B[43m)\u001B[49m\n",
      "\u001B[36mFile \u001B[39m\u001B[32m~\\anaconda3\\envs\\tushare_3.11\\Lib\\site-packages\\pymysql\\err.py:150\u001B[39m, in \u001B[36mraise_mysql_exception\u001B[39m\u001B[34m(data)\u001B[39m\n\u001B[32m    149\u001B[39m     errorclass = InternalError \u001B[38;5;28;01mif\u001B[39;00m errno < \u001B[32m1000\u001B[39m \u001B[38;5;28;01melse\u001B[39;00m OperationalError\n\u001B[32m--> \u001B[39m\u001B[32m150\u001B[39m \u001B[38;5;28;01mraise\u001B[39;00m errorclass(errno, errval)\n",
      "\u001B[31mProgrammingError\u001B[39m: (1146, \"Table 'demo2.stock_basic_info' doesn't exist\")",
      "\nThe above exception was the direct cause of the following exception:\n",
      "\u001B[31mProgrammingError\u001B[39m                          Traceback (most recent call last)",
      "\u001B[36mCell\u001B[39m\u001B[36m \u001B[39m\u001B[32mIn[6]\u001B[39m\u001B[32m, line 6\u001B[39m\n\u001B[32m      3\u001B[39m engine = easyConnect()\n\u001B[32m      4\u001B[39m basic_info_query = \u001B[33m\"\u001B[39m\u001B[33mselect ts_code from stock_basic_info where list_status=\u001B[39m\u001B[33m'\u001B[39m\u001B[33mL\u001B[39m\u001B[33m'\u001B[39m\u001B[33m\"\u001B[39m\n\u001B[32m----> \u001B[39m\u001B[32m6\u001B[39m ts_codes = \u001B[43mpd\u001B[49m\u001B[43m.\u001B[49m\u001B[43mread_sql\u001B[49m\u001B[43m(\u001B[49m\u001B[43mbasic_info_query\u001B[49m\u001B[43m,\u001B[49m\u001B[43m \u001B[49m\u001B[43mcon\u001B[49m\u001B[43m=\u001B[49m\u001B[43mengine\u001B[49m\u001B[43m)\u001B[49m\n",
      "\u001B[36mFile \u001B[39m\u001B[32m~\\anaconda3\\envs\\tushare_3.11\\Lib\\site-packages\\pandas\\io\\sql.py:736\u001B[39m, in \u001B[36mread_sql\u001B[39m\u001B[34m(sql, con, index_col, coerce_float, params, parse_dates, columns, chunksize, dtype_backend, dtype)\u001B[39m\n\u001B[32m    726\u001B[39m     \u001B[38;5;28;01mreturn\u001B[39;00m pandas_sql.read_table(\n\u001B[32m    727\u001B[39m         sql,\n\u001B[32m    728\u001B[39m         index_col=index_col,\n\u001B[32m   (...)\u001B[39m\u001B[32m    733\u001B[39m         dtype_backend=dtype_backend,\n\u001B[32m    734\u001B[39m     )\n\u001B[32m    735\u001B[39m \u001B[38;5;28;01melse\u001B[39;00m:\n\u001B[32m--> \u001B[39m\u001B[32m736\u001B[39m     \u001B[38;5;28;01mreturn\u001B[39;00m \u001B[43mpandas_sql\u001B[49m\u001B[43m.\u001B[49m\u001B[43mread_query\u001B[49m\u001B[43m(\u001B[49m\n\u001B[32m    737\u001B[39m \u001B[43m        \u001B[49m\u001B[43msql\u001B[49m\u001B[43m,\u001B[49m\n\u001B[32m    738\u001B[39m \u001B[43m        \u001B[49m\u001B[43mindex_col\u001B[49m\u001B[43m=\u001B[49m\u001B[43mindex_col\u001B[49m\u001B[43m,\u001B[49m\n\u001B[32m    739\u001B[39m \u001B[43m        \u001B[49m\u001B[43mparams\u001B[49m\u001B[43m=\u001B[49m\u001B[43mparams\u001B[49m\u001B[43m,\u001B[49m\n\u001B[32m    740\u001B[39m \u001B[43m        \u001B[49m\u001B[43mcoerce_float\u001B[49m\u001B[43m=\u001B[49m\u001B[43mcoerce_float\u001B[49m\u001B[43m,\u001B[49m\n\u001B[32m    741\u001B[39m \u001B[43m        \u001B[49m\u001B[43mparse_dates\u001B[49m\u001B[43m=\u001B[49m\u001B[43mparse_dates\u001B[49m\u001B[43m,\u001B[49m\n\u001B[32m    742\u001B[39m \u001B[43m        \u001B[49m\u001B[43mchunksize\u001B[49m\u001B[43m=\u001B[49m\u001B[43mchunksize\u001B[49m\u001B[43m,\u001B[49m\n\u001B[32m    743\u001B[39m \u001B[43m        \u001B[49m\u001B[43mdtype_backend\u001B[49m\u001B[43m=\u001B[49m\u001B[43mdtype_backend\u001B[49m\u001B[43m,\u001B[49m\n\u001B[32m    744\u001B[39m \u001B[43m        \u001B[49m\u001B[43mdtype\u001B[49m\u001B[43m=\u001B[49m\u001B[43mdtype\u001B[49m\u001B[43m,\u001B[49m\n\u001B[32m    745\u001B[39m \u001B[43m    \u001B[49m\u001B[43m)\u001B[49m\n",
      "\u001B[36mFile \u001B[39m\u001B[32m~\\anaconda3\\envs\\tushare_3.11\\Lib\\site-packages\\pandas\\io\\sql.py:1848\u001B[39m, in \u001B[36mSQLDatabase.read_query\u001B[39m\u001B[34m(self, sql, index_col, coerce_float, parse_dates, params, chunksize, dtype, dtype_backend)\u001B[39m\n\u001B[32m   1791\u001B[39m \u001B[38;5;28;01mdef\u001B[39;00m\u001B[38;5;250m \u001B[39m\u001B[34mread_query\u001B[39m(\n\u001B[32m   1792\u001B[39m     \u001B[38;5;28mself\u001B[39m,\n\u001B[32m   1793\u001B[39m     sql: \u001B[38;5;28mstr\u001B[39m,\n\u001B[32m   (...)\u001B[39m\u001B[32m   1800\u001B[39m     dtype_backend: DtypeBackend | Literal[\u001B[33m\"\u001B[39m\u001B[33mnumpy\u001B[39m\u001B[33m\"\u001B[39m] = \u001B[33m\"\u001B[39m\u001B[33mnumpy\u001B[39m\u001B[33m\"\u001B[39m,\n\u001B[32m   1801\u001B[39m ) -> DataFrame | Iterator[DataFrame]:\n\u001B[32m   1802\u001B[39m \u001B[38;5;250m    \u001B[39m\u001B[33;03m\"\"\"\u001B[39;00m\n\u001B[32m   1803\u001B[39m \u001B[33;03m    Read SQL query into a DataFrame.\u001B[39;00m\n\u001B[32m   1804\u001B[39m \n\u001B[32m   (...)\u001B[39m\u001B[32m   1846\u001B[39m \n\u001B[32m   1847\u001B[39m \u001B[33;03m    \"\"\"\u001B[39;00m\n\u001B[32m-> \u001B[39m\u001B[32m1848\u001B[39m     result = \u001B[38;5;28;43mself\u001B[39;49m\u001B[43m.\u001B[49m\u001B[43mexecute\u001B[49m\u001B[43m(\u001B[49m\u001B[43msql\u001B[49m\u001B[43m,\u001B[49m\u001B[43m \u001B[49m\u001B[43mparams\u001B[49m\u001B[43m)\u001B[49m\n\u001B[32m   1849\u001B[39m     columns = result.keys()\n\u001B[32m   1851\u001B[39m     \u001B[38;5;28;01mif\u001B[39;00m chunksize \u001B[38;5;129;01mis\u001B[39;00m \u001B[38;5;129;01mnot\u001B[39;00m \u001B[38;5;28;01mNone\u001B[39;00m:\n",
      "\u001B[36mFile \u001B[39m\u001B[32m~\\anaconda3\\envs\\tushare_3.11\\Lib\\site-packages\\pandas\\io\\sql.py:1671\u001B[39m, in \u001B[36mSQLDatabase.execute\u001B[39m\u001B[34m(self, sql, params)\u001B[39m\n\u001B[32m   1669\u001B[39m args = [] \u001B[38;5;28;01mif\u001B[39;00m params \u001B[38;5;129;01mis\u001B[39;00m \u001B[38;5;28;01mNone\u001B[39;00m \u001B[38;5;28;01melse\u001B[39;00m [params]\n\u001B[32m   1670\u001B[39m \u001B[38;5;28;01mif\u001B[39;00m \u001B[38;5;28misinstance\u001B[39m(sql, \u001B[38;5;28mstr\u001B[39m):\n\u001B[32m-> \u001B[39m\u001B[32m1671\u001B[39m     \u001B[38;5;28;01mreturn\u001B[39;00m \u001B[38;5;28;43mself\u001B[39;49m\u001B[43m.\u001B[49m\u001B[43mcon\u001B[49m\u001B[43m.\u001B[49m\u001B[43mexec_driver_sql\u001B[49m\u001B[43m(\u001B[49m\u001B[43msql\u001B[49m\u001B[43m,\u001B[49m\u001B[43m \u001B[49m\u001B[43m*\u001B[49m\u001B[43margs\u001B[49m\u001B[43m)\u001B[49m\n\u001B[32m   1672\u001B[39m \u001B[38;5;28;01mreturn\u001B[39;00m \u001B[38;5;28mself\u001B[39m.con.execute(sql, *args)\n",
      "\u001B[36mFile \u001B[39m\u001B[32m~\\anaconda3\\envs\\tushare_3.11\\Lib\\site-packages\\sqlalchemy\\engine\\base.py:1773\u001B[39m, in \u001B[36mConnection.exec_driver_sql\u001B[39m\u001B[34m(self, statement, parameters, execution_options)\u001B[39m\n\u001B[32m   1768\u001B[39m execution_options = \u001B[38;5;28mself\u001B[39m._execution_options.merge_with(\n\u001B[32m   1769\u001B[39m     execution_options\n\u001B[32m   1770\u001B[39m )\n\u001B[32m   1772\u001B[39m dialect = \u001B[38;5;28mself\u001B[39m.dialect\n\u001B[32m-> \u001B[39m\u001B[32m1773\u001B[39m ret = \u001B[38;5;28;43mself\u001B[39;49m\u001B[43m.\u001B[49m\u001B[43m_execute_context\u001B[49m\u001B[43m(\u001B[49m\n\u001B[32m   1774\u001B[39m \u001B[43m    \u001B[49m\u001B[43mdialect\u001B[49m\u001B[43m,\u001B[49m\n\u001B[32m   1775\u001B[39m \u001B[43m    \u001B[49m\u001B[43mdialect\u001B[49m\u001B[43m.\u001B[49m\u001B[43mexecution_ctx_cls\u001B[49m\u001B[43m.\u001B[49m\u001B[43m_init_statement\u001B[49m\u001B[43m,\u001B[49m\n\u001B[32m   1776\u001B[39m \u001B[43m    \u001B[49m\u001B[43mstatement\u001B[49m\u001B[43m,\u001B[49m\n\u001B[32m   1777\u001B[39m \u001B[43m    \u001B[49m\u001B[38;5;28;43;01mNone\u001B[39;49;00m\u001B[43m,\u001B[49m\n\u001B[32m   1778\u001B[39m \u001B[43m    \u001B[49m\u001B[43mexecution_options\u001B[49m\u001B[43m,\u001B[49m\n\u001B[32m   1779\u001B[39m \u001B[43m    \u001B[49m\u001B[43mstatement\u001B[49m\u001B[43m,\u001B[49m\n\u001B[32m   1780\u001B[39m \u001B[43m    \u001B[49m\u001B[43mdistilled_parameters\u001B[49m\u001B[43m,\u001B[49m\n\u001B[32m   1781\u001B[39m \u001B[43m\u001B[49m\u001B[43m)\u001B[49m\n\u001B[32m   1783\u001B[39m \u001B[38;5;28;01mreturn\u001B[39;00m ret\n",
      "\u001B[36mFile \u001B[39m\u001B[32m~\\anaconda3\\envs\\tushare_3.11\\Lib\\site-packages\\sqlalchemy\\engine\\base.py:1840\u001B[39m, in \u001B[36mConnection._execute_context\u001B[39m\u001B[34m(self, dialect, constructor, statement, parameters, execution_options, *args, **kw)\u001B[39m\n\u001B[32m   1838\u001B[39m     \u001B[38;5;28;01mreturn\u001B[39;00m \u001B[38;5;28mself\u001B[39m._exec_insertmany_context(dialect, context)\n\u001B[32m   1839\u001B[39m \u001B[38;5;28;01melse\u001B[39;00m:\n\u001B[32m-> \u001B[39m\u001B[32m1840\u001B[39m     \u001B[38;5;28;01mreturn\u001B[39;00m \u001B[38;5;28;43mself\u001B[39;49m\u001B[43m.\u001B[49m\u001B[43m_exec_single_context\u001B[49m\u001B[43m(\u001B[49m\n\u001B[32m   1841\u001B[39m \u001B[43m        \u001B[49m\u001B[43mdialect\u001B[49m\u001B[43m,\u001B[49m\u001B[43m \u001B[49m\u001B[43mcontext\u001B[49m\u001B[43m,\u001B[49m\u001B[43m \u001B[49m\u001B[43mstatement\u001B[49m\u001B[43m,\u001B[49m\u001B[43m \u001B[49m\u001B[43mparameters\u001B[49m\n\u001B[32m   1842\u001B[39m \u001B[43m    \u001B[49m\u001B[43m)\u001B[49m\n",
      "\u001B[36mFile \u001B[39m\u001B[32m~\\anaconda3\\envs\\tushare_3.11\\Lib\\site-packages\\sqlalchemy\\engine\\base.py:1980\u001B[39m, in \u001B[36mConnection._exec_single_context\u001B[39m\u001B[34m(self, dialect, context, statement, parameters)\u001B[39m\n\u001B[32m   1977\u001B[39m     result = context._setup_result_proxy()\n\u001B[32m   1979\u001B[39m \u001B[38;5;28;01mexcept\u001B[39;00m \u001B[38;5;167;01mBaseException\u001B[39;00m \u001B[38;5;28;01mas\u001B[39;00m e:\n\u001B[32m-> \u001B[39m\u001B[32m1980\u001B[39m     \u001B[38;5;28;43mself\u001B[39;49m\u001B[43m.\u001B[49m\u001B[43m_handle_dbapi_exception\u001B[49m\u001B[43m(\u001B[49m\n\u001B[32m   1981\u001B[39m \u001B[43m        \u001B[49m\u001B[43me\u001B[49m\u001B[43m,\u001B[49m\u001B[43m \u001B[49m\u001B[43mstr_statement\u001B[49m\u001B[43m,\u001B[49m\u001B[43m \u001B[49m\u001B[43meffective_parameters\u001B[49m\u001B[43m,\u001B[49m\u001B[43m \u001B[49m\u001B[43mcursor\u001B[49m\u001B[43m,\u001B[49m\u001B[43m \u001B[49m\u001B[43mcontext\u001B[49m\n\u001B[32m   1982\u001B[39m \u001B[43m    \u001B[49m\u001B[43m)\u001B[49m\n\u001B[32m   1984\u001B[39m \u001B[38;5;28;01mreturn\u001B[39;00m result\n",
      "\u001B[36mFile \u001B[39m\u001B[32m~\\anaconda3\\envs\\tushare_3.11\\Lib\\site-packages\\sqlalchemy\\engine\\base.py:2349\u001B[39m, in \u001B[36mConnection._handle_dbapi_exception\u001B[39m\u001B[34m(self, e, statement, parameters, cursor, context, is_sub_exec)\u001B[39m\n\u001B[32m   2347\u001B[39m \u001B[38;5;28;01melif\u001B[39;00m should_wrap:\n\u001B[32m   2348\u001B[39m     \u001B[38;5;28;01massert\u001B[39;00m sqlalchemy_exception \u001B[38;5;129;01mis\u001B[39;00m \u001B[38;5;129;01mnot\u001B[39;00m \u001B[38;5;28;01mNone\u001B[39;00m\n\u001B[32m-> \u001B[39m\u001B[32m2349\u001B[39m     \u001B[38;5;28;01mraise\u001B[39;00m sqlalchemy_exception.with_traceback(exc_info[\u001B[32m2\u001B[39m]) \u001B[38;5;28;01mfrom\u001B[39;00m\u001B[38;5;250m \u001B[39m\u001B[34;01me\u001B[39;00m\n\u001B[32m   2350\u001B[39m \u001B[38;5;28;01melse\u001B[39;00m:\n\u001B[32m   2351\u001B[39m     \u001B[38;5;28;01massert\u001B[39;00m exc_info[\u001B[32m1\u001B[39m] \u001B[38;5;129;01mis\u001B[39;00m \u001B[38;5;129;01mnot\u001B[39;00m \u001B[38;5;28;01mNone\u001B[39;00m\n",
      "\u001B[36mFile \u001B[39m\u001B[32m~\\anaconda3\\envs\\tushare_3.11\\Lib\\site-packages\\sqlalchemy\\engine\\base.py:1961\u001B[39m, in \u001B[36mConnection._exec_single_context\u001B[39m\u001B[34m(self, dialect, context, statement, parameters)\u001B[39m\n\u001B[32m   1959\u001B[39m                 \u001B[38;5;28;01mbreak\u001B[39;00m\n\u001B[32m   1960\u001B[39m     \u001B[38;5;28;01mif\u001B[39;00m \u001B[38;5;129;01mnot\u001B[39;00m evt_handled:\n\u001B[32m-> \u001B[39m\u001B[32m1961\u001B[39m         \u001B[38;5;28;43mself\u001B[39;49m\u001B[43m.\u001B[49m\u001B[43mdialect\u001B[49m\u001B[43m.\u001B[49m\u001B[43mdo_execute\u001B[49m\u001B[43m(\u001B[49m\n\u001B[32m   1962\u001B[39m \u001B[43m            \u001B[49m\u001B[43mcursor\u001B[49m\u001B[43m,\u001B[49m\u001B[43m \u001B[49m\u001B[43mstr_statement\u001B[49m\u001B[43m,\u001B[49m\u001B[43m \u001B[49m\u001B[43meffective_parameters\u001B[49m\u001B[43m,\u001B[49m\u001B[43m \u001B[49m\u001B[43mcontext\u001B[49m\n\u001B[32m   1963\u001B[39m \u001B[43m        \u001B[49m\u001B[43m)\u001B[49m\n\u001B[32m   1965\u001B[39m \u001B[38;5;28;01mif\u001B[39;00m \u001B[38;5;28mself\u001B[39m._has_events \u001B[38;5;129;01mor\u001B[39;00m \u001B[38;5;28mself\u001B[39m.engine._has_events:\n\u001B[32m   1966\u001B[39m     \u001B[38;5;28mself\u001B[39m.dispatch.after_cursor_execute(\n\u001B[32m   1967\u001B[39m         \u001B[38;5;28mself\u001B[39m,\n\u001B[32m   1968\u001B[39m         cursor,\n\u001B[32m   (...)\u001B[39m\u001B[32m   1972\u001B[39m         context.executemany,\n\u001B[32m   1973\u001B[39m     )\n",
      "\u001B[36mFile \u001B[39m\u001B[32m~\\anaconda3\\envs\\tushare_3.11\\Lib\\site-packages\\sqlalchemy\\engine\\default.py:944\u001B[39m, in \u001B[36mDefaultDialect.do_execute\u001B[39m\u001B[34m(self, cursor, statement, parameters, context)\u001B[39m\n\u001B[32m    943\u001B[39m \u001B[38;5;28;01mdef\u001B[39;00m\u001B[38;5;250m \u001B[39m\u001B[34mdo_execute\u001B[39m(\u001B[38;5;28mself\u001B[39m, cursor, statement, parameters, context=\u001B[38;5;28;01mNone\u001B[39;00m):\n\u001B[32m--> \u001B[39m\u001B[32m944\u001B[39m     \u001B[43mcursor\u001B[49m\u001B[43m.\u001B[49m\u001B[43mexecute\u001B[49m\u001B[43m(\u001B[49m\u001B[43mstatement\u001B[49m\u001B[43m,\u001B[49m\u001B[43m \u001B[49m\u001B[43mparameters\u001B[49m\u001B[43m)\u001B[49m\n",
      "\u001B[36mFile \u001B[39m\u001B[32m~\\anaconda3\\envs\\tushare_3.11\\Lib\\site-packages\\pymysql\\cursors.py:153\u001B[39m, in \u001B[36mCursor.execute\u001B[39m\u001B[34m(self, query, args)\u001B[39m\n\u001B[32m    149\u001B[39m     \u001B[38;5;28;01mpass\u001B[39;00m\n\u001B[32m    151\u001B[39m query = \u001B[38;5;28mself\u001B[39m.mogrify(query, args)\n\u001B[32m--> \u001B[39m\u001B[32m153\u001B[39m result = \u001B[38;5;28;43mself\u001B[39;49m\u001B[43m.\u001B[49m\u001B[43m_query\u001B[49m\u001B[43m(\u001B[49m\u001B[43mquery\u001B[49m\u001B[43m)\u001B[49m\n\u001B[32m    154\u001B[39m \u001B[38;5;28mself\u001B[39m._executed = query\n\u001B[32m    155\u001B[39m \u001B[38;5;28;01mreturn\u001B[39;00m result\n",
      "\u001B[36mFile \u001B[39m\u001B[32m~\\anaconda3\\envs\\tushare_3.11\\Lib\\site-packages\\pymysql\\cursors.py:322\u001B[39m, in \u001B[36mCursor._query\u001B[39m\u001B[34m(self, q)\u001B[39m\n\u001B[32m    320\u001B[39m conn = \u001B[38;5;28mself\u001B[39m._get_db()\n\u001B[32m    321\u001B[39m \u001B[38;5;28mself\u001B[39m._clear_result()\n\u001B[32m--> \u001B[39m\u001B[32m322\u001B[39m \u001B[43mconn\u001B[49m\u001B[43m.\u001B[49m\u001B[43mquery\u001B[49m\u001B[43m(\u001B[49m\u001B[43mq\u001B[49m\u001B[43m)\u001B[49m\n\u001B[32m    323\u001B[39m \u001B[38;5;28mself\u001B[39m._do_get_result()\n\u001B[32m    324\u001B[39m \u001B[38;5;28;01mreturn\u001B[39;00m \u001B[38;5;28mself\u001B[39m.rowcount\n",
      "\u001B[36mFile \u001B[39m\u001B[32m~\\anaconda3\\envs\\tushare_3.11\\Lib\\site-packages\\pymysql\\connections.py:563\u001B[39m, in \u001B[36mConnection.query\u001B[39m\u001B[34m(self, sql, unbuffered)\u001B[39m\n\u001B[32m    561\u001B[39m     sql = sql.encode(\u001B[38;5;28mself\u001B[39m.encoding, \u001B[33m\"\u001B[39m\u001B[33msurrogateescape\u001B[39m\u001B[33m\"\u001B[39m)\n\u001B[32m    562\u001B[39m \u001B[38;5;28mself\u001B[39m._execute_command(COMMAND.COM_QUERY, sql)\n\u001B[32m--> \u001B[39m\u001B[32m563\u001B[39m \u001B[38;5;28mself\u001B[39m._affected_rows = \u001B[38;5;28;43mself\u001B[39;49m\u001B[43m.\u001B[49m\u001B[43m_read_query_result\u001B[49m\u001B[43m(\u001B[49m\u001B[43munbuffered\u001B[49m\u001B[43m=\u001B[49m\u001B[43munbuffered\u001B[49m\u001B[43m)\u001B[49m\n\u001B[32m    564\u001B[39m \u001B[38;5;28;01mreturn\u001B[39;00m \u001B[38;5;28mself\u001B[39m._affected_rows\n",
      "\u001B[36mFile \u001B[39m\u001B[32m~\\anaconda3\\envs\\tushare_3.11\\Lib\\site-packages\\pymysql\\connections.py:825\u001B[39m, in \u001B[36mConnection._read_query_result\u001B[39m\u001B[34m(self, unbuffered)\u001B[39m\n\u001B[32m    823\u001B[39m \u001B[38;5;28;01melse\u001B[39;00m:\n\u001B[32m    824\u001B[39m     result = MySQLResult(\u001B[38;5;28mself\u001B[39m)\n\u001B[32m--> \u001B[39m\u001B[32m825\u001B[39m     \u001B[43mresult\u001B[49m\u001B[43m.\u001B[49m\u001B[43mread\u001B[49m\u001B[43m(\u001B[49m\u001B[43m)\u001B[49m\n\u001B[32m    826\u001B[39m \u001B[38;5;28mself\u001B[39m._result = result\n\u001B[32m    827\u001B[39m \u001B[38;5;28;01mif\u001B[39;00m result.server_status \u001B[38;5;129;01mis\u001B[39;00m \u001B[38;5;129;01mnot\u001B[39;00m \u001B[38;5;28;01mNone\u001B[39;00m:\n",
      "\u001B[36mFile \u001B[39m\u001B[32m~\\anaconda3\\envs\\tushare_3.11\\Lib\\site-packages\\pymysql\\connections.py:1199\u001B[39m, in \u001B[36mMySQLResult.read\u001B[39m\u001B[34m(self)\u001B[39m\n\u001B[32m   1197\u001B[39m \u001B[38;5;28;01mdef\u001B[39;00m\u001B[38;5;250m \u001B[39m\u001B[34mread\u001B[39m(\u001B[38;5;28mself\u001B[39m):\n\u001B[32m   1198\u001B[39m     \u001B[38;5;28;01mtry\u001B[39;00m:\n\u001B[32m-> \u001B[39m\u001B[32m1199\u001B[39m         first_packet = \u001B[38;5;28;43mself\u001B[39;49m\u001B[43m.\u001B[49m\u001B[43mconnection\u001B[49m\u001B[43m.\u001B[49m\u001B[43m_read_packet\u001B[49m\u001B[43m(\u001B[49m\u001B[43m)\u001B[49m\n\u001B[32m   1201\u001B[39m         \u001B[38;5;28;01mif\u001B[39;00m first_packet.is_ok_packet():\n\u001B[32m   1202\u001B[39m             \u001B[38;5;28mself\u001B[39m._read_ok_packet(first_packet)\n",
      "\u001B[36mFile \u001B[39m\u001B[32m~\\anaconda3\\envs\\tushare_3.11\\Lib\\site-packages\\pymysql\\connections.py:775\u001B[39m, in \u001B[36mConnection._read_packet\u001B[39m\u001B[34m(self, packet_type)\u001B[39m\n\u001B[32m    773\u001B[39m     \u001B[38;5;28;01mif\u001B[39;00m \u001B[38;5;28mself\u001B[39m._result \u001B[38;5;129;01mis\u001B[39;00m \u001B[38;5;129;01mnot\u001B[39;00m \u001B[38;5;28;01mNone\u001B[39;00m \u001B[38;5;129;01mand\u001B[39;00m \u001B[38;5;28mself\u001B[39m._result.unbuffered_active \u001B[38;5;129;01mis\u001B[39;00m \u001B[38;5;28;01mTrue\u001B[39;00m:\n\u001B[32m    774\u001B[39m         \u001B[38;5;28mself\u001B[39m._result.unbuffered_active = \u001B[38;5;28;01mFalse\u001B[39;00m\n\u001B[32m--> \u001B[39m\u001B[32m775\u001B[39m     \u001B[43mpacket\u001B[49m\u001B[43m.\u001B[49m\u001B[43mraise_for_error\u001B[49m\u001B[43m(\u001B[49m\u001B[43m)\u001B[49m\n\u001B[32m    776\u001B[39m \u001B[38;5;28;01mreturn\u001B[39;00m packet\n",
      "\u001B[36mFile \u001B[39m\u001B[32m~\\anaconda3\\envs\\tushare_3.11\\Lib\\site-packages\\pymysql\\protocol.py:219\u001B[39m, in \u001B[36mMysqlPacket.raise_for_error\u001B[39m\u001B[34m(self)\u001B[39m\n\u001B[32m    217\u001B[39m \u001B[38;5;28;01mif\u001B[39;00m DEBUG:\n\u001B[32m    218\u001B[39m     \u001B[38;5;28mprint\u001B[39m(\u001B[33m\"\u001B[39m\u001B[33merrno =\u001B[39m\u001B[33m\"\u001B[39m, errno)\n\u001B[32m--> \u001B[39m\u001B[32m219\u001B[39m \u001B[43merr\u001B[49m\u001B[43m.\u001B[49m\u001B[43mraise_mysql_exception\u001B[49m\u001B[43m(\u001B[49m\u001B[38;5;28;43mself\u001B[39;49m\u001B[43m.\u001B[49m\u001B[43m_data\u001B[49m\u001B[43m)\u001B[49m\n",
      "\u001B[36mFile \u001B[39m\u001B[32m~\\anaconda3\\envs\\tushare_3.11\\Lib\\site-packages\\pymysql\\err.py:150\u001B[39m, in \u001B[36mraise_mysql_exception\u001B[39m\u001B[34m(data)\u001B[39m\n\u001B[32m    148\u001B[39m \u001B[38;5;28;01mif\u001B[39;00m errorclass \u001B[38;5;129;01mis\u001B[39;00m \u001B[38;5;28;01mNone\u001B[39;00m:\n\u001B[32m    149\u001B[39m     errorclass = InternalError \u001B[38;5;28;01mif\u001B[39;00m errno < \u001B[32m1000\u001B[39m \u001B[38;5;28;01melse\u001B[39;00m OperationalError\n\u001B[32m--> \u001B[39m\u001B[32m150\u001B[39m \u001B[38;5;28;01mraise\u001B[39;00m errorclass(errno, errval)\n",
      "\u001B[31mProgrammingError\u001B[39m: (pymysql.err.ProgrammingError) (1146, \"Table 'demo2.stock_basic_info' doesn't exist\")\n[SQL: select ts_code from stock_basic_info where list_status='L']\n(Background on this error at: https://sqlalche.me/e/20/f405)"
     ]
    }
   ],
   "execution_count": 6
  },
  {
   "metadata": {},
   "cell_type": "code",
   "outputs": [],
   "execution_count": null,
   "source": "",
   "id": "792a52bd00c14ccf"
  }
 ],
 "metadata": {
  "kernelspec": {
   "display_name": "Python 3",
   "language": "python",
   "name": "python3"
  },
  "language_info": {
   "codemirror_mode": {
    "name": "ipython",
    "version": 2
   },
   "file_extension": ".py",
   "mimetype": "text/x-python",
   "name": "python",
   "nbconvert_exporter": "python",
   "pygments_lexer": "ipython2",
   "version": "2.7.6"
  }
 },
 "nbformat": 4,
 "nbformat_minor": 5
}
