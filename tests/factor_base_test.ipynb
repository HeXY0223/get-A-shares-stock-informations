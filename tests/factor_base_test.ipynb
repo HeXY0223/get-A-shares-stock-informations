{
 "cells": [
  {
   "cell_type": "code",
   "id": "initial_id",
   "metadata": {
    "collapsed": true,
    "ExecuteTime": {
     "end_time": "2025-08-21T00:50:09.923075Z",
     "start_time": "2025-08-21T00:50:09.085236Z"
    }
   },
   "source": [
    "import abc\n",
    "import pandas as pd\n",
    "from sqlalchemy.engine import Engine\n",
    "from utils.utils import easyConnect, upsert_to_mysql\n",
    "import numpy as np"
   ],
   "outputs": [
    {
     "name": "stderr",
     "output_type": "stream",
     "text": [
      "\u001B[32m08-21 08:50:09\u001B[0m | \u001B[1mINFO   \u001B[0m | \u001B[36mutils.logger_config\u001B[0m:\u001B[36m_setup_logger\u001B[0m | \u001B[1m📝 日志系统启动成功\u001B[0m\n",
      "\u001B[32m08-21 08:50:09\u001B[0m | \u001B[1mINFO   \u001B[0m | \u001B[36mutils.logger_config\u001B[0m:\u001B[36m_setup_logger\u001B[0m | \u001B[1m📁 主日志文件: C:\\Users\\31021\\Desktop\\Quantitative_Trading\\Coding\\Get_Stock_Infos\\logs\\20250821-1.log\u001B[0m\n",
      "\u001B[32m08-21 08:50:09\u001B[0m | \u001B[1mINFO   \u001B[0m | \u001B[36mutils.logger_config\u001B[0m:\u001B[36m_setup_logger\u001B[0m | \u001B[1m🔴 错误日志文件: C:\\Users\\31021\\Desktop\\Quantitative_Trading\\Coding\\Get_Stock_Infos\\logs\\20250821-1_error.log\u001B[0m\n",
      "\u001B[32m08-21 08:50:09\u001B[0m | \u001B[1mINFO   \u001B[0m | \u001B[36mutils.logger_config\u001B[0m:\u001B[36m_setup_logger\u001B[0m | \u001B[1m📂 项目根目录: C:\\Users\\31021\\Desktop\\Quantitative_Trading\\Coding\\Get_Stock_Infos\u001B[0m\n"
     ]
    }
   ],
   "execution_count": 1
  },
  {
   "metadata": {
    "ExecuteTime": {
     "end_time": "2025-08-21T00:56:58.239038Z",
     "start_time": "2025-08-21T00:56:58.230929Z"
    }
   },
   "cell_type": "code",
   "source": "df = pd.read_excel('../assets/test.xlsx')",
   "id": "ee7e3e21770d6a0a",
   "outputs": [],
   "execution_count": 15
  },
  {
   "metadata": {
    "ExecuteTime": {
     "end_time": "2025-08-21T00:56:59.276979Z",
     "start_time": "2025-08-21T00:56:59.270623Z"
    }
   },
   "cell_type": "code",
   "source": "df",
   "id": "81aa6ec17a58ad1b",
   "outputs": [
    {
     "data": {
      "text/plain": [
       "      ts_code trade_date  data1  data2\n",
       "0   000001.SZ 2024-08-18      2      6\n",
       "1   000001.SZ 2024-08-19      4     12\n",
       "2   000001.SZ 2024-08-20      5     15\n",
       "3   000001.SZ 2024-08-21      6     12\n",
       "4   000002.SZ 2024-08-18      3      6\n",
       "5   000002.SZ 2024-08-19     12     12\n",
       "6   000002.SZ 2024-08-20      6     12\n",
       "7   000002.SZ 2024-08-21      8      4\n",
       "8   000002.SZ 2024-08-22      9      3\n",
       "9   000002.SZ 2024-08-23     10     15\n",
       "10  000002.SZ 2024-08-24      8     12"
      ],
      "text/html": [
       "<div>\n",
       "<style scoped>\n",
       "    .dataframe tbody tr th:only-of-type {\n",
       "        vertical-align: middle;\n",
       "    }\n",
       "\n",
       "    .dataframe tbody tr th {\n",
       "        vertical-align: top;\n",
       "    }\n",
       "\n",
       "    .dataframe thead th {\n",
       "        text-align: right;\n",
       "    }\n",
       "</style>\n",
       "<table border=\"1\" class=\"dataframe\">\n",
       "  <thead>\n",
       "    <tr style=\"text-align: right;\">\n",
       "      <th></th>\n",
       "      <th>ts_code</th>\n",
       "      <th>trade_date</th>\n",
       "      <th>data1</th>\n",
       "      <th>data2</th>\n",
       "    </tr>\n",
       "  </thead>\n",
       "  <tbody>\n",
       "    <tr>\n",
       "      <th>0</th>\n",
       "      <td>000001.SZ</td>\n",
       "      <td>2024-08-18</td>\n",
       "      <td>2</td>\n",
       "      <td>6</td>\n",
       "    </tr>\n",
       "    <tr>\n",
       "      <th>1</th>\n",
       "      <td>000001.SZ</td>\n",
       "      <td>2024-08-19</td>\n",
       "      <td>4</td>\n",
       "      <td>12</td>\n",
       "    </tr>\n",
       "    <tr>\n",
       "      <th>2</th>\n",
       "      <td>000001.SZ</td>\n",
       "      <td>2024-08-20</td>\n",
       "      <td>5</td>\n",
       "      <td>15</td>\n",
       "    </tr>\n",
       "    <tr>\n",
       "      <th>3</th>\n",
       "      <td>000001.SZ</td>\n",
       "      <td>2024-08-21</td>\n",
       "      <td>6</td>\n",
       "      <td>12</td>\n",
       "    </tr>\n",
       "    <tr>\n",
       "      <th>4</th>\n",
       "      <td>000002.SZ</td>\n",
       "      <td>2024-08-18</td>\n",
       "      <td>3</td>\n",
       "      <td>6</td>\n",
       "    </tr>\n",
       "    <tr>\n",
       "      <th>5</th>\n",
       "      <td>000002.SZ</td>\n",
       "      <td>2024-08-19</td>\n",
       "      <td>12</td>\n",
       "      <td>12</td>\n",
       "    </tr>\n",
       "    <tr>\n",
       "      <th>6</th>\n",
       "      <td>000002.SZ</td>\n",
       "      <td>2024-08-20</td>\n",
       "      <td>6</td>\n",
       "      <td>12</td>\n",
       "    </tr>\n",
       "    <tr>\n",
       "      <th>7</th>\n",
       "      <td>000002.SZ</td>\n",
       "      <td>2024-08-21</td>\n",
       "      <td>8</td>\n",
       "      <td>4</td>\n",
       "    </tr>\n",
       "    <tr>\n",
       "      <th>8</th>\n",
       "      <td>000002.SZ</td>\n",
       "      <td>2024-08-22</td>\n",
       "      <td>9</td>\n",
       "      <td>3</td>\n",
       "    </tr>\n",
       "    <tr>\n",
       "      <th>9</th>\n",
       "      <td>000002.SZ</td>\n",
       "      <td>2024-08-23</td>\n",
       "      <td>10</td>\n",
       "      <td>15</td>\n",
       "    </tr>\n",
       "    <tr>\n",
       "      <th>10</th>\n",
       "      <td>000002.SZ</td>\n",
       "      <td>2024-08-24</td>\n",
       "      <td>8</td>\n",
       "      <td>12</td>\n",
       "    </tr>\n",
       "  </tbody>\n",
       "</table>\n",
       "</div>"
      ]
     },
     "execution_count": 16,
     "metadata": {},
     "output_type": "execute_result"
    }
   ],
   "execution_count": 16
  },
  {
   "metadata": {
    "ExecuteTime": {
     "end_time": "2025-08-21T00:50:35.726147Z",
     "start_time": "2025-08-21T00:50:35.720745Z"
    }
   },
   "cell_type": "code",
   "source": [
    "def avg(df, window: int, column: str, how: str):\n",
    "    \"\"\"\n",
    "    在 DataFrame 中添加一列移动平均值\n",
    "    :param df: DataFrame\n",
    "    :param window: 移动窗口大小\n",
    "    :param column: 要计算的列名\n",
    "    :param how: 平均方式, 'simple' | 'weighted' | 'exponential'\n",
    "    :return: None (直接修改 df)\n",
    "    \"\"\"\n",
    "    how = how.lower()\n",
    "    new_col = f\"{column}_{how}_ma{window}\"\n",
    "\n",
    "    if how == 'simple':\n",
    "        df[new_col] = df[column].rolling(window=window, min_periods=1).mean()\n",
    "\n",
    "    elif how == 'weighted':\n",
    "        def weighted_moving_average(x):\n",
    "            weights = np.arange(1, len(x) + 1)  # 权重 1,2,3,...,window\n",
    "            return np.dot(x, weights) / weights.sum()\n",
    "        df[new_col] = df[column].rolling(window=window, min_periods=1).apply(weighted_moving_average, raw=True)\n",
    "\n",
    "    elif how == 'exponential':\n",
    "        df[new_col] = df[column].ewm(span=window, adjust=False).mean()\n",
    "\n",
    "    else:\n",
    "        raise ValueError(\"how 必须是 'simple'、'weighted' 或 'exponential'\")"
   ],
   "id": "510576cbdc2d4fe",
   "outputs": [],
   "execution_count": 4
  },
  {
   "metadata": {
    "ExecuteTime": {
     "end_time": "2025-08-21T00:50:38.290418Z",
     "start_time": "2025-08-21T00:50:38.272016Z"
    }
   },
   "cell_type": "code",
   "source": [
    "avg(df, window=2, column='data1', how='simple')\n",
    "df"
   ],
   "id": "d531f701ddce66b8",
   "outputs": [
    {
     "data": {
      "text/plain": [
       "      ts_code trade_date  data1  data2  data1_simple_ma2\n",
       "0   000001.SZ 2024-08-18      2      6               2.0\n",
       "1   000001.SZ 2024-08-19      4     12               3.0\n",
       "2   000001.SZ 2024-08-20      5     15               4.5\n",
       "3   000001.SZ 2024-08-21      6     12               5.5\n",
       "4   000002.SZ 2024-08-18      3      6               4.5\n",
       "5   000002.SZ 2024-08-19     12     12               7.5\n",
       "6   000002.SZ 2024-08-20      6     12               9.0\n",
       "7   000002.SZ 2024-08-21      8      4               7.0\n",
       "8   000002.SZ 2024-08-22      9      3               8.5\n",
       "9   000002.SZ 2024-08-23     10     15               9.5\n",
       "10  000002.SZ 2024-08-24      8     12               9.0"
      ],
      "text/html": [
       "<div>\n",
       "<style scoped>\n",
       "    .dataframe tbody tr th:only-of-type {\n",
       "        vertical-align: middle;\n",
       "    }\n",
       "\n",
       "    .dataframe tbody tr th {\n",
       "        vertical-align: top;\n",
       "    }\n",
       "\n",
       "    .dataframe thead th {\n",
       "        text-align: right;\n",
       "    }\n",
       "</style>\n",
       "<table border=\"1\" class=\"dataframe\">\n",
       "  <thead>\n",
       "    <tr style=\"text-align: right;\">\n",
       "      <th></th>\n",
       "      <th>ts_code</th>\n",
       "      <th>trade_date</th>\n",
       "      <th>data1</th>\n",
       "      <th>data2</th>\n",
       "      <th>data1_simple_ma2</th>\n",
       "    </tr>\n",
       "  </thead>\n",
       "  <tbody>\n",
       "    <tr>\n",
       "      <th>0</th>\n",
       "      <td>000001.SZ</td>\n",
       "      <td>2024-08-18</td>\n",
       "      <td>2</td>\n",
       "      <td>6</td>\n",
       "      <td>2.0</td>\n",
       "    </tr>\n",
       "    <tr>\n",
       "      <th>1</th>\n",
       "      <td>000001.SZ</td>\n",
       "      <td>2024-08-19</td>\n",
       "      <td>4</td>\n",
       "      <td>12</td>\n",
       "      <td>3.0</td>\n",
       "    </tr>\n",
       "    <tr>\n",
       "      <th>2</th>\n",
       "      <td>000001.SZ</td>\n",
       "      <td>2024-08-20</td>\n",
       "      <td>5</td>\n",
       "      <td>15</td>\n",
       "      <td>4.5</td>\n",
       "    </tr>\n",
       "    <tr>\n",
       "      <th>3</th>\n",
       "      <td>000001.SZ</td>\n",
       "      <td>2024-08-21</td>\n",
       "      <td>6</td>\n",
       "      <td>12</td>\n",
       "      <td>5.5</td>\n",
       "    </tr>\n",
       "    <tr>\n",
       "      <th>4</th>\n",
       "      <td>000002.SZ</td>\n",
       "      <td>2024-08-18</td>\n",
       "      <td>3</td>\n",
       "      <td>6</td>\n",
       "      <td>4.5</td>\n",
       "    </tr>\n",
       "    <tr>\n",
       "      <th>5</th>\n",
       "      <td>000002.SZ</td>\n",
       "      <td>2024-08-19</td>\n",
       "      <td>12</td>\n",
       "      <td>12</td>\n",
       "      <td>7.5</td>\n",
       "    </tr>\n",
       "    <tr>\n",
       "      <th>6</th>\n",
       "      <td>000002.SZ</td>\n",
       "      <td>2024-08-20</td>\n",
       "      <td>6</td>\n",
       "      <td>12</td>\n",
       "      <td>9.0</td>\n",
       "    </tr>\n",
       "    <tr>\n",
       "      <th>7</th>\n",
       "      <td>000002.SZ</td>\n",
       "      <td>2024-08-21</td>\n",
       "      <td>8</td>\n",
       "      <td>4</td>\n",
       "      <td>7.0</td>\n",
       "    </tr>\n",
       "    <tr>\n",
       "      <th>8</th>\n",
       "      <td>000002.SZ</td>\n",
       "      <td>2024-08-22</td>\n",
       "      <td>9</td>\n",
       "      <td>3</td>\n",
       "      <td>8.5</td>\n",
       "    </tr>\n",
       "    <tr>\n",
       "      <th>9</th>\n",
       "      <td>000002.SZ</td>\n",
       "      <td>2024-08-23</td>\n",
       "      <td>10</td>\n",
       "      <td>15</td>\n",
       "      <td>9.5</td>\n",
       "    </tr>\n",
       "    <tr>\n",
       "      <th>10</th>\n",
       "      <td>000002.SZ</td>\n",
       "      <td>2024-08-24</td>\n",
       "      <td>8</td>\n",
       "      <td>12</td>\n",
       "      <td>9.0</td>\n",
       "    </tr>\n",
       "  </tbody>\n",
       "</table>\n",
       "</div>"
      ]
     },
     "execution_count": 5,
     "metadata": {},
     "output_type": "execute_result"
    }
   ],
   "execution_count": 5
  },
  {
   "metadata": {
    "ExecuteTime": {
     "end_time": "2025-08-21T00:57:03.872243Z",
     "start_time": "2025-08-21T00:57:03.868148Z"
    }
   },
   "cell_type": "code",
   "source": [
    "def add(df, add1:str, add2:str, result:str=\"\"):\n",
    "    if result:\n",
    "        df[result] = df[add1]+df[add2]\n",
    "    else:\n",
    "        print(f'{add1}_add_{add2}')\n",
    "        df[f'{add1}_add_{add2}'] = df[add1]+df[add2]\n"
   ],
   "id": "f34d65646e4397fc",
   "outputs": [],
   "execution_count": 17
  },
  {
   "metadata": {
    "ExecuteTime": {
     "end_time": "2025-08-21T00:57:05.247702Z",
     "start_time": "2025-08-21T00:57:05.243108Z"
    }
   },
   "cell_type": "code",
   "source": "add(df, \"data1\",\"data2\")",
   "id": "4c24b9d2ae763693",
   "outputs": [
    {
     "name": "stdout",
     "output_type": "stream",
     "text": [
      "data1_add_data2\n"
     ]
    }
   ],
   "execution_count": 18
  },
  {
   "metadata": {
    "ExecuteTime": {
     "end_time": "2025-08-21T00:57:06.459657Z",
     "start_time": "2025-08-21T00:57:06.449028Z"
    }
   },
   "cell_type": "code",
   "source": "df",
   "id": "c0c8c947cefb8b19",
   "outputs": [
    {
     "data": {
      "text/plain": [
       "      ts_code trade_date  data1  data2  data1_add_data2\n",
       "0   000001.SZ 2024-08-18      2      6                8\n",
       "1   000001.SZ 2024-08-19      4     12               16\n",
       "2   000001.SZ 2024-08-20      5     15               20\n",
       "3   000001.SZ 2024-08-21      6     12               18\n",
       "4   000002.SZ 2024-08-18      3      6                9\n",
       "5   000002.SZ 2024-08-19     12     12               24\n",
       "6   000002.SZ 2024-08-20      6     12               18\n",
       "7   000002.SZ 2024-08-21      8      4               12\n",
       "8   000002.SZ 2024-08-22      9      3               12\n",
       "9   000002.SZ 2024-08-23     10     15               25\n",
       "10  000002.SZ 2024-08-24      8     12               20"
      ],
      "text/html": [
       "<div>\n",
       "<style scoped>\n",
       "    .dataframe tbody tr th:only-of-type {\n",
       "        vertical-align: middle;\n",
       "    }\n",
       "\n",
       "    .dataframe tbody tr th {\n",
       "        vertical-align: top;\n",
       "    }\n",
       "\n",
       "    .dataframe thead th {\n",
       "        text-align: right;\n",
       "    }\n",
       "</style>\n",
       "<table border=\"1\" class=\"dataframe\">\n",
       "  <thead>\n",
       "    <tr style=\"text-align: right;\">\n",
       "      <th></th>\n",
       "      <th>ts_code</th>\n",
       "      <th>trade_date</th>\n",
       "      <th>data1</th>\n",
       "      <th>data2</th>\n",
       "      <th>data1_add_data2</th>\n",
       "    </tr>\n",
       "  </thead>\n",
       "  <tbody>\n",
       "    <tr>\n",
       "      <th>0</th>\n",
       "      <td>000001.SZ</td>\n",
       "      <td>2024-08-18</td>\n",
       "      <td>2</td>\n",
       "      <td>6</td>\n",
       "      <td>8</td>\n",
       "    </tr>\n",
       "    <tr>\n",
       "      <th>1</th>\n",
       "      <td>000001.SZ</td>\n",
       "      <td>2024-08-19</td>\n",
       "      <td>4</td>\n",
       "      <td>12</td>\n",
       "      <td>16</td>\n",
       "    </tr>\n",
       "    <tr>\n",
       "      <th>2</th>\n",
       "      <td>000001.SZ</td>\n",
       "      <td>2024-08-20</td>\n",
       "      <td>5</td>\n",
       "      <td>15</td>\n",
       "      <td>20</td>\n",
       "    </tr>\n",
       "    <tr>\n",
       "      <th>3</th>\n",
       "      <td>000001.SZ</td>\n",
       "      <td>2024-08-21</td>\n",
       "      <td>6</td>\n",
       "      <td>12</td>\n",
       "      <td>18</td>\n",
       "    </tr>\n",
       "    <tr>\n",
       "      <th>4</th>\n",
       "      <td>000002.SZ</td>\n",
       "      <td>2024-08-18</td>\n",
       "      <td>3</td>\n",
       "      <td>6</td>\n",
       "      <td>9</td>\n",
       "    </tr>\n",
       "    <tr>\n",
       "      <th>5</th>\n",
       "      <td>000002.SZ</td>\n",
       "      <td>2024-08-19</td>\n",
       "      <td>12</td>\n",
       "      <td>12</td>\n",
       "      <td>24</td>\n",
       "    </tr>\n",
       "    <tr>\n",
       "      <th>6</th>\n",
       "      <td>000002.SZ</td>\n",
       "      <td>2024-08-20</td>\n",
       "      <td>6</td>\n",
       "      <td>12</td>\n",
       "      <td>18</td>\n",
       "    </tr>\n",
       "    <tr>\n",
       "      <th>7</th>\n",
       "      <td>000002.SZ</td>\n",
       "      <td>2024-08-21</td>\n",
       "      <td>8</td>\n",
       "      <td>4</td>\n",
       "      <td>12</td>\n",
       "    </tr>\n",
       "    <tr>\n",
       "      <th>8</th>\n",
       "      <td>000002.SZ</td>\n",
       "      <td>2024-08-22</td>\n",
       "      <td>9</td>\n",
       "      <td>3</td>\n",
       "      <td>12</td>\n",
       "    </tr>\n",
       "    <tr>\n",
       "      <th>9</th>\n",
       "      <td>000002.SZ</td>\n",
       "      <td>2024-08-23</td>\n",
       "      <td>10</td>\n",
       "      <td>15</td>\n",
       "      <td>25</td>\n",
       "    </tr>\n",
       "    <tr>\n",
       "      <th>10</th>\n",
       "      <td>000002.SZ</td>\n",
       "      <td>2024-08-24</td>\n",
       "      <td>8</td>\n",
       "      <td>12</td>\n",
       "      <td>20</td>\n",
       "    </tr>\n",
       "  </tbody>\n",
       "</table>\n",
       "</div>"
      ]
     },
     "execution_count": 19,
     "metadata": {},
     "output_type": "execute_result"
    }
   ],
   "execution_count": 19
  },
  {
   "metadata": {
    "ExecuteTime": {
     "end_time": "2025-08-21T00:59:41.126382Z",
     "start_time": "2025-08-21T00:59:41.122714Z"
    }
   },
   "cell_type": "code",
   "source": [
    "def sub(df, sub1:str, sub2:str, result:str=\"\"):\n",
    "    if result:\n",
    "        df[result] = df[sub1]-df[sub2]\n",
    "    else:\n",
    "        print(f'{sub1}_sub_{sub2}')\n",
    "        df[f'{sub1}_sub_{sub2}'] = df[sub1]-df[sub2]"
   ],
   "id": "7b7bcafe6f784dca",
   "outputs": [],
   "execution_count": 26
  },
  {
   "metadata": {
    "ExecuteTime": {
     "end_time": "2025-08-21T01:00:01.265655Z",
     "start_time": "2025-08-21T01:00:01.258449Z"
    }
   },
   "cell_type": "code",
   "source": "sub(df, \"data1\",\"data2\")",
   "id": "259d4c688c937ad0",
   "outputs": [],
   "execution_count": 29
  },
  {
   "metadata": {
    "ExecuteTime": {
     "end_time": "2025-08-21T01:00:02.166285Z",
     "start_time": "2025-08-21T01:00:02.159460Z"
    }
   },
   "cell_type": "code",
   "source": "df",
   "id": "c1de9338f79526fc",
   "outputs": [
    {
     "data": {
      "text/plain": [
       "      ts_code trade_date  data1  data2  data1_add_data2  data1_sub_data2  ttt\n",
       "0   000001.SZ 2024-08-18      2      6                8               -4   -4\n",
       "1   000001.SZ 2024-08-19      4     12               16               -8   -8\n",
       "2   000001.SZ 2024-08-20      5     15               20              -10  -10\n",
       "3   000001.SZ 2024-08-21      6     12               18               -6   -6\n",
       "4   000002.SZ 2024-08-18      3      6                9               -3   -3\n",
       "5   000002.SZ 2024-08-19     12     12               24                0    0\n",
       "6   000002.SZ 2024-08-20      6     12               18               -6   -6\n",
       "7   000002.SZ 2024-08-21      8      4               12                4    4\n",
       "8   000002.SZ 2024-08-22      9      3               12                6    6\n",
       "9   000002.SZ 2024-08-23     10     15               25               -5   -5\n",
       "10  000002.SZ 2024-08-24      8     12               20               -4   -4"
      ],
      "text/html": [
       "<div>\n",
       "<style scoped>\n",
       "    .dataframe tbody tr th:only-of-type {\n",
       "        vertical-align: middle;\n",
       "    }\n",
       "\n",
       "    .dataframe tbody tr th {\n",
       "        vertical-align: top;\n",
       "    }\n",
       "\n",
       "    .dataframe thead th {\n",
       "        text-align: right;\n",
       "    }\n",
       "</style>\n",
       "<table border=\"1\" class=\"dataframe\">\n",
       "  <thead>\n",
       "    <tr style=\"text-align: right;\">\n",
       "      <th></th>\n",
       "      <th>ts_code</th>\n",
       "      <th>trade_date</th>\n",
       "      <th>data1</th>\n",
       "      <th>data2</th>\n",
       "      <th>data1_add_data2</th>\n",
       "      <th>data1_sub_data2</th>\n",
       "      <th>ttt</th>\n",
       "    </tr>\n",
       "  </thead>\n",
       "  <tbody>\n",
       "    <tr>\n",
       "      <th>0</th>\n",
       "      <td>000001.SZ</td>\n",
       "      <td>2024-08-18</td>\n",
       "      <td>2</td>\n",
       "      <td>6</td>\n",
       "      <td>8</td>\n",
       "      <td>-4</td>\n",
       "      <td>-4</td>\n",
       "    </tr>\n",
       "    <tr>\n",
       "      <th>1</th>\n",
       "      <td>000001.SZ</td>\n",
       "      <td>2024-08-19</td>\n",
       "      <td>4</td>\n",
       "      <td>12</td>\n",
       "      <td>16</td>\n",
       "      <td>-8</td>\n",
       "      <td>-8</td>\n",
       "    </tr>\n",
       "    <tr>\n",
       "      <th>2</th>\n",
       "      <td>000001.SZ</td>\n",
       "      <td>2024-08-20</td>\n",
       "      <td>5</td>\n",
       "      <td>15</td>\n",
       "      <td>20</td>\n",
       "      <td>-10</td>\n",
       "      <td>-10</td>\n",
       "    </tr>\n",
       "    <tr>\n",
       "      <th>3</th>\n",
       "      <td>000001.SZ</td>\n",
       "      <td>2024-08-21</td>\n",
       "      <td>6</td>\n",
       "      <td>12</td>\n",
       "      <td>18</td>\n",
       "      <td>-6</td>\n",
       "      <td>-6</td>\n",
       "    </tr>\n",
       "    <tr>\n",
       "      <th>4</th>\n",
       "      <td>000002.SZ</td>\n",
       "      <td>2024-08-18</td>\n",
       "      <td>3</td>\n",
       "      <td>6</td>\n",
       "      <td>9</td>\n",
       "      <td>-3</td>\n",
       "      <td>-3</td>\n",
       "    </tr>\n",
       "    <tr>\n",
       "      <th>5</th>\n",
       "      <td>000002.SZ</td>\n",
       "      <td>2024-08-19</td>\n",
       "      <td>12</td>\n",
       "      <td>12</td>\n",
       "      <td>24</td>\n",
       "      <td>0</td>\n",
       "      <td>0</td>\n",
       "    </tr>\n",
       "    <tr>\n",
       "      <th>6</th>\n",
       "      <td>000002.SZ</td>\n",
       "      <td>2024-08-20</td>\n",
       "      <td>6</td>\n",
       "      <td>12</td>\n",
       "      <td>18</td>\n",
       "      <td>-6</td>\n",
       "      <td>-6</td>\n",
       "    </tr>\n",
       "    <tr>\n",
       "      <th>7</th>\n",
       "      <td>000002.SZ</td>\n",
       "      <td>2024-08-21</td>\n",
       "      <td>8</td>\n",
       "      <td>4</td>\n",
       "      <td>12</td>\n",
       "      <td>4</td>\n",
       "      <td>4</td>\n",
       "    </tr>\n",
       "    <tr>\n",
       "      <th>8</th>\n",
       "      <td>000002.SZ</td>\n",
       "      <td>2024-08-22</td>\n",
       "      <td>9</td>\n",
       "      <td>3</td>\n",
       "      <td>12</td>\n",
       "      <td>6</td>\n",
       "      <td>6</td>\n",
       "    </tr>\n",
       "    <tr>\n",
       "      <th>9</th>\n",
       "      <td>000002.SZ</td>\n",
       "      <td>2024-08-23</td>\n",
       "      <td>10</td>\n",
       "      <td>15</td>\n",
       "      <td>25</td>\n",
       "      <td>-5</td>\n",
       "      <td>-5</td>\n",
       "    </tr>\n",
       "    <tr>\n",
       "      <th>10</th>\n",
       "      <td>000002.SZ</td>\n",
       "      <td>2024-08-24</td>\n",
       "      <td>8</td>\n",
       "      <td>12</td>\n",
       "      <td>20</td>\n",
       "      <td>-4</td>\n",
       "      <td>-4</td>\n",
       "    </tr>\n",
       "  </tbody>\n",
       "</table>\n",
       "</div>"
      ]
     },
     "execution_count": 30,
     "metadata": {},
     "output_type": "execute_result"
    }
   ],
   "execution_count": 30
  },
  {
   "metadata": {
    "ExecuteTime": {
     "end_time": "2025-08-21T02:18:10.018535Z",
     "start_time": "2025-08-21T02:18:10.014176Z"
    }
   },
   "cell_type": "code",
   "source": [
    "def mul(df, mul1:str, mul2:str, result:str=\"\"):\n",
    "    if result:\n",
    "        df[result] = df[mul1]*df[mul2]\n",
    "    else:\n",
    "        print(f'{mul1}_mul_{mul2}')\n",
    "        df[f'{mul1}_mul_{mul2}'] = df[mul1]*df[mul2]\n",
    "\n",
    "def div(df, div1:str, div2:str, result:str=\"\"):\n",
    "    if result:\n",
    "        df[result] = df[div1]/df[div2]\n",
    "    else:\n",
    "        print(f'{div1}_div_{div2}')\n",
    "        df[f'{div1}_div_{div2}'] = df[div1]/df[div2]\n"
   ],
   "id": "835df0c8117c950c",
   "outputs": [],
   "execution_count": 31
  },
  {
   "metadata": {
    "ExecuteTime": {
     "end_time": "2025-08-21T02:18:16.157769Z",
     "start_time": "2025-08-21T02:18:16.154257Z"
    }
   },
   "cell_type": "code",
   "source": "mul(df, \"data1\",\"data2\")",
   "id": "e2197644d485ff77",
   "outputs": [
    {
     "name": "stdout",
     "output_type": "stream",
     "text": [
      "data1_mul_data2\n"
     ]
    }
   ],
   "execution_count": 32
  },
  {
   "metadata": {
    "ExecuteTime": {
     "end_time": "2025-08-21T02:18:30.418340Z",
     "start_time": "2025-08-21T02:18:30.405220Z"
    }
   },
   "cell_type": "code",
   "source": "div(df, \"data1\",\"data2\")",
   "id": "fd1a6c4446b11871",
   "outputs": [
    {
     "name": "stdout",
     "output_type": "stream",
     "text": [
      "data1_div_data2\n"
     ]
    }
   ],
   "execution_count": 33
  },
  {
   "metadata": {
    "ExecuteTime": {
     "end_time": "2025-08-21T02:18:44.804293Z",
     "start_time": "2025-08-21T02:18:44.797901Z"
    }
   },
   "cell_type": "code",
   "source": "df",
   "id": "665ddfd5ea87e609",
   "outputs": [
    {
     "data": {
      "text/plain": [
       "      ts_code trade_date  data1  data2  data1_add_data2  data1_sub_data2  ttt  \\\n",
       "0   000001.SZ 2024-08-18      2      6                8               -4   -4   \n",
       "1   000001.SZ 2024-08-19      4     12               16               -8   -8   \n",
       "2   000001.SZ 2024-08-20      5     15               20              -10  -10   \n",
       "3   000001.SZ 2024-08-21      6     12               18               -6   -6   \n",
       "4   000002.SZ 2024-08-18      3      6                9               -3   -3   \n",
       "5   000002.SZ 2024-08-19     12     12               24                0    0   \n",
       "6   000002.SZ 2024-08-20      6     12               18               -6   -6   \n",
       "7   000002.SZ 2024-08-21      8      4               12                4    4   \n",
       "8   000002.SZ 2024-08-22      9      3               12                6    6   \n",
       "9   000002.SZ 2024-08-23     10     15               25               -5   -5   \n",
       "10  000002.SZ 2024-08-24      8     12               20               -4   -4   \n",
       "\n",
       "    data1_mul_data2  data1_div_data2  \n",
       "0                12         0.333333  \n",
       "1                48         0.333333  \n",
       "2                75         0.333333  \n",
       "3                72         0.500000  \n",
       "4                18         0.500000  \n",
       "5               144         1.000000  \n",
       "6                72         0.500000  \n",
       "7                32         2.000000  \n",
       "8                27         3.000000  \n",
       "9               150         0.666667  \n",
       "10               96         0.666667  "
      ],
      "text/html": [
       "<div>\n",
       "<style scoped>\n",
       "    .dataframe tbody tr th:only-of-type {\n",
       "        vertical-align: middle;\n",
       "    }\n",
       "\n",
       "    .dataframe tbody tr th {\n",
       "        vertical-align: top;\n",
       "    }\n",
       "\n",
       "    .dataframe thead th {\n",
       "        text-align: right;\n",
       "    }\n",
       "</style>\n",
       "<table border=\"1\" class=\"dataframe\">\n",
       "  <thead>\n",
       "    <tr style=\"text-align: right;\">\n",
       "      <th></th>\n",
       "      <th>ts_code</th>\n",
       "      <th>trade_date</th>\n",
       "      <th>data1</th>\n",
       "      <th>data2</th>\n",
       "      <th>data1_add_data2</th>\n",
       "      <th>data1_sub_data2</th>\n",
       "      <th>ttt</th>\n",
       "      <th>data1_mul_data2</th>\n",
       "      <th>data1_div_data2</th>\n",
       "    </tr>\n",
       "  </thead>\n",
       "  <tbody>\n",
       "    <tr>\n",
       "      <th>0</th>\n",
       "      <td>000001.SZ</td>\n",
       "      <td>2024-08-18</td>\n",
       "      <td>2</td>\n",
       "      <td>6</td>\n",
       "      <td>8</td>\n",
       "      <td>-4</td>\n",
       "      <td>-4</td>\n",
       "      <td>12</td>\n",
       "      <td>0.333333</td>\n",
       "    </tr>\n",
       "    <tr>\n",
       "      <th>1</th>\n",
       "      <td>000001.SZ</td>\n",
       "      <td>2024-08-19</td>\n",
       "      <td>4</td>\n",
       "      <td>12</td>\n",
       "      <td>16</td>\n",
       "      <td>-8</td>\n",
       "      <td>-8</td>\n",
       "      <td>48</td>\n",
       "      <td>0.333333</td>\n",
       "    </tr>\n",
       "    <tr>\n",
       "      <th>2</th>\n",
       "      <td>000001.SZ</td>\n",
       "      <td>2024-08-20</td>\n",
       "      <td>5</td>\n",
       "      <td>15</td>\n",
       "      <td>20</td>\n",
       "      <td>-10</td>\n",
       "      <td>-10</td>\n",
       "      <td>75</td>\n",
       "      <td>0.333333</td>\n",
       "    </tr>\n",
       "    <tr>\n",
       "      <th>3</th>\n",
       "      <td>000001.SZ</td>\n",
       "      <td>2024-08-21</td>\n",
       "      <td>6</td>\n",
       "      <td>12</td>\n",
       "      <td>18</td>\n",
       "      <td>-6</td>\n",
       "      <td>-6</td>\n",
       "      <td>72</td>\n",
       "      <td>0.500000</td>\n",
       "    </tr>\n",
       "    <tr>\n",
       "      <th>4</th>\n",
       "      <td>000002.SZ</td>\n",
       "      <td>2024-08-18</td>\n",
       "      <td>3</td>\n",
       "      <td>6</td>\n",
       "      <td>9</td>\n",
       "      <td>-3</td>\n",
       "      <td>-3</td>\n",
       "      <td>18</td>\n",
       "      <td>0.500000</td>\n",
       "    </tr>\n",
       "    <tr>\n",
       "      <th>5</th>\n",
       "      <td>000002.SZ</td>\n",
       "      <td>2024-08-19</td>\n",
       "      <td>12</td>\n",
       "      <td>12</td>\n",
       "      <td>24</td>\n",
       "      <td>0</td>\n",
       "      <td>0</td>\n",
       "      <td>144</td>\n",
       "      <td>1.000000</td>\n",
       "    </tr>\n",
       "    <tr>\n",
       "      <th>6</th>\n",
       "      <td>000002.SZ</td>\n",
       "      <td>2024-08-20</td>\n",
       "      <td>6</td>\n",
       "      <td>12</td>\n",
       "      <td>18</td>\n",
       "      <td>-6</td>\n",
       "      <td>-6</td>\n",
       "      <td>72</td>\n",
       "      <td>0.500000</td>\n",
       "    </tr>\n",
       "    <tr>\n",
       "      <th>7</th>\n",
       "      <td>000002.SZ</td>\n",
       "      <td>2024-08-21</td>\n",
       "      <td>8</td>\n",
       "      <td>4</td>\n",
       "      <td>12</td>\n",
       "      <td>4</td>\n",
       "      <td>4</td>\n",
       "      <td>32</td>\n",
       "      <td>2.000000</td>\n",
       "    </tr>\n",
       "    <tr>\n",
       "      <th>8</th>\n",
       "      <td>000002.SZ</td>\n",
       "      <td>2024-08-22</td>\n",
       "      <td>9</td>\n",
       "      <td>3</td>\n",
       "      <td>12</td>\n",
       "      <td>6</td>\n",
       "      <td>6</td>\n",
       "      <td>27</td>\n",
       "      <td>3.000000</td>\n",
       "    </tr>\n",
       "    <tr>\n",
       "      <th>9</th>\n",
       "      <td>000002.SZ</td>\n",
       "      <td>2024-08-23</td>\n",
       "      <td>10</td>\n",
       "      <td>15</td>\n",
       "      <td>25</td>\n",
       "      <td>-5</td>\n",
       "      <td>-5</td>\n",
       "      <td>150</td>\n",
       "      <td>0.666667</td>\n",
       "    </tr>\n",
       "    <tr>\n",
       "      <th>10</th>\n",
       "      <td>000002.SZ</td>\n",
       "      <td>2024-08-24</td>\n",
       "      <td>8</td>\n",
       "      <td>12</td>\n",
       "      <td>20</td>\n",
       "      <td>-4</td>\n",
       "      <td>-4</td>\n",
       "      <td>96</td>\n",
       "      <td>0.666667</td>\n",
       "    </tr>\n",
       "  </tbody>\n",
       "</table>\n",
       "</div>"
      ]
     },
     "execution_count": 35,
     "metadata": {},
     "output_type": "execute_result"
    }
   ],
   "execution_count": 35
  },
  {
   "metadata": {},
   "cell_type": "code",
   "outputs": [],
   "execution_count": null,
   "source": [
    "def changedate(origin_date, days:int):\n",
    "    return (pd.to_datetime(origin_date)+pd.DateOffset(days=days)).strftime('%Y-%m-%d')"
   ],
   "id": "d6940d33fe839398"
  },
  {
   "metadata": {
    "ExecuteTime": {
     "end_time": "2025-08-21T02:29:19.156226Z",
     "start_time": "2025-08-21T02:29:19.152198Z"
    }
   },
   "cell_type": "code",
   "source": "",
   "id": "92fbed2389d334bd",
   "outputs": [
    {
     "data": {
      "text/plain": [
       "Timestamp('2025-08-31 00:00:00')"
      ]
     },
     "execution_count": 41,
     "metadata": {},
     "output_type": "execute_result"
    }
   ],
   "execution_count": 41
  },
  {
   "metadata": {
    "ExecuteTime": {
     "end_time": "2025-08-22T09:23:44.650526Z",
     "start_time": "2025-08-22T09:23:44.635823Z"
    }
   },
   "cell_type": "code",
   "source": [
    "import pandas as pd\n",
    "a = {'a':1,'b':2,'c':3}\n"
   ],
   "id": "2a8d97efa9fd3ead",
   "outputs": [
    {
     "ename": "KeyError",
     "evalue": "'d'",
     "output_type": "error",
     "traceback": [
      "\u001B[31m---------------------------------------------------------------------------\u001B[39m",
      "\u001B[31mKeyError\u001B[39m                                  Traceback (most recent call last)",
      "\u001B[36mCell\u001B[39m\u001B[36m \u001B[39m\u001B[32mIn[3]\u001B[39m\u001B[32m, line 3\u001B[39m\n\u001B[32m      1\u001B[39m \u001B[38;5;28;01mimport\u001B[39;00m\u001B[38;5;250m \u001B[39m\u001B[34;01mpandas\u001B[39;00m\u001B[38;5;250m \u001B[39m\u001B[38;5;28;01mas\u001B[39;00m\u001B[38;5;250m \u001B[39m\u001B[34;01mpd\u001B[39;00m\n\u001B[32m      2\u001B[39m a = {\u001B[33m'\u001B[39m\u001B[33ma\u001B[39m\u001B[33m'\u001B[39m:\u001B[32m1\u001B[39m,\u001B[33m'\u001B[39m\u001B[33mb\u001B[39m\u001B[33m'\u001B[39m:\u001B[32m2\u001B[39m,\u001B[33m'\u001B[39m\u001B[33mc\u001B[39m\u001B[33m'\u001B[39m:\u001B[32m3\u001B[39m}\n\u001B[32m----> \u001B[39m\u001B[32m3\u001B[39m \u001B[38;5;28mtype\u001B[39m(\u001B[43ma\u001B[49m\u001B[43m[\u001B[49m\u001B[33;43m'\u001B[39;49m\u001B[33;43md\u001B[39;49m\u001B[33;43m'\u001B[39;49m\u001B[43m]\u001B[49m)\n",
      "\u001B[31mKeyError\u001B[39m: 'd'"
     ]
    }
   ],
   "execution_count": 3
  },
  {
   "metadata": {
    "ExecuteTime": {
     "end_time": "2025-08-22T10:10:11.809762Z",
     "start_time": "2025-08-22T10:10:10.996756Z"
    }
   },
   "cell_type": "code",
   "source": [
    "import tushare as ts\n",
    "from utils.utils import easyPro\n",
    "easyPro()\n",
    "ts.pro_bar(ts_code='000300.SH',adj='qfq', start_date='20250501',end_date='20250801')"
   ],
   "id": "2c30f92f1c7ee32a",
   "outputs": [],
   "execution_count": 7
  },
  {
   "metadata": {
    "ExecuteTime": {
     "end_time": "2025-08-22T10:25:38.920862Z",
     "start_time": "2025-08-22T10:25:38.918506Z"
    }
   },
   "cell_type": "code",
   "source": [
    "a = \"1,2,3\"\n",
    "l = a.split(\",\")"
   ],
   "id": "b879a5ff4fa67be6",
   "outputs": [],
   "execution_count": 2
  },
  {
   "metadata": {},
   "cell_type": "code",
   "outputs": [],
   "execution_count": null,
   "source": [
    "b = [1]\n",
    "b."
   ],
   "id": "42e4fe358b4f61cd"
  }
 ],
 "metadata": {
  "kernelspec": {
   "display_name": "Python 3",
   "language": "python",
   "name": "python3"
  },
  "language_info": {
   "codemirror_mode": {
    "name": "ipython",
    "version": 2
   },
   "file_extension": ".py",
   "mimetype": "text/x-python",
   "name": "python",
   "nbconvert_exporter": "python",
   "pygments_lexer": "ipython2",
   "version": "2.7.6"
  }
 },
 "nbformat": 4,
 "nbformat_minor": 5
}
